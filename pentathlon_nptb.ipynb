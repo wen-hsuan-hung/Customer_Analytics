{
 "cells": [
  {
   "cell_type": "markdown",
   "metadata": {},
   "source": [
    "# Pentathlon-III: Next Product to Buy Models\n",
    "\n",
    "* Team-lead GitLab userid: 243\n",
    "* Group name: Korinna\n",
    "* Team member names: Siqi Chen, Wen-Hsuan Hung, Xinyu Lou, Yuefeng Mao"
   ]
  },
  {
   "cell_type": "markdown",
   "metadata": {},
   "source": [
    "## Setup\n",
    "\n",
    "Please complete this python notebook with your group by answering the questions in `pentathlon-nptb.pdf`. Create a Notebook and HTML file with all your results and comments and push both the Notebook and HTML file to GitLab when your team is done. All results MUST be reproducible (i.e., the TA and I must be able to recreate the HTML file from the Jupyter Notebook without changes or errors). This means that you should NOT use any python-packages that are not part of the rsm-msba-spark docker container.\n",
    "\n",
    "This is the third group assignment for MGTA 455 and you will be using Git and GitLab. If two people edit the same file at the same time you could get what is called a \"merge conflict\". This is not something serious but you should realize that Git will not decide for you who's change to accept so the team-lead will have to determine the edits to use. To avoid merge conflicts, **always** \"pull\" changes to the repo before you start working on any files. Then, when you are done, save and commit your changes, and then push them to GitLab. Make \"pull first\" a habit!\n",
    "\n",
    "If multiple people are going to work on the assignment at the same time I recommend you work in different notebooks. You can then `%run ...`  these \"sub\" notebooks from the main assignment file. You can seen an example of this in action below for the `model1.ipynb` notebook\n",
    "\n",
    "Some group work-flow tips:\n",
    "\n",
    "* Pull, edit, save, stage, commit, and push\n",
    "* Schedule who does what and when\n",
    "* Try to avoid working simultaneously on the same file \n",
    "* If you are going to work simultaneously, do it in different notebooks, e.g., \n",
    "    - model1.ipynb, model2.ipynb, model3.ipynb\n",
    "* Use the `%run ... ` command to bring different pieces of code together into the main jupyter notebook\n",
    "* Put python functions in modules that you can import from your notebooks. See the example below for the `example` function defined in `utils/functions.py`\n",
    "\n",
    "A graphical depiction of the group work-flow is shown below:\n",
    "\n",
    "![](images/git-group-workflow-wbg.png)\n",
    "\n",
    "Tutorial videos about using Git, GitLab, and GitGadget for group assignments:\n",
    "\n",
    "* Setup the MSBA server to use Git and GitLab: https://youtu.be/zJHwodmjatY\n",
    "* Dealing with Merge Conflicts: https://youtu.be/qFnyb8_rgTI\n",
    "* Group assignment practice: https://youtu.be/4Ty_94gIWeA"
   ]
  },
  {
   "cell_type": "code",
   "execution_count": 1,
   "metadata": {},
   "outputs": [],
   "source": [
    "import matplotlib as mpl\n",
    "import matplotlib.pyplot as plt\n",
    "import numpy as np\n",
    "import pandas as pd\n",
    "import pyrsm as rsm\n",
    "import statsmodels.formula.api as smf\n",
    "from sklearn import preprocessing\n",
    "from statsmodels.genmod.families import Binomial\n",
    "from statsmodels.genmod.families.links import logit\n",
    "\n",
    "from sklearn.inspection import permutation_importance\n",
    "from sklearn.model_selection import GridSearchCV, cross_val_score, train_test_split\n",
    "from sklearn.neural_network import MLPRegressor, MLPClassifier\n",
    "from sklearn import tree\n",
    "from sklearn.tree import DecisionTreeClassifier \n",
    "from sklearn.ensemble import GradientBoostingClassifier, RandomForestClassifier\n",
    "from xgboost import XGBClassifier\n",
    "\n",
    "from sklearn.preprocessing import  OneHotEncoder\n",
    "\n",
    "from sklearn.metrics import roc_auc_score, accuracy_score, confusion_matrix, classification_report, roc_curve, auc, make_scorer,mean_squared_error,r2_score\n",
    "\n",
    "\n",
    "import matplotlib.pyplot as plt\n",
    "# increase plot resolution\n",
    "# mpl.rcParams[\"figure.dpi\"] = 150"
   ]
  },
  {
   "cell_type": "code",
   "execution_count": 2,
   "metadata": {},
   "outputs": [
    {
     "data": {
      "text/html": [
       "<div>\n",
       "<style scoped>\n",
       "    .dataframe tbody tr th:only-of-type {\n",
       "        vertical-align: middle;\n",
       "    }\n",
       "\n",
       "    .dataframe tbody tr th {\n",
       "        vertical-align: top;\n",
       "    }\n",
       "\n",
       "    .dataframe thead th {\n",
       "        text-align: right;\n",
       "    }\n",
       "</style>\n",
       "<table border=\"1\" class=\"dataframe\">\n",
       "  <thead>\n",
       "    <tr style=\"text-align: right;\">\n",
       "      <th></th>\n",
       "      <th>custid</th>\n",
       "      <th>buyer</th>\n",
       "      <th>total_os</th>\n",
       "      <th>message</th>\n",
       "      <th>age</th>\n",
       "      <th>gender</th>\n",
       "      <th>income</th>\n",
       "      <th>education</th>\n",
       "      <th>children</th>\n",
       "      <th>freq_endurance</th>\n",
       "      <th>...</th>\n",
       "      <th>endurance_os</th>\n",
       "      <th>strength_os</th>\n",
       "      <th>water_os</th>\n",
       "      <th>team_os</th>\n",
       "      <th>backcountry_os</th>\n",
       "      <th>winter_os</th>\n",
       "      <th>racquet_os</th>\n",
       "      <th>training</th>\n",
       "      <th>representative</th>\n",
       "      <th>buyer_yes</th>\n",
       "    </tr>\n",
       "  </thead>\n",
       "  <tbody>\n",
       "    <tr>\n",
       "      <th>0</th>\n",
       "      <td>U45198803</td>\n",
       "      <td>no</td>\n",
       "      <td>0.0</td>\n",
       "      <td>endurance</td>\n",
       "      <td>30 to 44</td>\n",
       "      <td>M</td>\n",
       "      <td>25000</td>\n",
       "      <td>14</td>\n",
       "      <td>1.3</td>\n",
       "      <td>0</td>\n",
       "      <td>...</td>\n",
       "      <td>0.0</td>\n",
       "      <td>0.0</td>\n",
       "      <td>0.0</td>\n",
       "      <td>0.0</td>\n",
       "      <td>0.0</td>\n",
       "      <td>0.0</td>\n",
       "      <td>0.0</td>\n",
       "      <td>-2147483648</td>\n",
       "      <td>1</td>\n",
       "      <td>0</td>\n",
       "    </tr>\n",
       "    <tr>\n",
       "      <th>1</th>\n",
       "      <td>U22197752</td>\n",
       "      <td>no</td>\n",
       "      <td>0.0</td>\n",
       "      <td>backcountry</td>\n",
       "      <td>45 to 59</td>\n",
       "      <td>F</td>\n",
       "      <td>40000</td>\n",
       "      <td>44</td>\n",
       "      <td>0.4</td>\n",
       "      <td>2</td>\n",
       "      <td>...</td>\n",
       "      <td>0.0</td>\n",
       "      <td>0.0</td>\n",
       "      <td>0.0</td>\n",
       "      <td>0.0</td>\n",
       "      <td>0.0</td>\n",
       "      <td>0.0</td>\n",
       "      <td>0.0</td>\n",
       "      <td>-2147483648</td>\n",
       "      <td>1</td>\n",
       "      <td>0</td>\n",
       "    </tr>\n",
       "    <tr>\n",
       "      <th>2</th>\n",
       "      <td>U83874832</td>\n",
       "      <td>no</td>\n",
       "      <td>0.0</td>\n",
       "      <td>backcountry</td>\n",
       "      <td>45 to 59</td>\n",
       "      <td>M</td>\n",
       "      <td>50000</td>\n",
       "      <td>24</td>\n",
       "      <td>0.8</td>\n",
       "      <td>0</td>\n",
       "      <td>...</td>\n",
       "      <td>0.0</td>\n",
       "      <td>0.0</td>\n",
       "      <td>0.0</td>\n",
       "      <td>0.0</td>\n",
       "      <td>0.0</td>\n",
       "      <td>0.0</td>\n",
       "      <td>0.0</td>\n",
       "      <td>1</td>\n",
       "      <td>0</td>\n",
       "      <td>0</td>\n",
       "    </tr>\n",
       "    <tr>\n",
       "      <th>3</th>\n",
       "      <td>U19423462</td>\n",
       "      <td>no</td>\n",
       "      <td>0.0</td>\n",
       "      <td>winter</td>\n",
       "      <td>45 to 59</td>\n",
       "      <td>F</td>\n",
       "      <td>50000</td>\n",
       "      <td>26</td>\n",
       "      <td>1.1</td>\n",
       "      <td>1</td>\n",
       "      <td>...</td>\n",
       "      <td>0.0</td>\n",
       "      <td>0.0</td>\n",
       "      <td>0.0</td>\n",
       "      <td>0.0</td>\n",
       "      <td>0.0</td>\n",
       "      <td>0.0</td>\n",
       "      <td>0.0</td>\n",
       "      <td>-2147483648</td>\n",
       "      <td>1</td>\n",
       "      <td>0</td>\n",
       "    </tr>\n",
       "    <tr>\n",
       "      <th>4</th>\n",
       "      <td>U23888305</td>\n",
       "      <td>no</td>\n",
       "      <td>0.0</td>\n",
       "      <td>winter</td>\n",
       "      <td>30 to 44</td>\n",
       "      <td>M</td>\n",
       "      <td>40000</td>\n",
       "      <td>22</td>\n",
       "      <td>1.0</td>\n",
       "      <td>1</td>\n",
       "      <td>...</td>\n",
       "      <td>0.0</td>\n",
       "      <td>0.0</td>\n",
       "      <td>0.0</td>\n",
       "      <td>0.0</td>\n",
       "      <td>0.0</td>\n",
       "      <td>0.0</td>\n",
       "      <td>0.0</td>\n",
       "      <td>-2147483648</td>\n",
       "      <td>1</td>\n",
       "      <td>0</td>\n",
       "    </tr>\n",
       "  </tbody>\n",
       "</table>\n",
       "<p>5 rows × 26 columns</p>\n",
       "</div>"
      ],
      "text/plain": [
       "      custid buyer  total_os      message       age gender  income  education  \\\n",
       "0  U45198803    no       0.0    endurance  30 to 44      M   25000         14   \n",
       "1  U22197752    no       0.0  backcountry  45 to 59      F   40000         44   \n",
       "2  U83874832    no       0.0  backcountry  45 to 59      M   50000         24   \n",
       "3  U19423462    no       0.0       winter  45 to 59      F   50000         26   \n",
       "4  U23888305    no       0.0       winter  30 to 44      M   40000         22   \n",
       "\n",
       "   children  freq_endurance  ...  endurance_os  strength_os  water_os  \\\n",
       "0       1.3               0  ...           0.0          0.0       0.0   \n",
       "1       0.4               2  ...           0.0          0.0       0.0   \n",
       "2       0.8               0  ...           0.0          0.0       0.0   \n",
       "3       1.1               1  ...           0.0          0.0       0.0   \n",
       "4       1.0               1  ...           0.0          0.0       0.0   \n",
       "\n",
       "   team_os  backcountry_os  winter_os  racquet_os    training  representative  \\\n",
       "0      0.0             0.0        0.0         0.0 -2147483648               1   \n",
       "1      0.0             0.0        0.0         0.0 -2147483648               1   \n",
       "2      0.0             0.0        0.0         0.0           1               0   \n",
       "3      0.0             0.0        0.0         0.0 -2147483648               1   \n",
       "4      0.0             0.0        0.0         0.0 -2147483648               1   \n",
       "\n",
       "   buyer_yes  \n",
       "0          0  \n",
       "1          0  \n",
       "2          0  \n",
       "3          0  \n",
       "4          0  \n",
       "\n",
       "[5 rows x 26 columns]"
      ]
     },
     "execution_count": 2,
     "metadata": {},
     "output_type": "execute_result"
    }
   ],
   "source": [
    "## loading the data - this dataset must NOT be changed\n",
    "pentathlon_nptb = pd.read_pickle(\"data/pentathlon_nptb.pkl\")\n",
    "pentathlon_nptb[\"buyer_yes\"] = (pentathlon_nptb[\"buyer\"] == \"yes\").astype(int)\n",
    "pentathlon_nptb.head()"
   ]
  },
  {
   "cell_type": "code",
   "execution_count": 3,
   "metadata": {},
   "outputs": [
    {
     "data": {
      "text/markdown": [
       "## Pentathon III: Next Product To Buy \n",
       "\n",
       "The available data is based on the last e-mail sent to each Pentathlon customer. Hence, an observation or row in the data is a \"customer-promotional e-mail\" pair. The data contains the following basic demographic information available to Pentathlon:\n",
       "\n",
       "* \"age\": Customer age(coded in 4 buckets:\"<30\", \"30 to 44\", \"45 to 59\", and \">=60\") \n",
       "* \"gender\": Gender coded as F or M\n",
       "* \"income\": Income in Euros, rounded to the nearest €5,000\n",
       "* \"education\": Percentage of college graduates in the customer's neighborhood, coded from 0-100\n",
       "* \"children\": Average number of children in the customer's neighborhood\n",
       "\n",
       "The data also contains basic historical information about customer purchases, specifically, a department-specific frequency measure.\n",
       "\n",
       "* \"freq_endurance-freq_racquet\": Number of purchases in each department in the last year, excluding any purchase in response to the last email.\n",
       "\n",
       "The key outcome variables are:\n",
       "\n",
       "* \"buyer\": Did the customer click on the e-mail and complete a purchase within twodays of receiving the e-mail (\"yes\" or \"no\")?\n",
       "* \"total_os\": Total order size (in Euros) conditional on the customer having purchased (buyer == \"yes\"). This measures spending across all departments, not just the department that sent the message\n",
       "\n",
       "While of no importance for the prediction model, we also have data on which departments the customer ordered from when they purchased. This was captured in:\n",
       "\n",
       "* \"endurance_os - racquet_os\": Department-specific order size (in Euros). This was a breakdown of the total order size if buyer == \"yes\". The value was zero for most departments because customers rarely bought products from multiple departments on a single purchase occasion.\n",
       "\n",
       "Finally, Anna requested that her team divide the data into a training sample and a test sample using a 70 - 30 split. She suggested 70,000 observations in the training sample and 30,000 observations in the test sample. Anna requested the team sample more customers who purchased relative to those that did not purchase. She had learned that some analytical tools did a better job of scoring customers if the response variable had a similar number of \"yes\" and \"no\" values.\n",
       "\n",
       "To achieve a 50/50 split between buyers and non-buyers for the training and test sample, her team randomly picked 50,000 buyers and added 50,000 randomly sampled non-buyers. Given the actual average purchase rate of 1%, buyers in this training sample were oversampled by a factor of 50 (=0.5/0.01). The 100,000 customers were then randomly split into a training sample (70,000 customers) and a test sample (30,000 customers).\n",
       "\n",
       "In addition to the 100,000 customers used for training and test, Anna asked the team to add a representative sample consisting of another 100,000 customers. This sample was representative in that it was a true random sample of the population and therefore contained the average proportion of buyers, namely 1%. This sample would be used to determine the expected benefits from using a next-product-to-buy model. In summary, the dataset contains 200,000 customers.\n",
       "\n",
       "1. 70,000 in a training sample (training == 1) \n",
       "2. 30,000 in a test sample (training == 0)\n",
       "3. 100,000 in a representative sample (use is.na(training) or representative == 1)"
      ],
      "text/plain": [
       "<IPython.core.display.Markdown object>"
      ]
     },
     "metadata": {},
     "output_type": "display_data"
    }
   ],
   "source": [
    "# show dataset description\n",
    "rsm.describe(pentathlon_nptb)"
   ]
  },
  {
   "cell_type": "code",
   "execution_count": 4,
   "metadata": {},
   "outputs": [
    {
     "name": "stdout",
     "output_type": "stream",
     "text": [
      "                    index     OR     OR%   2.5%  97.5% p.values     \n",
      "1     message[T.strength]  0.977   -2.3%  0.925  1.033    0.415     \n",
      "2        message[T.water]  0.937   -6.3%  0.887  0.991    0.022    *\n",
      "3         message[T.team]  0.873  -12.7%  0.826  0.922   < .001  ***\n",
      "4  message[T.backcountry]  0.859  -14.1%  0.812  0.908   < .001  ***\n",
      "5       message[T.winter]  0.875  -12.5%  0.828  0.925   < .001  ***\n",
      "6      message[T.racquet]  0.874  -12.6%  0.826  0.923   < .001  ***\n"
     ]
    }
   ],
   "source": [
    "# run python code from another notebook\n",
    "%run ./sub-notebooks/model1.ipynb"
   ]
  },
  {
   "cell_type": "code",
   "execution_count": 5,
   "metadata": {},
   "outputs": [
    {
     "name": "stdout",
     "output_type": "stream",
     "text": [
      "\n",
      "You just accessed a function from your first python packages!\n",
      "Change the code in utils/function.py to whatever you need for this assignment\n",
      "Use 'from utils import functions' to get access to your code\n",
      "You can add modules to import from by adding additional .py files to the 'utils' directory\n",
      "Note: If you make changes to the content of this file you will have to restart the notebook kernel to get the updates\n",
      "\n"
     ]
    }
   ],
   "source": [
    "# importing functions from a module/package\n",
    "from utils import functions\n",
    "functions.example()"
   ]
  },
  {
   "cell_type": "code",
   "execution_count": 6,
   "metadata": {},
   "outputs": [],
   "source": [
    "pd.options.mode.chained_assignment = None"
   ]
  },
  {
   "cell_type": "markdown",
   "metadata": {},
   "source": [
    "# Part1 Model Selection"
   ]
  },
  {
   "cell_type": "code",
   "execution_count": 7,
   "metadata": {},
   "outputs": [],
   "source": [
    "pentathlon_nptb[\"age\"] =  pentathlon_nptb.age.astype('category')\n",
    "pentathlon_nptb[\"gender\"] =  pentathlon_nptb.gender.astype('category')\n",
    "pentathlon_nptb[\"message\"] =  pentathlon_nptb.message.astype('category')\n",
    "pentathlon_nptb[\"buyer_yes\"] = rsm.ifelse(pentathlon_nptb.buyer == \"yes\", 1, rsm.ifelse(pentathlon_nptb.buyer == \"no\", 0, np.nan))\n",
    "\n",
    "to_std = pentathlon_nptb.loc[:, \"income\":\"freq_racquet\"].columns\n",
    "\n",
    "# scale numeric variables by (x - mean(x)) / sd(x)\n",
    "pentathlon_nptb_std = pentathlon_nptb.copy()\n",
    "pentathlon_nptb_std[to_std] = rsm.scale_df(\n",
    "    pentathlon_nptb[to_std], sf=1\n",
    ")"
   ]
  },
  {
   "cell_type": "code",
   "execution_count": 8,
   "metadata": {},
   "outputs": [],
   "source": [
    "pentathlon_train = pentathlon_nptb_std[pentathlon_nptb_std['training'] == 1]\n",
    "pentathlon_test = pentathlon_nptb_std[pentathlon_nptb_std['training'] == 0]"
   ]
  },
  {
   "cell_type": "markdown",
   "metadata": {},
   "source": [
    "## A. logistic regression"
   ]
  },
  {
   "cell_type": "code",
   "execution_count": 9,
   "metadata": {},
   "outputs": [],
   "source": [
    "lr = smf.glm(\n",
    "    formula=\"buyer_yes ~ message + age + gender + income + education + children + \\\n",
    "             freq_racquet + freq_winter + freq_backcountry + freq_team + \\\n",
    "             freq_water + freq_strength + freq_endurance + message:age + message:gender + message:income + message:education + message:children + \\\n",
    "             message:freq_racquet + message:freq_winter + message:freq_backcountry + \\\n",
    "             message:freq_team + message:freq_water + message:freq_strength + message:freq_endurance\",\n",
    "    family=Binomial(link=logit()),\n",
    "    data=pentathlon_train,\n",
    ").fit()"
   ]
  },
  {
   "cell_type": "code",
   "execution_count": 10,
   "metadata": {},
   "outputs": [],
   "source": [
    "pentathlon_test[\"pred_logit\"] = lr.predict(pentathlon_test)"
   ]
  },
  {
   "cell_type": "code",
   "execution_count": 11,
   "metadata": {},
   "outputs": [],
   "source": [
    "def score_fun(y_pred,y_true):\n",
    "    AUC = roc_auc_score(y_true,y_pred)\n",
    "    R2 =r2_score(y_true, y_pred)\n",
    "    RMSE = np.sqrt(mean_squared_error(y_true, y_pred))\n",
    "    \n",
    "    print('AUC ' + str(AUC))\n",
    "    print('R2 ' + str(R2))\n",
    "    print('RMSE ' + str(RMSE))\n",
    "    \n",
    "    return AUC,R2,RMSE"
   ]
  },
  {
   "cell_type": "code",
   "execution_count": 12,
   "metadata": {},
   "outputs": [
    {
     "name": "stdout",
     "output_type": "stream",
     "text": [
      "AUC 0.8830857777777779\n",
      "R2 0.450442046599711\n",
      "RMSE 0.3706608805229819\n"
     ]
    }
   ],
   "source": [
    "AUC_Logist, R2_Logist, RMSE_Logist = score_fun(pentathlon_test[\"pred_logit\"],pentathlon_test[\"buyer_yes\"])"
   ]
  },
  {
   "cell_type": "markdown",
   "metadata": {},
   "source": [
    "#### Processing data for other models"
   ]
  },
  {
   "cell_type": "code",
   "execution_count": 13,
   "metadata": {},
   "outputs": [],
   "source": [
    "### one hot\n",
    "enc = OneHotEncoder()\n",
    "enc.fit(pentathlon_nptb_std.loc[:,\"message\":\"gender\"])\n",
    "ans= enc.transform(pentathlon_nptb_std.loc[:,\"message\":\"gender\"]).toarray()\n",
    "ans = pd.DataFrame(ans)\n",
    "X_num = pentathlon_nptb_std.loc[:,\"income\":\"freq_racquet\"]\n",
    "X_index = pentathlon_nptb_std.loc[:,\"training\":\"representative\"]\n",
    "X = pd.concat([ans,X_num,X_index],axis=1)"
   ]
  },
  {
   "cell_type": "code",
   "execution_count": 14,
   "metadata": {},
   "outputs": [],
   "source": [
    "X_train = X[X['training']==1]\n",
    "X_test = X[X['training']==0]\n",
    "X_repre = X[X['representative']==1]"
   ]
  },
  {
   "cell_type": "code",
   "execution_count": 15,
   "metadata": {},
   "outputs": [],
   "source": [
    "Y_train = pentathlon_nptb_std[pentathlon_nptb_std['training']==1][\"buyer_yes\"]\n",
    "Y_test = pentathlon_nptb_std[pentathlon_nptb_std['training']==0][\"buyer_yes\"]\n",
    "Y_repre = pentathlon_nptb_std[pentathlon_nptb_std['representative']==1][\"buyer_yes\"]"
   ]
  },
  {
   "cell_type": "markdown",
   "metadata": {},
   "source": [
    "## B. GradientBoosting"
   ]
  },
  {
   "cell_type": "code",
   "execution_count": 16,
   "metadata": {},
   "outputs": [
    {
     "name": "stdout",
     "output_type": "stream",
     "text": [
      "AUC 0.8878090444444444\n",
      "R2 0.46086591773683605\n",
      "RMSE 0.3671287520282101\n"
     ]
    }
   ],
   "source": [
    "gb = GradientBoostingClassifier(learning_rate=0.2, max_depth=4, n_estimators=100).fit(X_train,Y_train)\n",
    "# Evaluate test set \n",
    "pentathlon_test[\"pred_Boosting\"] = gb.predict_proba(X_test)[:,1]\n",
    "AUC_Boosting, R2_Boosting, RMSE_Boosting = score_fun(pentathlon_test[\"pred_Boosting\"],pentathlon_test[\"buyer_yes\"])"
   ]
  },
  {
   "cell_type": "markdown",
   "metadata": {},
   "source": [
    "## C. Neural Network"
   ]
  },
  {
   "cell_type": "code",
   "execution_count": 17,
   "metadata": {},
   "outputs": [
    {
     "name": "stdout",
     "output_type": "stream",
     "text": [
      "AUC 0.8751095466666667\n",
      "R2 0.4217791970075673\n",
      "RMSE 0.38020415666863533\n"
     ]
    }
   ],
   "source": [
    "best_model_NN = MLPClassifier(alpha=0.07, hidden_layer_sizes=(8,),learning_rate_init=0.5, max_iter=10000).fit(X_train,Y_train)\n",
    "# Evaluate test set \n",
    "pentathlon_test[\"pred_NN\"] = best_model_NN.predict_proba(X_test)[:,1]\n",
    "AUC_NN, R2_NN, RMSE_NN = score_fun(pentathlon_test[\"pred_NN\"],pentathlon_test[\"buyer_yes\"])"
   ]
  },
  {
   "cell_type": "markdown",
   "metadata": {},
   "source": [
    "## D. Random Forest"
   ]
  },
  {
   "cell_type": "code",
   "execution_count": 18,
   "metadata": {},
   "outputs": [
    {
     "name": "stdout",
     "output_type": "stream",
     "text": [
      "AUC 0.8867242511111111\n",
      "R2 0.45830627954282244\n",
      "RMSE 0.36799922569795496\n"
     ]
    }
   ],
   "source": [
    "best_model_RF = RandomForestClassifier(n_estimators = 170, max_depth = 14).fit(X_train, Y_train)\n",
    "pentathlon_test[\"pred_RF\"] = best_model_RF.predict_proba(X_test)[:,1]\n",
    "\n",
    "AUC_RF, R2_RF, RMSE_RF = score_fun(pentathlon_test[\"pred_RF\"],pentathlon_test[\"buyer_yes\"])"
   ]
  },
  {
   "cell_type": "markdown",
   "metadata": {},
   "source": [
    "## E. Decision Tree"
   ]
  },
  {
   "cell_type": "code",
   "execution_count": 19,
   "metadata": {},
   "outputs": [
    {
     "name": "stdout",
     "output_type": "stream",
     "text": [
      "AUC 0.8749331999999999\n",
      "R2 0.4295122381828227\n",
      "RMSE 0.37765320130285446\n"
     ]
    }
   ],
   "source": [
    "best_model = DecisionTreeClassifier(min_samples_leaf=3,min_samples_split=0.01,max_depth=150,max_features=19).fit(X_train,Y_train)\n",
    "pentathlon_test[\"pred_DT\"] = best_model.predict_proba(X_test)[:,1]\n",
    "\n",
    "AUC_DT, R2_DT, RMSE_DT = score_fun(pentathlon_test[\"pred_DT\"],pentathlon_test[\"buyer_yes\"])"
   ]
  },
  {
   "cell_type": "markdown",
   "metadata": {},
   "source": [
    "## Compare Model"
   ]
  },
  {
   "cell_type": "code",
   "execution_count": 20,
   "metadata": {},
   "outputs": [
    {
     "data": {
      "text/html": [
       "<div>\n",
       "<style scoped>\n",
       "    .dataframe tbody tr th:only-of-type {\n",
       "        vertical-align: middle;\n",
       "    }\n",
       "\n",
       "    .dataframe tbody tr th {\n",
       "        vertical-align: top;\n",
       "    }\n",
       "\n",
       "    .dataframe thead th {\n",
       "        text-align: right;\n",
       "    }\n",
       "</style>\n",
       "<table border=\"1\" class=\"dataframe\">\n",
       "  <thead>\n",
       "    <tr style=\"text-align: right;\">\n",
       "      <th></th>\n",
       "      <th>Score</th>\n",
       "      <th>Logistic</th>\n",
       "      <th>Neural Network</th>\n",
       "      <th>Decision Tree</th>\n",
       "      <th>Random Forest</th>\n",
       "      <th>Gradient Boosting</th>\n",
       "    </tr>\n",
       "  </thead>\n",
       "  <tbody>\n",
       "    <tr>\n",
       "      <th>0</th>\n",
       "      <td>AUC</td>\n",
       "      <td>0.883086</td>\n",
       "      <td>0.875110</td>\n",
       "      <td>0.874933</td>\n",
       "      <td>0.886724</td>\n",
       "      <td>0.887809</td>\n",
       "    </tr>\n",
       "    <tr>\n",
       "      <th>1</th>\n",
       "      <td>R2</td>\n",
       "      <td>0.450442</td>\n",
       "      <td>0.421779</td>\n",
       "      <td>0.429512</td>\n",
       "      <td>0.458306</td>\n",
       "      <td>0.460866</td>\n",
       "    </tr>\n",
       "    <tr>\n",
       "      <th>2</th>\n",
       "      <td>RMSE</td>\n",
       "      <td>0.370661</td>\n",
       "      <td>0.380204</td>\n",
       "      <td>0.377653</td>\n",
       "      <td>0.367999</td>\n",
       "      <td>0.367129</td>\n",
       "    </tr>\n",
       "  </tbody>\n",
       "</table>\n",
       "</div>"
      ],
      "text/plain": [
       "  Score  Logistic  Neural Network  Decision Tree  Random Forest  \\\n",
       "0   AUC  0.883086        0.875110       0.874933       0.886724   \n",
       "1    R2  0.450442        0.421779       0.429512       0.458306   \n",
       "2  RMSE  0.370661        0.380204       0.377653       0.367999   \n",
       "\n",
       "   Gradient Boosting  \n",
       "0           0.887809  \n",
       "1           0.460866  \n",
       "2           0.367129  "
      ]
     },
     "execution_count": 20,
     "metadata": {},
     "output_type": "execute_result"
    }
   ],
   "source": [
    "score = pd.DataFrame(\n",
    "    {   \"Score\": [\"AUC\", \"R2\", \"RMSE\"],\n",
    "        \"Logistic\": [AUC_Logist, R2_Logist, RMSE_Logist],\n",
    "        \"Neural Network\":[AUC_NN, R2_NN, RMSE_NN],\n",
    "        \"Decision Tree\":[AUC_DT, R2_DT, RMSE_DT],\n",
    "        \"Random Forest\": [AUC_RF, R2_RF, RMSE_RF],\n",
    "        \"Gradient Boosting\": [AUC_Boosting, R2_Boosting, RMSE_Boosting]\n",
    "    }\n",
    ")\n",
    "score"
   ]
  },
  {
   "cell_type": "code",
   "execution_count": 21,
   "metadata": {},
   "outputs": [],
   "source": [
    "pentathlon_train[\"pred_logit\"] = lr.predict(pentathlon_train)\n",
    "pentathlon_train[\"pred_Boosting\"] = gb.predict_proba(X_train)[:,1]\n",
    "pentathlon_train[\"pred_NN\"] = best_model_NN.predict_proba(X_train)[:,1]\n",
    "pentathlon_train[\"pred_RF\"] = best_model_RF.predict_proba(X_train)[:,1]\n",
    "pentathlon_train[\"pred_DT\"] = best_model.predict_proba(X_train)[:,1]"
   ]
  },
  {
   "cell_type": "code",
   "execution_count": 22,
   "metadata": {},
   "outputs": [
    {
     "data": {
      "image/png": "[encoded data removed]",
      "text/plain": [
       "<Figure size 432x288 with 2 Axes>"
      ]
     },
     "metadata": {
      "needs_background": "light"
     },
     "output_type": "display_data"
    }
   ],
   "source": [
    "test_plot = pd.DataFrame(\n",
    "    {   \"buyer\": pentathlon_test[\"buyer\"],\n",
    "        \"Logistic\": pentathlon_test[\"pred_logit\"],\n",
    "        \"Neural Network\":pentathlon_test[\"pred_NN\"],\n",
    "        \"Decision Tree\":pentathlon_test[\"pred_DT\"],\n",
    "        \"Random Forest\": pentathlon_test[\"pred_RF\"],\n",
    "        \"Gradient Boosting\": pentathlon_test[\"pred_Boosting\"]\n",
    "    }\n",
    ")\n",
    "\n",
    "\n",
    "train_plot = pd.DataFrame(\n",
    "    {   \"buyer\": pentathlon_train[\"buyer\"],\n",
    "        \"Logistic\": pentathlon_train[\"pred_logit\"],\n",
    "        \"Neural Network\":pentathlon_train[\"pred_NN\"],\n",
    "        \"Decision Tree\":pentathlon_train[\"pred_DT\"],\n",
    "        \"Random Forest\": pentathlon_train[\"pred_RF\"],\n",
    "        \"Gradient Boosting\": pentathlon_train[\"pred_Boosting\"]\n",
    "    }\n",
    ")\n",
    "plt.subplot(1,2,1)\n",
    "fig1 = rsm.gains_plot(test_plot,\"buyer\",\"yes\",[\"Logistic\",\"Neural Network\",\"Decision Tree\",\"Random Forest\",\"Gradient Boosting\"])\n",
    "fig1 = fig1.legend(title='test')\n",
    "\n",
    "plt.subplot(1,2,2)\n",
    "fig2 = rsm.gains_plot(train_plot,\"buyer\",\"yes\",[\"Logistic\",\"Neural Network\",\"Decision Tree\",\"Random Forest\",\"Gradient Boosting\"])\n",
    "fig2 = fig2.legend(title='train')"
   ]
  },
  {
   "cell_type": "markdown",
   "metadata": {},
   "source": [
    "#### The five models have similar scores in all three aspects and considering the simplicity of the model, we choose Logistic Regression as our predict model."
   ]
  },
  {
   "cell_type": "markdown",
   "metadata": {},
   "source": [
    "# Part2 Answer Questions"
   ]
  },
  {
   "cell_type": "markdown",
   "metadata": {},
   "source": [
    "### Process data to fit chosen model and then re-estimate model with weights added"
   ]
  },
  {
   "cell_type": "code",
   "execution_count": 23,
   "metadata": {},
   "outputs": [],
   "source": [
    "pentathlon_nptb[\"cweight\"] = rsm.ifelse(pentathlon_nptb.buyer == \"yes\", 1, 99)\n",
    "\n",
    "lr = smf.glm( \n",
    " formula=\"buyer_yes ~ message + age + gender + income + education + children + \\\n",
    "             freq_racquet + freq_winter + freq_backcountry + freq_team + \\\n",
    "             freq_water + freq_strength + freq_endurance + message:age + message:gender + message:income + message:education + message:children + \\\n",
    "             message:freq_racquet + message:freq_winter + message:freq_backcountry + \\\n",
    "             message:freq_team + message:freq_water + message:freq_strength + message:freq_endurance\", \n",
    " family=Binomial(link=logit()), \n",
    " data=pentathlon_nptb_std.query(\"training == 1\"), \n",
    " freq_weights=pentathlon_nptb.query(\"training == 1\")[\"cweight\"], \n",
    ").fit(cov_type=\"HC1\") \n"
   ]
  },
  {
   "cell_type": "code",
   "execution_count": 24,
   "metadata": {},
   "outputs": [],
   "source": [
    "pentathlon_repre = pentathlon_nptb_std[pentathlon_nptb_std['representative'] == 1]"
   ]
  },
  {
   "cell_type": "code",
   "execution_count": 27,
   "metadata": {},
   "outputs": [],
   "source": [
    "pentathlon_repre[\"p_endurance\"] = lr.predict(pentathlon_repre.assign(message=\"endurance\"))\n",
    "pentathlon_repre[\"p_strength\"] = lr.predict(pentathlon_repre.assign(message=\"strength\"))\n",
    "pentathlon_repre[\"p_water\"] = lr.predict(pentathlon_repre.assign(message=\"water\"))\n",
    "pentathlon_repre[\"p_team\"] = lr.predict(pentathlon_repre.assign(message=\"team\"))\n",
    "pentathlon_repre[\"p_backcountry\"] = lr.predict(pentathlon_repre.assign(message=\"backcountry\"))\n",
    "pentathlon_repre[\"p_winter\"] = lr.predict(pentathlon_repre.assign(message=\"winter\"))\n",
    "pentathlon_repre[\"p_racquet\"] = lr.predict(pentathlon_repre.assign(message=\"racquet\"))"
   ]
  },
  {
   "cell_type": "markdown",
   "metadata": {},
   "source": [
    "### Q1"
   ]
  },
  {
   "cell_type": "markdown",
   "metadata": {},
   "source": [
    "#### In order to solve this question, we used XGB model to predict different probabilities of purchase with 7 departments message for each customer. Then we compared them and choose the message with highest purchasing probability for the customer as their final message."
   ]
  },
  {
   "cell_type": "code",
   "execution_count": 28,
   "metadata": {},
   "outputs": [],
   "source": [
    "pentathlon_repre[\"to_message\"] = (\n",
    "    pentathlon_repre[[\"p_endurance\", \"p_strength\", \"p_water\",\"p_team\",\"p_backcountry\",\"p_winter\",\"p_racquet\"]]\n",
    "    .idxmax(axis=1)\n",
    "    .str.replace(\"p_endurance\", \"endurance\")\n",
    "    .replace(\"p_strength\", \"strength\")\n",
    "    .replace(\"p_water\", \"water\")\n",
    "    .replace(\"p_team\", \"team\")\n",
    "    .replace(\"p_backcountry\", \"backcountry\")\n",
    "    .replace(\"p_winter\", \"winter\")\n",
    "    .replace(\"p_racquet\", \"racquet\")\n",
    ")"
   ]
  },
  {
   "cell_type": "code",
   "execution_count": 29,
   "metadata": {},
   "outputs": [
    {
     "data": {
      "text/html": [
       "<div>\n",
       "<style scoped>\n",
       "    .dataframe tbody tr th:only-of-type {\n",
       "        vertical-align: middle;\n",
       "    }\n",
       "\n",
       "    .dataframe tbody tr th {\n",
       "        vertical-align: top;\n",
       "    }\n",
       "\n",
       "    .dataframe thead th {\n",
       "        text-align: right;\n",
       "    }\n",
       "</style>\n",
       "<table border=\"1\" class=\"dataframe\">\n",
       "  <thead>\n",
       "    <tr style=\"text-align: right;\">\n",
       "      <th>col_0</th>\n",
       "      <th>count</th>\n",
       "    </tr>\n",
       "    <tr>\n",
       "      <th>to_message</th>\n",
       "      <th></th>\n",
       "    </tr>\n",
       "  </thead>\n",
       "  <tbody>\n",
       "    <tr>\n",
       "      <th>backcountry</th>\n",
       "      <td>4354</td>\n",
       "    </tr>\n",
       "    <tr>\n",
       "      <th>endurance</th>\n",
       "      <td>40616</td>\n",
       "    </tr>\n",
       "    <tr>\n",
       "      <th>racquet</th>\n",
       "      <td>3215</td>\n",
       "    </tr>\n",
       "    <tr>\n",
       "      <th>strength</th>\n",
       "      <td>20492</td>\n",
       "    </tr>\n",
       "    <tr>\n",
       "      <th>team</th>\n",
       "      <td>10945</td>\n",
       "    </tr>\n",
       "    <tr>\n",
       "      <th>water</th>\n",
       "      <td>18550</td>\n",
       "    </tr>\n",
       "    <tr>\n",
       "      <th>winter</th>\n",
       "      <td>1828</td>\n",
       "    </tr>\n",
       "  </tbody>\n",
       "</table>\n",
       "</div>"
      ],
      "text/plain": [
       "col_0        count\n",
       "to_message        \n",
       "backcountry   4354\n",
       "endurance    40616\n",
       "racquet       3215\n",
       "strength     20492\n",
       "team         10945\n",
       "water        18550\n",
       "winter        1828"
      ]
     },
     "execution_count": 29,
     "metadata": {},
     "output_type": "execute_result"
    }
   ],
   "source": [
    "count =pd.crosstab(index=pentathlon_repre.to_message, columns=\"count\")\n",
    "count"
   ]
  },
  {
   "cell_type": "markdown",
   "metadata": {},
   "source": [
    "### Q2"
   ]
  },
  {
   "cell_type": "code",
   "execution_count": 30,
   "metadata": {},
   "outputs": [
    {
     "data": {
      "text/plain": [
       "to_message\n",
       "backcountry     4.354%\n",
       "endurance      40.616%\n",
       "racquet         3.215%\n",
       "strength       20.492%\n",
       "team           10.945%\n",
       "water           18.55%\n",
       "winter          1.828%\n",
       "Name: count, dtype: object"
      ]
     },
     "execution_count": 30,
     "metadata": {},
     "output_type": "execute_result"
    }
   ],
   "source": [
    "percentage = count['count'].apply(lambda x:(str((round(x/count['count'].sum()*100,3))) + \"%\"))\n",
    "percentage"
   ]
  },
  {
   "cell_type": "markdown",
   "metadata": {},
   "source": [
    "### Q3"
   ]
  },
  {
   "cell_type": "markdown",
   "metadata": {},
   "source": [
    "#### Firstly, we regard total_os as an estimation of the revenue if a customer decides to purchase after receiving message. Then we calculate the average total_os of each message type separately and multiply the revenues by 1-COGS as the estimated profit. Finally, we multiply the probability of each message type and its corresponding estimated profit as the expected profit and pick the message type which generates the highest expected profit for each customer as the determined message type."
   ]
  },
  {
   "cell_type": "code",
   "execution_count": 31,
   "metadata": {},
   "outputs": [],
   "source": [
    "def non_zero_mean(data):\n",
    "    sum = np.sum(data)\n",
    "    count = 0\n",
    "    for i in range(0,len(data)):\n",
    "        if data.iloc[i] == 0:\n",
    "            pass\n",
    "        else:\n",
    "            count += 1\n",
    "    return sum/count"
   ]
  },
  {
   "cell_type": "code",
   "execution_count": 32,
   "metadata": {},
   "outputs": [
    {
     "data": {
      "text/html": [
       "<div>\n",
       "<style scoped>\n",
       "    .dataframe tbody tr th:only-of-type {\n",
       "        vertical-align: middle;\n",
       "    }\n",
       "\n",
       "    .dataframe tbody tr th {\n",
       "        vertical-align: top;\n",
       "    }\n",
       "\n",
       "    .dataframe thead th {\n",
       "        text-align: right;\n",
       "    }\n",
       "</style>\n",
       "<table border=\"1\" class=\"dataframe\">\n",
       "  <thead>\n",
       "    <tr style=\"text-align: right;\">\n",
       "      <th></th>\n",
       "      <th>endurance</th>\n",
       "      <th>strength</th>\n",
       "      <th>water</th>\n",
       "      <th>team</th>\n",
       "      <th>backcountry</th>\n",
       "      <th>winter</th>\n",
       "      <th>racquet</th>\n",
       "    </tr>\n",
       "  </thead>\n",
       "  <tbody>\n",
       "    <tr>\n",
       "      <th>0</th>\n",
       "      <td>21.716692</td>\n",
       "      <td>22.358863</td>\n",
       "      <td>22.908576</td>\n",
       "      <td>23.00477</td>\n",
       "      <td>24.271484</td>\n",
       "      <td>23.636012</td>\n",
       "      <td>23.107723</td>\n",
       "    </tr>\n",
       "  </tbody>\n",
       "</table>\n",
       "</div>"
      ],
      "text/plain": [
       "   endurance   strength      water      team  backcountry     winter  \\\n",
       "0  21.716692  22.358863  22.908576  23.00477    24.271484  23.636012   \n",
       "\n",
       "     racquet  \n",
       "0  23.107723  "
      ]
     },
     "execution_count": 32,
     "metadata": {},
     "output_type": "execute_result"
    }
   ],
   "source": [
    "profit_avg  = pd.DataFrame(\n",
    "    {\n",
    "    \"endurance\":[non_zero_mean(pentathlon_train[pentathlon_train['message']=='endurance'].total_os)*(1-0.6)],\n",
    "    \"strength\":[non_zero_mean(pentathlon_train[pentathlon_train['message']=='strength'].total_os)*(1-0.6)],\n",
    "    \"water\":[non_zero_mean(pentathlon_train[pentathlon_train['message']=='water'].total_os)*(1-0.6)],\n",
    "    \"team\":[non_zero_mean(pentathlon_train[pentathlon_train['message']=='team'].total_os)*(1-0.6)],\n",
    "    \"backcountry\":[non_zero_mean(pentathlon_train[pentathlon_train['message']=='backcountry'].total_os)*(1-0.6)],\n",
    "    \"winter\":[non_zero_mean(pentathlon_train[pentathlon_train['message']=='winter'].total_os)*(1-0.6)],\n",
    "    \"racquet\":[non_zero_mean(pentathlon_train[pentathlon_train['message']=='racquet'].total_os)*(1-0.6) ] \n",
    "}\n",
    ")\n",
    "\n",
    "profit_avg "
   ]
  },
  {
   "cell_type": "code",
   "execution_count": 33,
   "metadata": {
    "scrolled": true
   },
   "outputs": [],
   "source": [
    "pentathlon_repre[\"ep_endurance\"] = pentathlon_repre.p_endurance * profit_avg['endurance'][0]\n",
    "pentathlon_repre[\"ep_strength\"] =  pentathlon_repre.p_strength * profit_avg['strength'][0]\n",
    "pentathlon_repre[\"ep_water\"] =  pentathlon_repre.p_water * profit_avg['water'][0]\n",
    "pentathlon_repre[\"ep_team\"] =  pentathlon_repre.p_team * profit_avg['team'][0]\n",
    "pentathlon_repre[\"ep_backcountry\"] =  pentathlon_repre.p_backcountry * profit_avg['backcountry'][0]\n",
    "pentathlon_repre[\"ep_winter\"] =  pentathlon_repre.p_winter * profit_avg['winter'][0]\n",
    "pentathlon_repre[\"ep_racquet\"] =  pentathlon_repre.p_racquet * profit_avg['racquet'][0]"
   ]
  },
  {
   "cell_type": "code",
   "execution_count": 34,
   "metadata": {},
   "outputs": [],
   "source": [
    "pentathlon_repre[\"to_message_ep\"] = (\n",
    "    pentathlon_repre[[\"ep_endurance\", \"ep_strength\", \"ep_water\",\"ep_team\",\"ep_backcountry\",\"ep_winter\",\"ep_racquet\"]]\n",
    "    .idxmax(axis=1)\n",
    "    .str.replace(\"ep_endurance\", \"endurance\")\n",
    "    .replace(\"ep_strength\", \"strength\")\n",
    "    .replace(\"ep_water\", \"water\")\n",
    "    .replace(\"ep_team\", \"team\")\n",
    "    .replace(\"ep_backcountry\", \"backcountry\")\n",
    "    .replace(\"ep_winter\", \"winter\")\n",
    "    .replace(\"ep_racquet\", \"racquet\")\n",
    ")"
   ]
  },
  {
   "cell_type": "code",
   "execution_count": 35,
   "metadata": {},
   "outputs": [],
   "source": [
    "pentathlon_repre[\"ep_target\"] = pentathlon_repre[[\"ep_endurance\", \"ep_strength\", \"ep_water\",\"ep_team\",\"ep_backcountry\",\"ep_winter\",\"ep_racquet\"]].max(axis=1)"
   ]
  },
  {
   "cell_type": "code",
   "execution_count": 36,
   "metadata": {},
   "outputs": [
    {
     "data": {
      "text/html": [
       "<div>\n",
       "<style scoped>\n",
       "    .dataframe tbody tr th:only-of-type {\n",
       "        vertical-align: middle;\n",
       "    }\n",
       "\n",
       "    .dataframe tbody tr th {\n",
       "        vertical-align: top;\n",
       "    }\n",
       "\n",
       "    .dataframe thead th {\n",
       "        text-align: right;\n",
       "    }\n",
       "</style>\n",
       "<table border=\"1\" class=\"dataframe\">\n",
       "  <thead>\n",
       "    <tr style=\"text-align: right;\">\n",
       "      <th>col_0</th>\n",
       "      <th>count</th>\n",
       "    </tr>\n",
       "    <tr>\n",
       "      <th>to_message_ep</th>\n",
       "      <th></th>\n",
       "    </tr>\n",
       "  </thead>\n",
       "  <tbody>\n",
       "    <tr>\n",
       "      <th>backcountry</th>\n",
       "      <td>14415</td>\n",
       "    </tr>\n",
       "    <tr>\n",
       "      <th>endurance</th>\n",
       "      <td>23556</td>\n",
       "    </tr>\n",
       "    <tr>\n",
       "      <th>racquet</th>\n",
       "      <td>5759</td>\n",
       "    </tr>\n",
       "    <tr>\n",
       "      <th>strength</th>\n",
       "      <td>18167</td>\n",
       "    </tr>\n",
       "    <tr>\n",
       "      <th>team</th>\n",
       "      <td>12210</td>\n",
       "    </tr>\n",
       "    <tr>\n",
       "      <th>water</th>\n",
       "      <td>23136</td>\n",
       "    </tr>\n",
       "    <tr>\n",
       "      <th>winter</th>\n",
       "      <td>2757</td>\n",
       "    </tr>\n",
       "  </tbody>\n",
       "</table>\n",
       "</div>"
      ],
      "text/plain": [
       "col_0          count\n",
       "to_message_ep       \n",
       "backcountry    14415\n",
       "endurance      23556\n",
       "racquet         5759\n",
       "strength       18167\n",
       "team           12210\n",
       "water          23136\n",
       "winter          2757"
      ]
     },
     "execution_count": 36,
     "metadata": {},
     "output_type": "execute_result"
    }
   ],
   "source": [
    "count_ep = pd.crosstab(index=pentathlon_repre.to_message_ep, columns=\"count\")\n",
    "count_ep"
   ]
  },
  {
   "cell_type": "markdown",
   "metadata": {},
   "source": [
    "### Q4"
   ]
  },
  {
   "cell_type": "code",
   "execution_count": 37,
   "metadata": {},
   "outputs": [
    {
     "data": {
      "text/plain": [
       "to_message_ep\n",
       "backcountry    14.415%\n",
       "endurance      23.556%\n",
       "racquet         5.759%\n",
       "strength       18.167%\n",
       "team            12.21%\n",
       "water          23.136%\n",
       "winter          2.757%\n",
       "Name: count, dtype: object"
      ]
     },
     "execution_count": 37,
     "metadata": {},
     "output_type": "execute_result"
    }
   ],
   "source": [
    "percentage_ep = count_ep['count'].apply(lambda x:(str((round(x/count_ep['count'].sum()*100,3))) + \"%\"))\n",
    "percentage_ep"
   ]
  },
  {
   "cell_type": "markdown",
   "metadata": {},
   "source": [
    "### Q5"
   ]
  },
  {
   "cell_type": "code",
   "execution_count": 38,
   "metadata": {},
   "outputs": [
    {
     "name": "stdout",
     "output_type": "stream",
     "text": [
      "Expected profit from offer customization: $0.3288\n"
     ]
    }
   ],
   "source": [
    "profit_cus = pentathlon_repre.ep_target.agg(np.mean) \n",
    "print(f\"Expected profit from offer customization: ${profit_cus:,.4f}\")"
   ]
  },
  {
   "cell_type": "markdown",
   "metadata": {},
   "source": [
    "### Q6"
   ]
  },
  {
   "cell_type": "code",
   "execution_count": 39,
   "metadata": {},
   "outputs": [
    {
     "data": {
      "text/plain": [
       "ep_strength       $0.27\n",
       "ep_endurance      $0.26\n",
       "ep_water          $0.24\n",
       "ep_winter         $0.24\n",
       "ep_backcountry    $0.23\n",
       "ep_racquet        $0.22\n",
       "ep_team           $0.22\n",
       "dtype: object"
      ]
     },
     "execution_count": 39,
     "metadata": {},
     "output_type": "execute_result"
    }
   ],
   "source": [
    "(\n",
    "    pentathlon_repre[[\"ep_endurance\", \"ep_strength\", \"ep_water\",\"ep_team\",\"ep_backcountry\",\"ep_winter\",\"ep_racquet\"]]\n",
    "    .agg(np.mean)\n",
    "    .sort_values(ascending=False)\n",
    "    .apply(rsm.format_nr, sym=\"$\", dec=2)\n",
    ")"
   ]
  },
  {
   "cell_type": "markdown",
   "metadata": {},
   "source": [
    "### Q7"
   ]
  },
  {
   "cell_type": "code",
   "execution_count": 40,
   "metadata": {},
   "outputs": [
    {
     "name": "stdout",
     "output_type": "stream",
     "text": [
      "Expected profit from offer randomly: $0.2405\n"
     ]
    }
   ],
   "source": [
    "profit_random = pentathlon_repre[[\"ep_endurance\", \"ep_strength\", \"ep_water\",\"ep_team\",\"ep_backcountry\",\"ep_winter\",\"ep_racquet\"]].agg(np.mean).mean()\n",
    "print(f\"Expected profit from offer randomly: ${profit_random:,.4f}\")"
   ]
  },
  {
   "cell_type": "markdown",
   "metadata": {},
   "source": [
    "### Q8"
   ]
  },
  {
   "cell_type": "code",
   "execution_count": 41,
   "metadata": {},
   "outputs": [
    {
     "name": "stdout",
     "output_type": "stream",
     "text": [
      "Improvement from offer customization to offer randomly: 36.69%\n",
      "Total profit improvement from offer customization to offer randomly: $441,250.29\n"
     ]
    }
   ],
   "source": [
    "impro_percentage = (profit_cus - profit_random)/profit_random\n",
    "impro_total = (profit_cus - profit_random) * 5000000\n",
    "print(f\"Improvement from offer customization to offer randomly: {impro_percentage*100:,.2f}%\")\n",
    "print(f\"Total profit improvement from offer customization to offer randomly: ${impro_total:,.2f}\")"
   ]
  },
  {
   "cell_type": "markdown",
   "metadata": {},
   "source": [
    "### Comment on the new e-mail policy proposal\n",
    "There are several weaknesses for the existing policy. First, the emails are allocated on a monthly basis, meaning that the proposal does not take seasonal and holiday effects into consideration. Seasonal effect is important because this influences buyer’s interest and willingness to buy products. For example, in winter, customers might want to buy products from the “winter” category, and in summer, customers would want to buy products from the water category more. Besides, Pentathlon determines the promotional messages for next month based on the data from the current month. This might cause Pentathlon to lose track of trends. For example, it’s hard for the company to predict what people will buy in December using data from November. \n",
    "To take seasonal and holiday effects into consideration, Pentathlon can add variables like weather, date into the dataset, so that we can detect seasonality and find out during what condition, which departments have better sales. Also, the company can apply yearly data to analyze the relation between trends and order size. Pentathlon should also reconsider other metrics instead of profit when choosing what message to deliver. For example, trends. When it’s time for the Winter Olympics, Pentathlon can send more emails from the “winter” department. And when it’s time for the Super Bowl, Pentathlon can send more emails from the “team” department. \n",
    "\n",
    "The second weakness is that the company determines two messages to send based on the highest expected profit. However, this might lead to the problem that the margin of the product is really high, but the purchase probability is low. In this case, the company might miss the opportunity to promote the product with a high purchase rate. For example, water sports equipment like kayak and sail boats are expensive, which generates higher profit. However, people won’t buy it that often compared with endurance equipment like running shoes and bikes. To solve this, instead of choosing two messages that yield the highest expected profits, Pentathlon can choose one message which generates the highest profit, and another with the highest probability, or choose another message based on the trend.  \n",
    "\n",
    "Another weakness is the unbalanced resources across departments, since Pentathlon might end up sending out emails from the same department every month, and departments that yield higher profits would be favored continuously. If only 2 departments which yield the highest expected profits could send out messages every month, this will lead to repeat recommendations, meaning that customers keep receiving emails from the same departments (because the department that yields the highest profit might not change often). However, in the dataset, we found that lots of customers bought products from different categories before. Therefore, for customers who have purchased products from 3 or more departments before (these people might be more willing in trying new stuff, or have a broader interest), sending messages from different departments (top 1 to top 4 departments that generate highest profit, rather just the top 2) may be a good choice because customers will  be exposed to more promotional/product information. \n"
   ]
  },
  {
   "cell_type": "code",
   "execution_count": null,
   "metadata": {},
   "outputs": [],
   "source": []
  }
 ],
 "metadata": {
  "kernelspec": {
   "display_name": "Python 3",
   "language": "python",
   "name": "python3"
  },
  "language_info": {
   "codemirror_mode": {
    "name": "ipython",
    "version": 3
   },
   "file_extension": ".py",
   "mimetype": "text/x-python",
   "name": "python",
   "nbconvert_exporter": "python",
   "pygments_lexer": "ipython3",
   "version": "3.8.5"
  }
 },
 "nbformat": 4,
 "nbformat_minor": 4
}
