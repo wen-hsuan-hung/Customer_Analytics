{
 "cells": [
  {
   "cell_type": "markdown",
   "metadata": {},
   "source": [
    "# Intuit Quickbooks Upgrade\n",
    "\n",
    "* Team-lead GitLab userid: 243\n",
    "* Group name: Korinna\n",
    "* Team member names: Siqi Chen, Wen-Hsuan Hung, Xinyu Lou, Yuefeng Mao"
   ]
  },
  {
   "cell_type": "markdown",
   "metadata": {},
   "source": [
    "## Setup\n",
    "\n",
    "Please complete this python notebook with your group by answering the questions in `intuit-redux.pdf`. Create a Notebook and HTML file with all your results and comments and push both the Notebook and HTML file to GitLab when your team is done. All results MUST be reproducible (i.e., the TA and I must be able to recreate the HTML file from the Jupyter Notebook without changes or errors). This means that you should NOT use any python-packages that are not part of the rsm-msba-spark docker container.\n",
    "\n",
    "This is the second group assignment for MGTA 455 and you will be using Git and GitLab. If two people edit the same file at the same time you could get what is called a \"merge conflict\". This is not something serious but you should realize that Git will not decide for you who's change to accept so the team-lead will have to determine the edits to use. To avoid merge conflicts, **always** \"pull\" changes from the repo before you start working on any files. Then, when you are done, save and commit your changes, and then push them to GitLab. Make \"pull first\" a habit!\n",
    "\n",
    "If multiple people are going to work on the assignment at the same time I recommend you work in different notebooks. You can then `%run ...`  these \"sub\" notebooks from the main assignment file. You can seen an example of this in action below for the `model1.ipynb` notebook\n",
    "\n",
    "Some group work-flow tips:\n",
    "\n",
    "* Pull, edit, save, stage, commit, and push\n",
    "* Schedule who does what and when\n",
    "* Try to avoid working simultaneously on the same file \n",
    "* If you are going to work simultaneously, do it in different notebooks, e.g., \n",
    "    - model1.ipynb, model2.ipynb, model3.ipynb\n",
    "* Use the `%run ... ` command to bring different pieces of code together into the main jupyter notebook\n",
    "* Put python functions in modules that you can import from your notebooks. See the example below for the `example` function defined in `utils/functions.py`\n",
    "\n",
    "A graphical depiction of the group work-flow is shown below:\n",
    "\n",
    "![](images/git-group-workflow-wbg.png)\n",
    "\n",
    "Tutorial videos about using Git, GitLab, and GitGadget for group assignments:\n",
    "\n",
    "* Setup the MSBA server to use Git and GitLab: https://youtu.be/zJHwodmjatY\n",
    "* Dealing with Merge Conflicts: https://youtu.be/qFnyb8_rgTI\n",
    "* Group assignment practice: https://youtu.be/4Ty_94gIWeA"
   ]
  },
  {
   "cell_type": "code",
   "execution_count": 1,
   "metadata": {},
   "outputs": [],
   "source": [
    "import matplotlib as mpl\n",
    "import matplotlib.pyplot as plt\n",
    "import numpy as np\n",
    "import pandas as pd\n",
    "import pyrsm as rsm\n",
    "import statsmodels.formula.api as smf\n",
    "from sklearn import preprocessing\n",
    "from statsmodels.genmod.families import Binomial\n",
    "from statsmodels.genmod.families.links import logit\n",
    "from sklearn import metrics\n",
    "from sklearn.metrics import roc_auc_score, accuracy_score, confusion_matrix, classification_report, roc_curve, auc, make_scorer\n",
    "import seaborn as sns\n",
    "from IPython.display import Image\n",
    "from sklearn.inspection import permutation_importance\n",
    "from sklearn.model_selection import GridSearchCV, cross_val_score, train_test_split\n",
    "from sklearn.neural_network import MLPRegressor, MLPClassifier\n",
    "from sklearn import tree\n",
    "from sklearn.tree import DecisionTreeClassifier \n",
    "from sklearn.ensemble import GradientBoostingClassifier, RandomForestClassifier\n",
    "\n",
    "# increase plot resolution\n",
    "# mpl.rcParams[\"figure.dpi\"] = 150"
   ]
  },
  {
   "cell_type": "code",
   "execution_count": 2,
   "metadata": {},
   "outputs": [
    {
     "data": {
      "text/html": [
       "<div>\n",
       "<style scoped>\n",
       "    .dataframe tbody tr th:only-of-type {\n",
       "        vertical-align: middle;\n",
       "    }\n",
       "\n",
       "    .dataframe tbody tr th {\n",
       "        vertical-align: top;\n",
       "    }\n",
       "\n",
       "    .dataframe thead th {\n",
       "        text-align: right;\n",
       "    }\n",
       "</style>\n",
       "<table border=\"1\" class=\"dataframe\">\n",
       "  <thead>\n",
       "    <tr style=\"text-align: right;\">\n",
       "      <th></th>\n",
       "      <th>id</th>\n",
       "      <th>zip</th>\n",
       "      <th>zip_bins</th>\n",
       "      <th>sex</th>\n",
       "      <th>bizflag</th>\n",
       "      <th>numords</th>\n",
       "      <th>dollars</th>\n",
       "      <th>last</th>\n",
       "      <th>sincepurch</th>\n",
       "      <th>version1</th>\n",
       "      <th>owntaxprod</th>\n",
       "      <th>upgraded</th>\n",
       "      <th>res1</th>\n",
       "      <th>training</th>\n",
       "      <th>res1_yes</th>\n",
       "    </tr>\n",
       "  </thead>\n",
       "  <tbody>\n",
       "    <tr>\n",
       "      <th>0</th>\n",
       "      <td>1</td>\n",
       "      <td>94553</td>\n",
       "      <td>18</td>\n",
       "      <td>Male</td>\n",
       "      <td>0</td>\n",
       "      <td>2</td>\n",
       "      <td>109.5</td>\n",
       "      <td>5</td>\n",
       "      <td>12</td>\n",
       "      <td>0</td>\n",
       "      <td>0</td>\n",
       "      <td>0</td>\n",
       "      <td>No</td>\n",
       "      <td>1</td>\n",
       "      <td>0</td>\n",
       "    </tr>\n",
       "    <tr>\n",
       "      <th>1</th>\n",
       "      <td>2</td>\n",
       "      <td>53190</td>\n",
       "      <td>10</td>\n",
       "      <td>Unknown</td>\n",
       "      <td>0</td>\n",
       "      <td>1</td>\n",
       "      <td>69.5</td>\n",
       "      <td>4</td>\n",
       "      <td>3</td>\n",
       "      <td>0</td>\n",
       "      <td>0</td>\n",
       "      <td>0</td>\n",
       "      <td>No</td>\n",
       "      <td>0</td>\n",
       "      <td>0</td>\n",
       "    </tr>\n",
       "    <tr>\n",
       "      <th>2</th>\n",
       "      <td>3</td>\n",
       "      <td>37091</td>\n",
       "      <td>8</td>\n",
       "      <td>Male</td>\n",
       "      <td>0</td>\n",
       "      <td>4</td>\n",
       "      <td>93.0</td>\n",
       "      <td>14</td>\n",
       "      <td>29</td>\n",
       "      <td>0</td>\n",
       "      <td>0</td>\n",
       "      <td>1</td>\n",
       "      <td>No</td>\n",
       "      <td>0</td>\n",
       "      <td>0</td>\n",
       "    </tr>\n",
       "    <tr>\n",
       "      <th>3</th>\n",
       "      <td>4</td>\n",
       "      <td>02125</td>\n",
       "      <td>1</td>\n",
       "      <td>Male</td>\n",
       "      <td>0</td>\n",
       "      <td>1</td>\n",
       "      <td>22.0</td>\n",
       "      <td>17</td>\n",
       "      <td>1</td>\n",
       "      <td>0</td>\n",
       "      <td>0</td>\n",
       "      <td>0</td>\n",
       "      <td>No</td>\n",
       "      <td>1</td>\n",
       "      <td>0</td>\n",
       "    </tr>\n",
       "    <tr>\n",
       "      <th>4</th>\n",
       "      <td>5</td>\n",
       "      <td>60201</td>\n",
       "      <td>11</td>\n",
       "      <td>Male</td>\n",
       "      <td>0</td>\n",
       "      <td>1</td>\n",
       "      <td>24.5</td>\n",
       "      <td>2</td>\n",
       "      <td>3</td>\n",
       "      <td>0</td>\n",
       "      <td>0</td>\n",
       "      <td>0</td>\n",
       "      <td>No</td>\n",
       "      <td>0</td>\n",
       "      <td>0</td>\n",
       "    </tr>\n",
       "  </tbody>\n",
       "</table>\n",
       "</div>"
      ],
      "text/plain": [
       "   id    zip  zip_bins      sex  bizflag  numords  dollars  last  sincepurch  \\\n",
       "0   1  94553        18     Male        0        2    109.5     5          12   \n",
       "1   2  53190        10  Unknown        0        1     69.5     4           3   \n",
       "2   3  37091         8     Male        0        4     93.0    14          29   \n",
       "3   4  02125         1     Male        0        1     22.0    17           1   \n",
       "4   5  60201        11     Male        0        1     24.5     2           3   \n",
       "\n",
       "   version1  owntaxprod  upgraded res1  training  res1_yes  \n",
       "0         0           0         0   No         1         0  \n",
       "1         0           0         0   No         0         0  \n",
       "2         0           0         1   No         0         0  \n",
       "3         0           0         0   No         1         0  \n",
       "4         0           0         0   No         0         0  "
      ]
     },
     "execution_count": 2,
     "metadata": {},
     "output_type": "execute_result"
    }
   ],
   "source": [
    "## loading the data - this dataset must NOT be changed\n",
    "intuit75k = pd.read_pickle(\"data/intuit75k.pkl\")\n",
    "intuit75k[\"res1_yes\"] = (intuit75k[\"res1\"] == \"Yes\").astype(int)\n",
    "intuit75k.head()"
   ]
  },
  {
   "cell_type": "code",
   "execution_count": 3,
   "metadata": {},
   "outputs": [
    {
     "data": {
      "text/markdown": [
       "## Intuit: Quickbooks upgrade\n",
       "\n",
       "The purpose of this exercise is to gain experience modeling the response to an upsell campaign. The `intuit75k.rds` file contains data on 75,000 (small) businesses that were selected randomly from the 801,821 that were sent the wave-1 mailing. The mailing contained an offer to upgrade to the latest version of the Quickbooks software. \n",
       "\n",
       "Variable `res1` denotes which of these businesses responded to the mailing by purchasing Quickbooks version 3.0 from Intuit Direct. Note that Intuit Direct sells products directly to its customers rather than through a retailer. Use the available data to predict which businesses that did not respond to the wave-1 mailing, are most likely to respond to the wave-2 mailing. Note that variables were added, deleted, and recoded so please ignore the variable descriptions in Exhibit 3 in the case in the course reader. Instead, use the variable descriptions below:\n",
       "\n",
       "## Variable description\n",
       "\n",
       "* id: Small business customer ID\n",
       "* zip: 5-Digit ZIP Code (00000=unknown, 99999=international ZIPs).\n",
       "* zip_bins: Zip-code bins (20 approx. equal sized bins from lowest to highest zip code number)\n",
       "* sex: \"Female\", \"Male\", or \"Unknown\"\n",
       "* bizflag: Business Flag.  Address contains a Business name (1 = yes, 0 = no or unknown).\n",
       "* numords: Number of orders from Intuit Direct in the previous 36 months\n",
       "* dollars: Total $ ordered from Intuit Direct in the previous 36 months\n",
       "* last: Time (in months) since last order from Intuit Direct in previous 36 months\n",
       "* sincepurch: Time (in months) since original (not upgrade) purchase of Quickbooks\n",
       "* version1: Is 1 if customer's current Quickbooks is version 1, 0 if version 2\n",
       "* owntaxprod: Is 1 if customer purchased tax software, 0 otherwise\n",
       "* upgraded: Is 1 if customer upgraded from Quickbooks vs. 1 to vs. 2\n",
       "* res1: Response to wave 1 mailing (\"Yes\" if responded else \"No\")\n",
       "* training: 70/30 split, 1 for training sample, 0 for validation sample\n"
      ],
      "text/plain": [
       "<IPython.core.display.Markdown object>"
      ]
     },
     "metadata": {},
     "output_type": "display_data"
    }
   ],
   "source": [
    "# show dataset description\n",
    "rsm.describe(intuit75k)"
   ]
  },
  {
   "cell_type": "code",
   "execution_count": 4,
   "metadata": {},
   "outputs": [
    {
     "name": "stdout",
     "output_type": "stream",
     "text": [
      "      index     OR     OR%   2.5%  97.5% p.values     \n",
      "1   numords  1.352   35.2%  1.313  1.392   < .001  ***\n",
      "2  version1  2.113  111.3%  1.911  2.335   < .001  ***\n",
      "3  upgraded  2.628  162.8%  2.388  2.894   < .001  ***\n"
     ]
    }
   ],
   "source": [
    "# run python code from another notebook\n",
    "%run ./sub-notebooks/model1.ipynb"
   ]
  },
  {
   "cell_type": "code",
   "execution_count": 5,
   "metadata": {},
   "outputs": [
    {
     "name": "stdout",
     "output_type": "stream",
     "text": [
      "\n",
      "You just accessed a function from your first python packages!\n",
      "Change the code in utils/function.py to whatever you need for this assignment\n",
      "Use 'from utils import functions' to get access to your code\n",
      "You can add modules to import from by adding additional .py files to the 'utils' directory\n",
      "Note: If you make changes to the content of this file you will have to restart the notebook kernel to get the updates\n",
      "\n"
     ]
    }
   ],
   "source": [
    "# importing functions from a module/package\n",
    "from utils import functions\n",
    "functions.example()"
   ]
  },
  {
   "cell_type": "code",
   "execution_count": 6,
   "metadata": {},
   "outputs": [],
   "source": [
    "pd.options.mode.chained_assignment = None"
   ]
  },
  {
   "cell_type": "code",
   "execution_count": 7,
   "metadata": {},
   "outputs": [],
   "source": [
    "## Question answers\n",
    "# Standardization\n",
    "intuit75k_std = intuit75k.copy()\n",
    "intuit75k_std[\"sex\"] = rsm.ifelse(intuit75k.sex == \"Male\", 0, rsm.ifelse(intuit75k.sex == \"Female\", 1, 0.5))\n",
    "intuit75k_std['zip_bins'] =  intuit75k_std.zip_bins.astype('category')\n",
    "intuit75k_std['bizflag'] =  intuit75k_std.bizflag.astype('category')\n",
    "intuit75k_std['version1'] =  intuit75k_std.version1.astype('category')\n",
    "intuit75k_std['owntaxprod'] =  intuit75k_std.owntaxprod.astype('category')\n",
    "intuit75k_std['upgraded'] =  intuit75k_std.upgraded.astype('category')\n",
    "\n",
    "to_std = intuit75k_std.columns[[pd.api.types.is_numeric_dtype(intuit75k[col]) for col in intuit75k_std.columns]]\n",
    "to_std = rsm.setdiff(to_std, \"training\") \n",
    "to_std = rsm.setdiff(to_std, \"res1_yes\") \n",
    "to_std = rsm.setdiff(to_std, \"sex\")\n",
    "to_std = rsm.setdiff(to_std, \"id\")\n",
    "\n",
    "intuit75k_std[to_std] = rsm.scale_df(intuit75k_std[to_std], sf=1, train=intuit75k_std.training == 1)"
   ]
  },
  {
   "cell_type": "code",
   "execution_count": 8,
   "metadata": {},
   "outputs": [],
   "source": [
    "intuit75k_std_train = intuit75k_std[intuit75k_std[\"training\"] == 1]\n",
    "intuit75k_std_test = intuit75k_std[intuit75k_std[\"training\"] == 0]"
   ]
  },
  {
   "cell_type": "code",
   "execution_count": 9,
   "metadata": {},
   "outputs": [],
   "source": [
    "X_train = intuit75k_std_train.loc[:,\"zip_bins\":\"upgraded\"]\n",
    "X_test = intuit75k_std_test.loc[:,\"zip_bins\":\"upgraded\"]\n",
    "y_train = intuit75k_std_train[\"res1_yes\"]\n",
    "y_test = intuit75k_std_test[\"res1_yes\"]"
   ]
  },
  {
   "cell_type": "code",
   "execution_count": 10,
   "metadata": {},
   "outputs": [],
   "source": [
    "cost = 1.41\n",
    "margin = 60\n",
    "breakeven = cost/margin"
   ]
  },
  {
   "cell_type": "code",
   "execution_count": 11,
   "metadata": {},
   "outputs": [],
   "source": [
    "def wave1_calc(dat=intuit75k_std_test, mailto=\"mailto_iq\",perf=\"res1_yes\",lev=1,intro=\"\"):\n",
    "    nr_sms = sum(dat[mailto] == True)\n",
    "    sms_cost = nr_sms * cost\n",
    "    response_rate = len(dat[(dat[perf] == lev) & (dat[mailto] == lev)]) / sum(dat[mailto] == lev)\n",
    "    nr_responses = response_rate * nr_sms\n",
    "    revenue = margin * nr_responses\n",
    "    profit = revenue - sms_cost\n",
    "    ROME = profit / sms_cost\n",
    "    \n",
    "    TP = sum([(p and l) for (p,l) in zip(dat[mailto], dat[perf])])\n",
    "    FP = sum([(p and 1-l) for (p,l) in zip(dat[mailto], dat[perf])])\n",
    "    TN = sum([(1-p and 1-l) for (p,l) in zip(dat[mailto], dat[perf])])\n",
    "    FN = sum([(1-p and l) for (p,l) in zip(dat[mailto], dat[perf])])\n",
    "    acc = (TP+TN) / (TP+FP+TN+FN)\n",
    "    AUC = roc_auc_score(dat[perf], dat[mailto])\n",
    "\n",
    "    print(intro)\n",
    "    print('Total number of mails that would be sent out ' + str(nr_sms))\n",
    "    print('Total cost: ' + (str(round(sms_cost,2))))\n",
    "    print('Total number of positive responses: ' + str(nr_responses))\n",
    "    print('Response rate: ' + str((round(response_rate,2))))\n",
    "    print('Total revenue: ' + str(revenue))\n",
    "    print('Return on Marketing Expenditures expressed as a proportion: ' + str(round(ROME,2)))\n",
    "    print('Total profit: ' + str(round(profit,2)))\n",
    "    print('The accuracy of the model: ' + str(round(acc,4)))\n",
    "    print('The AUC of the model: ' + str(round(AUC,4)))\n",
    "    \n",
    "    # df= pd.DataFrame({\"profit\":[profit],\"ROME\":[ROME],\"accuracy\":[acc]})\n",
    "    \n",
    "    return profit, ROME, acc, AUC"
   ]
  },
  {
   "cell_type": "code",
   "execution_count": 12,
   "metadata": {},
   "outputs": [],
   "source": [
    "# define a profit score to be used in gridsearch\n",
    "def calc_profit_func(y_true, y_pred, **kwargs):\n",
    "    y_pred = np.array(y_pred>breakeven)\n",
    "    nr_sms = sum(y_pred)\n",
    "    sms_cost = nr_sms * cost\n",
    "    response_rate = sum(np.multiply(y_true,y_pred)) / sum(y_pred)\n",
    "    nr_responses = response_rate * nr_sms\n",
    "    revenue = margin * nr_responses\n",
    "    profit = revenue - sms_cost\n",
    "    ROME = profit / sms_cost\n",
    "    return profit\n",
    "\n",
    "intuit_profit = make_scorer(calc_profit_func, greater_is_better=True, needs_proba=True)"
   ]
  },
  {
   "cell_type": "markdown",
   "metadata": {},
   "source": [
    "### Neural Network"
   ]
  },
  {
   "cell_type": "code",
   "execution_count": 13,
   "metadata": {
    "scrolled": true
   },
   "outputs": [
    {
     "name": "stdout",
     "output_type": "stream",
     "text": [
      "Test set accuracy of best model: 0.951\n"
     ]
    },
    {
     "name": "stderr",
     "output_type": "stream",
     "text": [
      "/usr/local/lib/python3.8/dist-packages/sklearn/neural_network/_multilayer_perceptron.py:500: ConvergenceWarning: lbfgs failed to converge (status=1):\n",
      "STOP: TOTAL NO. of ITERATIONS REACHED LIMIT.\n",
      "\n",
      "Increase the number of iterations (max_iter) or scale the data as shown in:\n",
      "    https://scikit-learn.org/stable/modules/preprocessing.html\n",
      "  self.n_iter_ = _check_optimize_result(\"lbfgs\", opt_res, self.max_iter)\n"
     ]
    }
   ],
   "source": [
    "best_model = MLPClassifier(solver='lbfgs',random_state=1,alpha=0.001,hidden_layer_sizes=(8,8),learning_rate_init=0.5,max_iter=195).fit(X_train , y_train)\n",
    "# Evaluate test set \n",
    "test_acc = best_model.score(X_test,y_test)\n",
    "# Print test set accuracy\n",
    "print(\"Test set accuracy of best model: {:.3f}\".format(test_acc))\n",
    "\n",
    "intuit75k_std_test[\"mailto_NN_proba\"] = best_model.predict_proba(X_test)[:, 1]\n",
    "intuit75k_std_test[\"mailto_NN\"] = intuit75k_std_test.mailto_NN_proba>breakeven"
   ]
  },
  {
   "cell_type": "code",
   "execution_count": 14,
   "metadata": {},
   "outputs": [
    {
     "name": "stdout",
     "output_type": "stream",
     "text": [
      "With Neural network model\n",
      "Total number of mails that would be sent out 13427\n",
      "Total cost: 18932.07\n",
      "Total number of positive responses: 947.0000000000001\n",
      "Response rate: 0.07\n",
      "Total revenue: 56820.00000000001\n",
      "Return on Marketing Expenditures expressed as a proportion: 2.0\n",
      "Total profit: 37887.93\n",
      "The accuracy of the model: 0.4384\n",
      "The AUC of the model: 0.6377\n"
     ]
    }
   ],
   "source": [
    "profit_nn, ROME_nn, acc_nn ,AUC_nn = wave1_calc(dat=intuit75k_std_test, mailto=\"mailto_NN\",perf=\"res1_yes\",lev=1,intro=\"With Neural network model\")"
   ]
  },
  {
   "cell_type": "markdown",
   "metadata": {},
   "source": [
    "### Decision Tree"
   ]
  },
  {
   "cell_type": "code",
   "execution_count": 15,
   "metadata": {},
   "outputs": [],
   "source": [
    "dt_model = DecisionTreeClassifier(max_depth = 445, min_samples_leaf = 1, min_samples_split = 0.09999999999999999, max_features = 7).fit(X_train, y_train)\n",
    "intuit75k_std_test['mailto_dt_prob'] = dt_model.predict_proba(X_test)[:,1]\n",
    "intuit75k_std_test['mailto_dt'] = rsm.ifelse(intuit75k_std_test['mailto_dt_prob'] > breakeven, 1, 0)"
   ]
  },
  {
   "cell_type": "code",
   "execution_count": 16,
   "metadata": {},
   "outputs": [
    {
     "name": "stdout",
     "output_type": "stream",
     "text": [
      "With Dicision Tree model\n",
      "Total number of mails that would be sent out 15015\n",
      "Total cost: 21171.15\n",
      "Total number of positive responses: 974.0\n",
      "Response rate: 0.06\n",
      "Total revenue: 58440.0\n",
      "Return on Marketing Expenditures expressed as a proportion: 1.76\n",
      "Total profit: 37268.85\n",
      "The accuracy of the model: 0.3702\n",
      "The AUC of the model: 0.6134\n"
     ]
    }
   ],
   "source": [
    "profit_dt, ROME_dt, acc_dt ,AUC_dt = wave1_calc(dat = intuit75k_std_test, mailto = 'mailto_dt',intro=\"With Dicision Tree model\")"
   ]
  },
  {
   "cell_type": "markdown",
   "metadata": {},
   "source": [
    "### Boosting"
   ]
  },
  {
   "cell_type": "code",
   "execution_count": 17,
   "metadata": {},
   "outputs": [],
   "source": [
    "gb = GradientBoostingClassifier(learning_rate=0.2, max_depth=3, n_estimators=30).fit(X_train,y_train)"
   ]
  },
  {
   "cell_type": "code",
   "execution_count": 18,
   "metadata": {},
   "outputs": [],
   "source": [
    "intuit75k_std_test['mailto_gb_prob'] = gb.predict_proba(X_test)[:,1]\n",
    "intuit75k_std_test['mailto_gb'] = rsm.ifelse(intuit75k_std_test['mailto_gb_prob'] > breakeven, 1, 0)"
   ]
  },
  {
   "cell_type": "code",
   "execution_count": 19,
   "metadata": {},
   "outputs": [
    {
     "name": "stdout",
     "output_type": "stream",
     "text": [
      "With Gradient Boosting\n",
      "Total number of mails that would be sent out 13150\n",
      "Total cost: 18541.5\n",
      "Total number of positive responses: 942.0\n",
      "Response rate: 0.07\n",
      "Total revenue: 56520.0\n",
      "Return on Marketing Expenditures expressed as a proportion: 2.05\n",
      "Total profit: 37978.5\n",
      "The accuracy of the model: 0.4503\n",
      "The AUC of the model: 0.6417\n"
     ]
    }
   ],
   "source": [
    "profit_gb, ROME_gb, acc_gb ,AUC_gb = wave1_calc(dat=intuit75k_std_test, mailto=\"mailto_gb\",perf=\"res1_yes\", lev=1, intro=\"With Gradient Boosting\")"
   ]
  },
  {
   "cell_type": "markdown",
   "metadata": {},
   "source": [
    "### Random Forest"
   ]
  },
  {
   "cell_type": "code",
   "execution_count": 20,
   "metadata": {},
   "outputs": [
    {
     "name": "stdout",
     "output_type": "stream",
     "text": [
      "With Random Forest\n",
      "Total number of mails that would be sent out 13679\n",
      "Total cost: 19287.39\n",
      "Total number of positive responses: 948.0\n",
      "Response rate: 0.07\n",
      "Total revenue: 56880.0\n",
      "Return on Marketing Expenditures expressed as a proportion: 1.95\n",
      "Total profit: 37592.61\n",
      "The accuracy of the model: 0.4273\n",
      "The AUC of the model: 0.6322\n"
     ]
    }
   ],
   "source": [
    "rf = RandomForestClassifier(max_depth=8, random_state=0, n_estimators=42)\n",
    "rf.fit(X_train, y_train)    \n",
    "intuit75k_std_test['mailto_rf_prob'] = rf.predict_proba(X_test)[:,1]\n",
    "intuit75k_std_test['mailto_rf'] = rsm.ifelse(intuit75k_std_test['mailto_rf_prob'] > breakeven, 1, 0)\n",
    "profit_rf, ROME_rf, acc_rf ,AUC_rf = wave1_calc(dat=intuit75k_std_test, mailto=\"mailto_rf\",perf=\"res1_yes\",lev=1,intro=\"With Random Forest\")"
   ]
  },
  {
   "cell_type": "markdown",
   "metadata": {},
   "source": [
    "### Model comparison"
   ]
  },
  {
   "cell_type": "code",
   "execution_count": 21,
   "metadata": {},
   "outputs": [
    {
     "data": {
      "text/html": [
       "<div>\n",
       "<style scoped>\n",
       "    .dataframe tbody tr th:only-of-type {\n",
       "        vertical-align: middle;\n",
       "    }\n",
       "\n",
       "    .dataframe tbody tr th {\n",
       "        vertical-align: top;\n",
       "    }\n",
       "\n",
       "    .dataframe thead th {\n",
       "        text-align: right;\n",
       "    }\n",
       "</style>\n",
       "<table border=\"1\" class=\"dataframe\">\n",
       "  <thead>\n",
       "    <tr style=\"text-align: right;\">\n",
       "      <th></th>\n",
       "      <th>model</th>\n",
       "      <th>profit</th>\n",
       "      <th>ROME</th>\n",
       "      <th>Accuracy</th>\n",
       "      <th>AUC</th>\n",
       "    </tr>\n",
       "  </thead>\n",
       "  <tbody>\n",
       "    <tr>\n",
       "      <th>0</th>\n",
       "      <td>Neural Network</td>\n",
       "      <td>37887.93</td>\n",
       "      <td>2.001257</td>\n",
       "      <td>0.438400</td>\n",
       "      <td>0.637654</td>\n",
       "    </tr>\n",
       "    <tr>\n",
       "      <th>1</th>\n",
       "      <td>Decision Tree</td>\n",
       "      <td>37268.85</td>\n",
       "      <td>1.760360</td>\n",
       "      <td>0.370222</td>\n",
       "      <td>0.613416</td>\n",
       "    </tr>\n",
       "    <tr>\n",
       "      <th>2</th>\n",
       "      <td>Random Forest</td>\n",
       "      <td>37592.61</td>\n",
       "      <td>1.949077</td>\n",
       "      <td>0.427289</td>\n",
       "      <td>0.632242</td>\n",
       "    </tr>\n",
       "    <tr>\n",
       "      <th>3</th>\n",
       "      <td>Gradient Boosting</td>\n",
       "      <td>37978.50</td>\n",
       "      <td>2.048297</td>\n",
       "      <td>0.450267</td>\n",
       "      <td>0.641744</td>\n",
       "    </tr>\n",
       "  </tbody>\n",
       "</table>\n",
       "</div>"
      ],
      "text/plain": [
       "               model    profit      ROME  Accuracy       AUC\n",
       "0     Neural Network  37887.93  2.001257  0.438400  0.637654\n",
       "1      Decision Tree  37268.85  1.760360  0.370222  0.613416\n",
       "2      Random Forest  37592.61  1.949077  0.427289  0.632242\n",
       "3  Gradient Boosting  37978.50  2.048297  0.450267  0.641744"
      ]
     },
     "execution_count": 21,
     "metadata": {},
     "output_type": "execute_result"
    }
   ],
   "source": [
    "mod_wave1_comparison = pd.DataFrame(\n",
    "    {\n",
    "        \"model\": [\n",
    "            \"Neural Network\",\n",
    "            \"Decision Tree\",\n",
    "            \"Random Forest\",\n",
    "            \"Gradient Boosting\",\n",
    "        ],\n",
    "        \"profit\": [profit_nn, profit_dt, profit_rf, profit_gb],\n",
    "        \"ROME\": [ROME_nn, ROME_dt, ROME_rf, ROME_gb],\n",
    "        \"Accuracy\": [acc_nn, acc_dt, acc_rf, acc_gb],\n",
    "        \"AUC\":[AUC_nn, AUC_dt, AUC_rf, AUC_gb]\n",
    "    }\n",
    ")\n",
    "mod_wave1_comparison"
   ]
  },
  {
   "cell_type": "code",
   "execution_count": 22,
   "metadata": {},
   "outputs": [],
   "source": [
    "mod_wave1_plot = pd.DataFrame(\n",
    "    {\n",
    "        \"res1\": intuit75k_std_test[\"res1\"],\n",
    "        \"Neural Network\":intuit75k_std_test[\"mailto_NN_proba\"],\n",
    "        \"Decision Tree\":intuit75k_std_test[\"mailto_dt_prob\"],\n",
    "        \"Random Forest\": intuit75k_std_test[\"mailto_rf_prob\"],\n",
    "        \"Gradient Boosting\": intuit75k_std_test[\"mailto_gb_prob\"]\n",
    "    }\n",
    ")"
   ]
  },
  {
   "cell_type": "code",
   "execution_count": 23,
   "metadata": {},
   "outputs": [
    {
     "data": {
      "image/png": "[encoded data removed]",
      "text/plain": [
       "<Figure size 432x288 with 1 Axes>"
      ]
     },
     "metadata": {
      "needs_background": "light"
     },
     "output_type": "display_data"
    }
   ],
   "source": [
    "fig = rsm.gains_plot(mod_wave1_plot,\"res1\",\"Yes\",[\"Neural Network\",\"Decision Tree\",\"Random Forest\",\"Gradient Boosting\"])\n",
    "fig = fig.legend(title=None)"
   ]
  },
  {
   "cell_type": "code",
   "execution_count": 24,
   "metadata": {},
   "outputs": [
    {
     "data": {
      "image/png": "[encoded data removed]",
      "text/plain": [
       "<Figure size 432x288 with 1 Axes>"
      ]
     },
     "metadata": {
      "needs_background": "light"
     },
     "output_type": "display_data"
    }
   ],
   "source": [
    "fig = rsm.lift_plot(mod_wave1_plot,\"res1\",\"Yes\",[\"Neural Network\",\"Decision Tree\",\"Random Forest\",\"Gradient Boosting\"])\n",
    "fig = fig.legend(title=None)"
   ]
  },
  {
   "cell_type": "markdown",
   "metadata": {},
   "source": [
    "### Targeting for wave 2 using Gradient Boosting model"
   ]
  },
  {
   "cell_type": "code",
   "execution_count": 25,
   "metadata": {},
   "outputs": [],
   "source": [
    "intuit75k_std_test[\"mailto_gb_wav2\"] = np.where(intuit75k_std_test['mailto_gb_prob']*0.5 >= breakeven, 1, 0)"
   ]
  },
  {
   "cell_type": "code",
   "execution_count": 26,
   "metadata": {},
   "outputs": [
    {
     "name": "stdout",
     "output_type": "stream",
     "text": [
      "Among test customers(22500), we want to target 5792 customers in wave 2.\n"
     ]
    }
   ],
   "source": [
    "# If customers in test have already responsed wave_1, we should not mail them wave 2\n",
    "intuit75k_std_test[\"final_target\"] = intuit75k_std_test[\"mailto_gb_wav2\"]\n",
    "for i in range(0,len(intuit75k_std_test[\"final_target\"])):\n",
    "    if intuit75k_std_test['res1_yes'].iloc[i] == 1:\n",
    "        intuit75k_std_test[\"final_target\"].iloc[i] = 0\n",
    "Final_target_number = intuit75k_std_test[\"final_target\"].sum()\n",
    "print(\"Among test customers(22500), we want to target\", Final_target_number,\"customers in wave 2.\")"
   ]
  },
  {
   "cell_type": "code",
   "execution_count": 27,
   "metadata": {},
   "outputs": [],
   "source": [
    "# Output target labels for test customers\n",
    "output_df = intuit75k_std_test[[\"id\",\"final_target\"]]\n",
    "output_df = output_df.rename(columns={\"final_target\":\"mailto_wave2\"})\n",
    "output_df[\"mailto_wave2\"] =  output_df.mailto_wave2.astype('bool')\n",
    "output_df= output_df.set_index(\"id\")\n",
    "output_df.to_csv(\"Siqi_Xinyu_Yuefeng_Wenhsuan_Korinna.csv\")"
   ]
  },
  {
   "cell_type": "code",
   "execution_count": null,
   "metadata": {},
   "outputs": [],
   "source": []
  }
 ],
 "metadata": {
  "kernelspec": {
   "display_name": "Python 3",
   "language": "python",
   "name": "python3"
  },
  "language_info": {
   "codemirror_mode": {
    "name": "ipython",
    "version": 3
   },
   "file_extension": ".py",
   "mimetype": "text/x-python",
   "name": "python",
   "nbconvert_exporter": "python",
   "pygments_lexer": "ipython3",
   "version": "3.8.5"
  }
 },
 "nbformat": 4,
 "nbformat_minor": 4
}
