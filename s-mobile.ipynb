{
 "cells": [
  {
   "cell_type": "markdown",
   "metadata": {},
   "source": [
    "## S-Mobile: Predicting Customer Churn\n",
    "* Team-lead GitLab id: 243\n",
    "* Group name: Korinna\n",
    "* Team member names: Siqi Chen, Wen-Hsuan Hung, Xinyu Lou, Yuefeng Mao"
   ]
  },
  {
   "cell_type": "markdown",
   "metadata": {},
   "source": [
    "## Setup\n",
    "\n",
    "Please complete this Jupyter notebook by answering the questions in `s-mobile.pdf` on Canvas (week9/). Create a Notebook and HTML file with all your results and comments and push both the Notebook and HTML file to GitLab when your team is done. All results MUST be reproducible (i.e., the TA and I must be able to recreate the HTML from the Jupyter Notebook file without changes or errors). This means that you should NOT use any python-packages that are not part of the rsm-msba-spark docker container.\n",
    "\n",
    "This is the fourth group assignment for MGTA 455 and you will be using git and GitLab. If two people edit the same file at the same time you could get what is called a \"merge conflict\". git will not decide for you who's change to accept so the team-lead will have to determine which edits to use. To avoid merge conflicts, **always** \"pull\" changes to the repo before you start working on any files. Then, when you are done, save and commit your changes, and then push them to GitLab. Make \"pull first\" a habit!"
   ]
  },
  {
   "cell_type": "code",
   "execution_count": 1,
   "metadata": {},
   "outputs": [],
   "source": [
    "import warnings\n",
    "\n",
    "warnings.simplefilter(action=\"ignore\", category=FutureWarning)\n",
    "import os\n",
    "import urllib.request\n",
    "import zipfile\n",
    "from tempfile import NamedTemporaryFile as tmpfile\n",
    "\n",
    "import matplotlib as mpl\n",
    "import matplotlib.pyplot as plt\n",
    "import numpy as np\n",
    "import pandas as pd\n",
    "import pyrsm as rsm\n",
    "import statsmodels.formula.api as smf\n",
    "from sklearn import preprocessing\n",
    "from statsmodels.genmod.families import Binomial\n",
    "from statsmodels.genmod.families.links import logit\n",
    "\n",
    "import statsmodels.formula.api as smf\n",
    "from sklearn import preprocessing\n",
    "from statsmodels.genmod.families import Binomial\n",
    "from statsmodels.genmod.families.links import logit\n",
    "\n",
    "from sklearn.inspection import permutation_importance\n",
    "from sklearn.model_selection import GridSearchCV, cross_val_score, train_test_split\n",
    "from sklearn.neural_network import MLPRegressor, MLPClassifier\n",
    "from sklearn import tree\n",
    "from sklearn.tree import DecisionTreeClassifier \n",
    "from sklearn.ensemble import GradientBoostingClassifier, RandomForestClassifier\n",
    "from xgboost import XGBClassifier\n",
    "\n",
    "from sklearn.preprocessing import  OneHotEncoder\n",
    "\n",
    "from sklearn.metrics import roc_auc_score, accuracy_score, confusion_matrix, classification_report, roc_curve, auc, make_scorer,mean_squared_error,r2_score\n",
    "from sklearn.inspection import plot_partial_dependence \n",
    "\n",
    "import statsmodels.formula.api as smf \n",
    "from statsmodels.genmod.families import Binomial \n",
    "from statsmodels.genmod.families.links import logit \n",
    "\n",
    "import seaborn as sns\n",
    "\n",
    "# increase plot resolution\n",
    "mpl.rcParams[\"figure.dpi\"] = 100"
   ]
  },
  {
   "cell_type": "code",
   "execution_count": 2,
   "metadata": {},
   "outputs": [],
   "source": [
    "## load the data - this dataset must NOT be changed\n",
    "s_mobile = pd.read_pickle(\"data/s_mobile.pkl\")\n",
    "s_mobile[\"churn_yes\"] = rsm.ifelse(s_mobile[\"churn\"] == \"yes\", 1, 0)"
   ]
  },
  {
   "cell_type": "markdown",
   "metadata": {},
   "source": [
    "If you want access to the full 1M row dataset, use the code below to download and use the data. Please do **not** include the 1M row dataset in your repo!\n",
    "\n",
    "The downside to using the dataset with 1M rows is, of course, that estimation time will increase substantially. I do NOT recommend you use this dataset to select your final model or for tuning hyper parameters. You can, however, use this larger dataset to re-estimate your chosen model and generate profit estimates for the representative sample."
   ]
  },
  {
   "cell_type": "code",
   "execution_count": 3,
   "metadata": {},
   "outputs": [],
   "source": [
    "## uncomment to run\n",
    "# url = \"https://www.dropbox.com/s/xhiexneeok9gyhs/s_mobile_1M.pkl.zip?dl=1\"\n",
    "# file_path, _ = urllib.request.urlretrieve(url)\n",
    "# zip_file = zipfile.ZipFile(file_path, \"r\")\n",
    "# s_mobile_tmp = zip_file.open(zip_file.namelist()[0])\n",
    "# os.remove(file_path)\n",
    "# s_mobile = pd.read_pickle(s_mobile_tmp)"
   ]
  },
  {
   "cell_type": "code",
   "execution_count": 4,
   "metadata": {},
   "outputs": [
    {
     "data": {
      "text/markdown": [
       "## S-mobile\n",
       "\n",
       "Dataset used to investigate opportunities to decrease customer churn at S-mobile. The sample consists of three parts:\n",
       "\n",
       "1. A training sample with 27,300 observations and a 50% churn rate (\"training == 1\")\n",
       "2. A test sample with 11,700 observations and a 50% churn rate (\"training == 0\")\n",
       "3. A representative sample with 30,000 observations and a churn rate of 2%, i.e., the actual monthly churn rate for S-mobile (\"is.na(training)\" or \"representative == 1\")\n",
       "\n",
       "## Variables\n",
       "\n",
       "* customer: Customer ID\n",
       "* churn: Did consumer churn in the last 30 days? (yes or no)\n",
       "* changer: % change in revenue over the most recent 4 month period\n",
       "* changem: % change in minutes of use over the most recent 4 month period\n",
       "* revenue: Mean monthly revenue in SGD\n",
       "* mou: Mean monthly minutes of use\n",
       "* overage: Mean monthly overage minutes\n",
       "* roam: Mean number of roaming calls\n",
       "* conference: Mean number of conference calls\n",
       "* months: # of months the customer has had service with S-Mobile\n",
       "* uniqsubs: Number of individuals listed on the customer account\n",
       "* custcare: Mean number of calls to customer care \n",
       "* retcalls: Number of calls by the customer to the retention team\n",
       "* dropvce: Mean number of dropped voice calls \n",
       "* eqpdays: Number of days customer has owned current handset\n",
       "* refurb: Handset is refurbished (no or yes)\n",
       "* smartphone: Handset is a smartphone (no or yes)\n",
       "* creditr: High credit rating as opposed to medium or low (no or yes)\n",
       "* mcycle: Subscriber owns a motorcycle (no or yes)\n",
       "* car: Subscriber owns a car (no or yes)\n",
       "* travel: Subscriber has traveled internationally (no or yes)\n",
       "* region: Regions delineated by the 5 Community Development Council Districts (e.g., CS is Central Singapore)\n",
       "* occupation: Categorical variable with 4 occupation levels (professional, student, retired, or other)\n",
       "* training: 1 for training sample, 0 for test sample, NA for representative sample\n",
       "* representative: 1 for representative sample, 0 for training and test sample\n"
      ],
      "text/plain": [
       "<IPython.core.display.Markdown object>"
      ]
     },
     "metadata": {},
     "output_type": "display_data"
    }
   ],
   "source": [
    "# show dataset description\n",
    "rsm.describe(s_mobile)"
   ]
  },
  {
   "cell_type": "markdown",
   "metadata": {},
   "source": [
    "Use `smf.glm` with `freq_weights` and `cov_type` like in the below example\n",
    "    \n",
    "```python\n",
    "lr = smf.glm(\n",
    "    formula=\"churn_yes ~ changer + changem + ...\",\n",
    "    family=Binomial(link=logit()),\n",
    "    data=pentathlon_nptb.query(\"training == 1\"),\n",
    "    freq_weights=s_mobile.loc[mobile.training == 1, \"cweight\"],\n",
    ").fit(cov_type=\"HC1\")\n",
    "```"
   ]
  },
  {
   "cell_type": "code",
   "execution_count": 5,
   "metadata": {},
   "outputs": [
    {
     "name": "stdout",
     "output_type": "stream",
     "text": [
      "     index     OR   OR%  2.5%  97.5% p.values    \n",
      "1  changer  1.001  0.1%   1.0  1.002    0.006  **\n"
     ]
    }
   ],
   "source": [
    "# run python code from another notebook\n",
    "%run ./sub-notebooks/model1.ipynb"
   ]
  },
  {
   "cell_type": "code",
   "execution_count": 6,
   "metadata": {},
   "outputs": [
    {
     "name": "stdout",
     "output_type": "stream",
     "text": [
      "\n",
      "You just accessed a function from your first python packages!\n",
      "Change the code in utils/function.py to whatever you need for this assignment\n",
      "Use 'from utils import functions' to get access to your code\n",
      "You can add modules to import from by adding additional .py files to the 'utils' directory\n",
      "Note: If you make changes to the content of this file you will have to restart the notebook kernel to get the updates\n",
      "\n"
     ]
    }
   ],
   "source": [
    "# importing functions from a module/package\n",
    "from utils import functions\n",
    "\n",
    "functions.example()"
   ]
  },
  {
   "cell_type": "code",
   "execution_count": 3,
   "metadata": {},
   "outputs": [],
   "source": [
    "pd.options.mode.chained_assignment = None"
   ]
  },
  {
   "cell_type": "markdown",
   "metadata": {},
   "source": [
    "# Question answers"
   ]
  },
  {
   "cell_type": "markdown",
   "metadata": {},
   "source": [
    "## Data Pre-processing"
   ]
  },
  {
   "cell_type": "code",
   "execution_count": 4,
   "metadata": {},
   "outputs": [],
   "source": [
    "s_mobile[\"cweight\"] = rsm.ifelse(s_mobile.churn == \"yes\", 2, 98)"
   ]
  },
  {
   "cell_type": "code",
   "execution_count": 5,
   "metadata": {},
   "outputs": [],
   "source": [
    "to_std = s_mobile.loc[:, \"changer\":\"eqpdays\"].columns\n",
    "\n",
    "# scale numeric variables by (x - mean(x)) / sd(x)\n",
    "s_mobile_std = s_mobile.copy()\n",
    "s_mobile_std[to_std] = rsm.scale_df(\n",
    "   s_mobile[to_std], sf=1\n",
    ")"
   ]
  },
  {
   "cell_type": "code",
   "execution_count": 6,
   "metadata": {},
   "outputs": [],
   "source": [
    "s_mobile_train = s_mobile[s_mobile['training'] == 1]\n",
    "s_mobile_test = s_mobile[s_mobile['training'] == 0]"
   ]
  },
  {
   "cell_type": "markdown",
   "metadata": {},
   "source": [
    "## Question 1: Develop a model to predict customer churn  "
   ]
  },
  {
   "cell_type": "markdown",
   "metadata": {},
   "source": [
    "### 1) Model comparison"
   ]
  },
  {
   "cell_type": "markdown",
   "metadata": {},
   "source": [
    "#### A) Logistic Regression"
   ]
  },
  {
   "cell_type": "code",
   "execution_count": 11,
   "metadata": {},
   "outputs": [],
   "source": [
    "lr = smf.glm(\n",
    "        formula=\"churn_yes ~ changer + changem + revenue + mou + overage + roam + \\\n",
    "                 conference + months + uniqsubs + custcare + \\\n",
    "                 retcalls + dropvce + eqpdays + refurb + smartphone + highcreditr + mcycle + car + \\\n",
    "                 travel + region + occupation\",\n",
    "        family=Binomial(link=logit()), \n",
    "         data=s_mobile_train \n",
    "    ).fit(cov_type=\"HC1\")"
   ]
  },
  {
   "cell_type": "code",
   "execution_count": 12,
   "metadata": {
    "scrolled": true
   },
   "outputs": [
    {
     "data": {
      "text/html": [
       "<div>\n",
       "<style scoped>\n",
       "    .dataframe tbody tr th:only-of-type {\n",
       "        vertical-align: middle;\n",
       "    }\n",
       "\n",
       "    .dataframe tbody tr th {\n",
       "        vertical-align: top;\n",
       "    }\n",
       "\n",
       "    .dataframe thead th {\n",
       "        text-align: right;\n",
       "    }\n",
       "</style>\n",
       "<table border=\"1\" class=\"dataframe\">\n",
       "  <thead>\n",
       "    <tr style=\"text-align: right;\">\n",
       "      <th></th>\n",
       "      <th>index</th>\n",
       "      <th>OR</th>\n",
       "      <th>OR%</th>\n",
       "      <th>2.5%</th>\n",
       "      <th>97.5%</th>\n",
       "      <th>p.values</th>\n",
       "      <th></th>\n",
       "      <th>dummy</th>\n",
       "      <th>importance</th>\n",
       "    </tr>\n",
       "  </thead>\n",
       "  <tbody>\n",
       "    <tr>\n",
       "      <th>13</th>\n",
       "      <td>occupation[T.retired]</td>\n",
       "      <td>0.187</td>\n",
       "      <td>-81.3%</td>\n",
       "      <td>0.166</td>\n",
       "      <td>0.211</td>\n",
       "      <td>&lt; .001</td>\n",
       "      <td>***</td>\n",
       "      <td>True</td>\n",
       "      <td>5.353</td>\n",
       "    </tr>\n",
       "    <tr>\n",
       "      <th>3</th>\n",
       "      <td>highcreditr[T.yes]</td>\n",
       "      <td>0.492</td>\n",
       "      <td>-50.8%</td>\n",
       "      <td>0.455</td>\n",
       "      <td>0.533</td>\n",
       "      <td>&lt; .001</td>\n",
       "      <td>***</td>\n",
       "      <td>True</td>\n",
       "      <td>2.031</td>\n",
       "    </tr>\n",
       "    <tr>\n",
       "      <th>24</th>\n",
       "      <td>retcalls</td>\n",
       "      <td>2.023</td>\n",
       "      <td>102.3%</td>\n",
       "      <td>1.775</td>\n",
       "      <td>2.306</td>\n",
       "      <td>&lt; .001</td>\n",
       "      <td>***</td>\n",
       "      <td>False</td>\n",
       "      <td>2.023</td>\n",
       "    </tr>\n",
       "    <tr>\n",
       "      <th>12</th>\n",
       "      <td>occupation[T.student]</td>\n",
       "      <td>1.846</td>\n",
       "      <td>84.6%</td>\n",
       "      <td>1.675</td>\n",
       "      <td>2.035</td>\n",
       "      <td>&lt; .001</td>\n",
       "      <td>***</td>\n",
       "      <td>True</td>\n",
       "      <td>1.846</td>\n",
       "    </tr>\n",
       "    <tr>\n",
       "      <th>10</th>\n",
       "      <td>region[T.SW]</td>\n",
       "      <td>0.634</td>\n",
       "      <td>-36.6%</td>\n",
       "      <td>0.587</td>\n",
       "      <td>0.686</td>\n",
       "      <td>&lt; .001</td>\n",
       "      <td>***</td>\n",
       "      <td>True</td>\n",
       "      <td>1.576</td>\n",
       "    </tr>\n",
       "    <tr>\n",
       "      <th>7</th>\n",
       "      <td>region[T.NE]</td>\n",
       "      <td>0.643</td>\n",
       "      <td>-35.7%</td>\n",
       "      <td>0.595</td>\n",
       "      <td>0.694</td>\n",
       "      <td>&lt; .001</td>\n",
       "      <td>***</td>\n",
       "      <td>True</td>\n",
       "      <td>1.556</td>\n",
       "    </tr>\n",
       "    <tr>\n",
       "      <th>9</th>\n",
       "      <td>region[T.SE]</td>\n",
       "      <td>0.655</td>\n",
       "      <td>-34.5%</td>\n",
       "      <td>0.607</td>\n",
       "      <td>0.708</td>\n",
       "      <td>&lt; .001</td>\n",
       "      <td>***</td>\n",
       "      <td>True</td>\n",
       "      <td>1.526</td>\n",
       "    </tr>\n",
       "    <tr>\n",
       "      <th>8</th>\n",
       "      <td>region[T.NW]</td>\n",
       "      <td>0.665</td>\n",
       "      <td>-33.5%</td>\n",
       "      <td>0.615</td>\n",
       "      <td>0.718</td>\n",
       "      <td>&lt; .001</td>\n",
       "      <td>***</td>\n",
       "      <td>True</td>\n",
       "      <td>1.504</td>\n",
       "    </tr>\n",
       "    <tr>\n",
       "      <th>11</th>\n",
       "      <td>occupation[T.professional]</td>\n",
       "      <td>1.437</td>\n",
       "      <td>43.7%</td>\n",
       "      <td>1.346</td>\n",
       "      <td>1.535</td>\n",
       "      <td>&lt; .001</td>\n",
       "      <td>***</td>\n",
       "      <td>True</td>\n",
       "      <td>1.437</td>\n",
       "    </tr>\n",
       "    <tr>\n",
       "      <th>1</th>\n",
       "      <td>refurb[T.yes]</td>\n",
       "      <td>1.351</td>\n",
       "      <td>35.1%</td>\n",
       "      <td>1.254</td>\n",
       "      <td>1.456</td>\n",
       "      <td>&lt; .001</td>\n",
       "      <td>***</td>\n",
       "      <td>True</td>\n",
       "      <td>1.351</td>\n",
       "    </tr>\n",
       "    <tr>\n",
       "      <th>6</th>\n",
       "      <td>travel[T.yes]</td>\n",
       "      <td>0.784</td>\n",
       "      <td>-21.6%</td>\n",
       "      <td>0.698</td>\n",
       "      <td>0.880</td>\n",
       "      <td>&lt; .001</td>\n",
       "      <td>***</td>\n",
       "      <td>True</td>\n",
       "      <td>1.276</td>\n",
       "    </tr>\n",
       "    <tr>\n",
       "      <th>4</th>\n",
       "      <td>mcycle[T.yes]</td>\n",
       "      <td>0.900</td>\n",
       "      <td>-10.0%</td>\n",
       "      <td>0.827</td>\n",
       "      <td>0.980</td>\n",
       "      <td>0.015</td>\n",
       "      <td>*</td>\n",
       "      <td>True</td>\n",
       "      <td>1.111</td>\n",
       "    </tr>\n",
       "    <tr>\n",
       "      <th>2</th>\n",
       "      <td>smartphone[T.yes]</td>\n",
       "      <td>0.910</td>\n",
       "      <td>-9.0%</td>\n",
       "      <td>0.830</td>\n",
       "      <td>0.998</td>\n",
       "      <td>0.046</td>\n",
       "      <td>*</td>\n",
       "      <td>True</td>\n",
       "      <td>1.098</td>\n",
       "    </tr>\n",
       "    <tr>\n",
       "      <th>22</th>\n",
       "      <td>uniqsubs</td>\n",
       "      <td>1.046</td>\n",
       "      <td>4.6%</td>\n",
       "      <td>1.017</td>\n",
       "      <td>1.076</td>\n",
       "      <td>0.002</td>\n",
       "      <td>**</td>\n",
       "      <td>False</td>\n",
       "      <td>1.046</td>\n",
       "    </tr>\n",
       "    <tr>\n",
       "      <th>21</th>\n",
       "      <td>months</td>\n",
       "      <td>0.983</td>\n",
       "      <td>-1.7%</td>\n",
       "      <td>0.980</td>\n",
       "      <td>0.986</td>\n",
       "      <td>&lt; .001</td>\n",
       "      <td>***</td>\n",
       "      <td>False</td>\n",
       "      <td>1.017</td>\n",
       "    </tr>\n",
       "    <tr>\n",
       "      <th>20</th>\n",
       "      <td>conference</td>\n",
       "      <td>0.985</td>\n",
       "      <td>-1.5%</td>\n",
       "      <td>0.960</td>\n",
       "      <td>1.011</td>\n",
       "      <td>0.266</td>\n",
       "      <td></td>\n",
       "      <td>False</td>\n",
       "      <td>1.015</td>\n",
       "    </tr>\n",
       "    <tr>\n",
       "      <th>25</th>\n",
       "      <td>dropvce</td>\n",
       "      <td>1.013</td>\n",
       "      <td>1.3%</td>\n",
       "      <td>1.005</td>\n",
       "      <td>1.020</td>\n",
       "      <td>0.001</td>\n",
       "      <td>**</td>\n",
       "      <td>False</td>\n",
       "      <td>1.013</td>\n",
       "    </tr>\n",
       "    <tr>\n",
       "      <th>19</th>\n",
       "      <td>roam</td>\n",
       "      <td>1.009</td>\n",
       "      <td>0.9%</td>\n",
       "      <td>1.004</td>\n",
       "      <td>1.014</td>\n",
       "      <td>&lt; .001</td>\n",
       "      <td>***</td>\n",
       "      <td>False</td>\n",
       "      <td>1.009</td>\n",
       "    </tr>\n",
       "    <tr>\n",
       "      <th>18</th>\n",
       "      <td>overage</td>\n",
       "      <td>1.004</td>\n",
       "      <td>0.4%</td>\n",
       "      <td>1.004</td>\n",
       "      <td>1.005</td>\n",
       "      <td>&lt; .001</td>\n",
       "      <td>***</td>\n",
       "      <td>False</td>\n",
       "      <td>1.004</td>\n",
       "    </tr>\n",
       "    <tr>\n",
       "      <th>23</th>\n",
       "      <td>custcare</td>\n",
       "      <td>0.998</td>\n",
       "      <td>-0.2%</td>\n",
       "      <td>0.991</td>\n",
       "      <td>1.005</td>\n",
       "      <td>0.526</td>\n",
       "      <td></td>\n",
       "      <td>False</td>\n",
       "      <td>1.002</td>\n",
       "    </tr>\n",
       "    <tr>\n",
       "      <th>14</th>\n",
       "      <td>changer</td>\n",
       "      <td>1.001</td>\n",
       "      <td>0.1%</td>\n",
       "      <td>1.000</td>\n",
       "      <td>1.002</td>\n",
       "      <td>0.07</td>\n",
       "      <td>.</td>\n",
       "      <td>False</td>\n",
       "      <td>1.001</td>\n",
       "    </tr>\n",
       "    <tr>\n",
       "      <th>15</th>\n",
       "      <td>changem</td>\n",
       "      <td>0.999</td>\n",
       "      <td>-0.1%</td>\n",
       "      <td>0.998</td>\n",
       "      <td>0.999</td>\n",
       "      <td>&lt; .001</td>\n",
       "      <td>***</td>\n",
       "      <td>False</td>\n",
       "      <td>1.001</td>\n",
       "    </tr>\n",
       "    <tr>\n",
       "      <th>5</th>\n",
       "      <td>car[T.yes]</td>\n",
       "      <td>1.001</td>\n",
       "      <td>0.1%</td>\n",
       "      <td>0.894</td>\n",
       "      <td>1.121</td>\n",
       "      <td>0.986</td>\n",
       "      <td></td>\n",
       "      <td>True</td>\n",
       "      <td>1.001</td>\n",
       "    </tr>\n",
       "    <tr>\n",
       "      <th>26</th>\n",
       "      <td>eqpdays</td>\n",
       "      <td>1.001</td>\n",
       "      <td>0.1%</td>\n",
       "      <td>1.001</td>\n",
       "      <td>1.002</td>\n",
       "      <td>&lt; .001</td>\n",
       "      <td>***</td>\n",
       "      <td>False</td>\n",
       "      <td>1.001</td>\n",
       "    </tr>\n",
       "    <tr>\n",
       "      <th>17</th>\n",
       "      <td>mou</td>\n",
       "      <td>1.000</td>\n",
       "      <td>-0.0%</td>\n",
       "      <td>1.000</td>\n",
       "      <td>1.000</td>\n",
       "      <td>&lt; .001</td>\n",
       "      <td>***</td>\n",
       "      <td>False</td>\n",
       "      <td>1.000</td>\n",
       "    </tr>\n",
       "    <tr>\n",
       "      <th>16</th>\n",
       "      <td>revenue</td>\n",
       "      <td>1.000</td>\n",
       "      <td>-0.0%</td>\n",
       "      <td>0.999</td>\n",
       "      <td>1.001</td>\n",
       "      <td>0.5</td>\n",
       "      <td></td>\n",
       "      <td>False</td>\n",
       "      <td>1.000</td>\n",
       "    </tr>\n",
       "  </tbody>\n",
       "</table>\n",
       "</div>"
      ],
      "text/plain": [
       "                         index     OR     OR%   2.5%  97.5% p.values       \\\n",
       "13       occupation[T.retired]  0.187  -81.3%  0.166  0.211   < .001  ***   \n",
       "3           highcreditr[T.yes]  0.492  -50.8%  0.455  0.533   < .001  ***   \n",
       "24                    retcalls  2.023  102.3%  1.775  2.306   < .001  ***   \n",
       "12       occupation[T.student]  1.846   84.6%  1.675  2.035   < .001  ***   \n",
       "10                region[T.SW]  0.634  -36.6%  0.587  0.686   < .001  ***   \n",
       "7                 region[T.NE]  0.643  -35.7%  0.595  0.694   < .001  ***   \n",
       "9                 region[T.SE]  0.655  -34.5%  0.607  0.708   < .001  ***   \n",
       "8                 region[T.NW]  0.665  -33.5%  0.615  0.718   < .001  ***   \n",
       "11  occupation[T.professional]  1.437   43.7%  1.346  1.535   < .001  ***   \n",
       "1                refurb[T.yes]  1.351   35.1%  1.254  1.456   < .001  ***   \n",
       "6                travel[T.yes]  0.784  -21.6%  0.698  0.880   < .001  ***   \n",
       "4                mcycle[T.yes]  0.900  -10.0%  0.827  0.980    0.015    *   \n",
       "2            smartphone[T.yes]  0.910   -9.0%  0.830  0.998    0.046    *   \n",
       "22                    uniqsubs  1.046    4.6%  1.017  1.076    0.002   **   \n",
       "21                      months  0.983   -1.7%  0.980  0.986   < .001  ***   \n",
       "20                  conference  0.985   -1.5%  0.960  1.011    0.266        \n",
       "25                     dropvce  1.013    1.3%  1.005  1.020    0.001   **   \n",
       "19                        roam  1.009    0.9%  1.004  1.014   < .001  ***   \n",
       "18                     overage  1.004    0.4%  1.004  1.005   < .001  ***   \n",
       "23                    custcare  0.998   -0.2%  0.991  1.005    0.526        \n",
       "14                     changer  1.001    0.1%  1.000  1.002     0.07    .   \n",
       "15                     changem  0.999   -0.1%  0.998  0.999   < .001  ***   \n",
       "5                   car[T.yes]  1.001    0.1%  0.894  1.121    0.986        \n",
       "26                     eqpdays  1.001    0.1%  1.001  1.002   < .001  ***   \n",
       "17                         mou  1.000   -0.0%  1.000  1.000   < .001  ***   \n",
       "16                     revenue  1.000   -0.0%  0.999  1.001      0.5        \n",
       "\n",
       "    dummy  importance  \n",
       "13   True       5.353  \n",
       "3    True       2.031  \n",
       "24  False       2.023  \n",
       "12   True       1.846  \n",
       "10   True       1.576  \n",
       "7    True       1.556  \n",
       "9    True       1.526  \n",
       "8    True       1.504  \n",
       "11   True       1.437  \n",
       "1    True       1.351  \n",
       "6    True       1.276  \n",
       "4    True       1.111  \n",
       "2    True       1.098  \n",
       "22  False       1.046  \n",
       "21  False       1.017  \n",
       "20  False       1.015  \n",
       "25  False       1.013  \n",
       "19  False       1.009  \n",
       "18  False       1.004  \n",
       "23  False       1.002  \n",
       "14  False       1.001  \n",
       "15  False       1.001  \n",
       "5    True       1.001  \n",
       "26  False       1.001  \n",
       "17  False       1.000  \n",
       "16  False       1.000  "
      ]
     },
     "execution_count": 12,
     "metadata": {},
     "output_type": "execute_result"
    }
   ],
   "source": [
    "rsm.or_ci(lr,importance=True).sort_values('importance',ascending = False)"
   ]
  },
  {
   "cell_type": "code",
   "execution_count": 13,
   "metadata": {},
   "outputs": [],
   "source": [
    "s_mobile_test[\"pred_logit\"] = lr.predict(s_mobile_test)"
   ]
  },
  {
   "cell_type": "code",
   "execution_count": 14,
   "metadata": {},
   "outputs": [],
   "source": [
    "def score_fun(y_pred,y_true):\n",
    "    AUC = roc_auc_score(y_true,y_pred)\n",
    "    R2 =r2_score(y_true, y_pred)\n",
    "    RMSE = np.sqrt(mean_squared_error(y_true, y_pred))\n",
    "    \n",
    "    print('AUC ' + str(AUC))\n",
    "    print('R2 ' + str(R2))\n",
    "    print('RMSE ' + str(RMSE))\n",
    "    \n",
    "    return AUC,R2,RMSE"
   ]
  },
  {
   "cell_type": "code",
   "execution_count": 15,
   "metadata": {},
   "outputs": [
    {
     "name": "stdout",
     "output_type": "stream",
     "text": [
      "AUC 0.6950007451238222\n",
      "R2 0.11875195823387075\n",
      "RMSE 0.4693740623868476\n"
     ]
    }
   ],
   "source": [
    "AUC_Logist, R2_Logist, RMSE_Logist = score_fun(s_mobile_test[\"pred_logit\"],s_mobile_test[\"churn_yes\"])"
   ]
  },
  {
   "cell_type": "code",
   "execution_count": 7,
   "metadata": {},
   "outputs": [],
   "source": [
    "columns = ['refurb' , 'smartphone' , 'highcreditr' , 'mcycle' , 'car' ,'travel' , 'region' , 'occupation']\n",
    "\n",
    "X_train_catagroy= pd.get_dummies(s_mobile_std[columns])\n",
    "X_num = s_mobile_std.loc[:,\"changer\":\"eqpdays\"]\n",
    "X_index = s_mobile_std.loc[:,\"training\":\"representative\"]\n",
    "\n",
    "X = pd.concat([X_train_catagroy,X_num,X_index],axis=1)\n",
    "\n",
    "X_train = X[X['training']==1]\n",
    "X_test = X[X['training']==0]\n",
    "X_repre = X[X['representative']==1]\n",
    "\n",
    "X_train = X_train.drop(['training','representative'],axis=1)\n",
    "X_test =  X_test.drop(['training','representative'],axis=1)\n",
    "X_repre = X_repre.drop(['training','representative'],axis=1)\n",
    "\n",
    "Y_train = s_mobile_std[s_mobile_std['training']==1][\"churn_yes\"]\n",
    "Y_test = s_mobile_std[s_mobile_std['training']==0][\"churn_yes\"]\n",
    "Y_repre = s_mobile_std[s_mobile_std['representative']==1][\"churn_yes\"]"
   ]
  },
  {
   "cell_type": "markdown",
   "metadata": {},
   "source": [
    "#### B) GradientBoosting"
   ]
  },
  {
   "cell_type": "code",
   "execution_count": 17,
   "metadata": {},
   "outputs": [
    {
     "name": "stdout",
     "output_type": "stream",
     "text": [
      "AUC 0.7584466944261816\n",
      "R2 0.20335098397239781\n",
      "RMSE 0.44627598412518293\n"
     ]
    }
   ],
   "source": [
    "gb = GradientBoostingClassifier(learning_rate=0.55, max_depth=2, n_estimators=90).fit(X_train,Y_train)\n",
    "# Evaluate test set \n",
    "s_mobile_test[\"pred_Boosting\"] = gb.predict_proba(X_test)[:,1]\n",
    "\n",
    "AUC_Boosting, R2_Boosting, RMSE_Boosting = score_fun(s_mobile_test[\"pred_Boosting\"],s_mobile_test[\"churn_yes\"])"
   ]
  },
  {
   "cell_type": "markdown",
   "metadata": {},
   "source": [
    "#### C) Random Forest"
   ]
  },
  {
   "cell_type": "code",
   "execution_count": 18,
   "metadata": {},
   "outputs": [
    {
     "name": "stdout",
     "output_type": "stream",
     "text": [
      "AUC 0.7367186500109577\n",
      "R2 0.16660726570496132\n",
      "RMSE 0.4564517319210868\n"
     ]
    }
   ],
   "source": [
    "best_model_RF = RandomForestClassifier(n_estimators = 100, max_depth = 14).fit(X_train, Y_train)\n",
    "s_mobile_test[\"pred_RF\"] = best_model_RF.predict_proba(X_test)[:,1]\n",
    "\n",
    "AUC_RF, R2_RF, RMSE_RF = score_fun(s_mobile_test[\"pred_RF\"],s_mobile_test[\"churn_yes\"])"
   ]
  },
  {
   "cell_type": "markdown",
   "metadata": {},
   "source": [
    "After grid search, regarding the AUC scores, we find Gradient Boosting model has the best performance on testing set, so we choose it for following calculation."
   ]
  },
  {
   "cell_type": "markdown",
   "metadata": {},
   "source": [
    "### 2) Re-estimation on 1M dataset"
   ]
  },
  {
   "cell_type": "code",
   "execution_count": 7,
   "metadata": {},
   "outputs": [],
   "source": [
    "# uncomment to run\n",
    "url = \"https://www.dropbox.com/s/xhiexneeok9gyhs/s_mobile_1M.pkl.zip?dl=1\"\n",
    "file_path, _ = urllib.request.urlretrieve(url)\n",
    "zip_file = zipfile.ZipFile(file_path, \"r\")\n",
    "s_mobile_tmp = zip_file.open(zip_file.namelist()[0])\n",
    "os.remove(file_path)\n",
    "s_mobile_1M = pd.read_pickle(s_mobile_tmp)"
   ]
  },
  {
   "cell_type": "code",
   "execution_count": 8,
   "metadata": {},
   "outputs": [],
   "source": [
    "to_std = s_mobile_1M.loc[:, \"changer\":\"eqpdays\"].columns\n",
    "\n",
    "# scale numeric variables by (x - mean(x)) / sd(x)\n",
    "s_mobile_1M_std = s_mobile_1M.copy()\n",
    "s_mobile_1M_std[to_std] = rsm.scale_df(\n",
    "   s_mobile_1M[to_std], sf=1\n",
    ")"
   ]
  },
  {
   "cell_type": "code",
   "execution_count": 9,
   "metadata": {},
   "outputs": [],
   "source": [
    "X = pd.get_dummies(s_mobile_1M_std.loc[:,\"changer\":\"occupation\"])\n",
    "\n",
    "s_mobile_1M_std[\"churn_yes\"] = rsm.ifelse(s_mobile_1M[\"churn\"] == \"yes\", 1, 0)\n",
    "Y = s_mobile_1M_std[\"churn_yes\"]"
   ]
  },
  {
   "cell_type": "code",
   "execution_count": 10,
   "metadata": {},
   "outputs": [],
   "source": [
    "gb = GradientBoostingClassifier(learning_rate=0.55, max_depth=2, n_estimators=90).fit(X,Y)"
   ]
  },
  {
   "cell_type": "markdown",
   "metadata": {},
   "source": [
    "### 3) Calculate and check churn probabilities on representative set"
   ]
  },
  {
   "cell_type": "code",
   "execution_count": 11,
   "metadata": {},
   "outputs": [],
   "source": [
    "s_mobile_repre = s_mobile_std[s_mobile_std['representative'] == 1]"
   ]
  },
  {
   "cell_type": "code",
   "execution_count": 12,
   "metadata": {},
   "outputs": [],
   "source": [
    "X_repre = pd.get_dummies(s_mobile_std[s_mobile_std.representative==1].loc[:,\"changer\":\"occupation\"])\n",
    "Y_repre = s_mobile_std[s_mobile_std.representative==1][\"churn_yes\"]"
   ]
  },
  {
   "cell_type": "code",
   "execution_count": 13,
   "metadata": {},
   "outputs": [],
   "source": [
    "s_mobile_repre[\"pred_Boosting\"] = gb.predict_proba(X_repre)[:,1]"
   ]
  },
  {
   "cell_type": "code",
   "execution_count": 14,
   "metadata": {},
   "outputs": [
    {
     "data": {
      "text/plain": [
       "0.025576560758160945"
      ]
     },
     "execution_count": 14,
     "metadata": {},
     "output_type": "execute_result"
    }
   ],
   "source": [
    "np.mean(s_mobile_repre[\"pred_Boosting\"])"
   ]
  },
  {
   "cell_type": "markdown",
   "metadata": {},
   "source": [
    "### 4) Calculate Variable importance and Partial dependence"
   ]
  },
  {
   "cell_type": "code",
   "execution_count": 22,
   "metadata": {},
   "outputs": [],
   "source": [
    "def importance(clf, X, y, cn):\n",
    "    imp = permutation_importance(\n",
    "        clf, X, y, scoring=\"roc_auc\", n_repeats=10, random_state=1234\n",
    "    )\n",
    "    data = pd.DataFrame(imp.importances.T)\n",
    "    data.columns = cn\n",
    "    order = data.agg(\"mean\").sort_values(ascending=False).index[:16]\n",
    "    fig = sns.barplot(\n",
    "        x=\"value\", y=\"variable\", color=\"slateblue\", data=pd.melt(data[order])\n",
    "    )\n",
    "    fig.set(title=\"Permutation Importances\", xlabel=None, ylabel=None)\n",
    "    #fig.set_ylabel(\"Y Label\",fontsize=20)\n",
    "    #fig.tick_params(labelsize=5)\n",
    "    return data[order],fig"
   ]
  },
  {
   "cell_type": "code",
   "execution_count": 23,
   "metadata": {},
   "outputs": [
    {
     "data": {
      "image/png": "[encoded data removed]",
      "text/plain": [
       "<Figure size 600x400 with 1 Axes>"
      ]
     },
     "metadata": {
      "needs_background": "light"
     },
     "output_type": "display_data"
    }
   ],
   "source": [
    "order, fig = importance(gb,X,Y,X.columns)"
   ]
  },
  {
   "cell_type": "code",
   "execution_count": 25,
   "metadata": {},
   "outputs": [
    {
     "data": {
      "text/plain": [
       "eqpdays                    0.136377\n",
       "months                     0.094701\n",
       "overage                    0.077417\n",
       "occupation_retired         0.053108\n",
       "mou                        0.036622\n",
       "revenue                    0.029702\n",
       "changem                    0.014139\n",
       "highcreditr_yes            0.014024\n",
       "occupation_professional    0.008795\n",
       "region_CS                  0.008190\n",
       "occupation_student         0.006810\n",
       "dropvce                    0.005677\n",
       "changer                    0.005481\n",
       "roam                       0.003428\n",
       "retcalls                   0.003362\n",
       "refurb_no                  0.001272\n",
       "dtype: float64"
      ]
     },
     "execution_count": 25,
     "metadata": {},
     "output_type": "execute_result"
    }
   ],
   "source": [
    "order.mean()"
   ]
  },
  {
   "cell_type": "code",
   "execution_count": 24,
   "metadata": {},
   "outputs": [
    {
     "data": {
      "image/png": "[encoded data removed]",
      "text/plain": [
       "<Figure size 480x320 with 2 Axes>"
      ]
     },
     "metadata": {
      "needs_background": "light"
     },
     "output_type": "display_data"
    },
    {
     "data": {
      "image/png": "[encoded data removed]",
      "text/plain": [
       "<Figure size 480x320 with 2 Axes>"
      ]
     },
     "metadata": {
      "needs_background": "light"
     },
     "output_type": "display_data"
    },
    {
     "data": {
      "image/png": "[encoded data removed]",
      "text/plain": [
       "<Figure size 480x320 with 2 Axes>"
      ]
     },
     "metadata": {
      "needs_background": "light"
     },
     "output_type": "display_data"
    },
    {
     "data": {
      "image/png": "[encoded data removed]",
      "text/plain": [
       "<Figure size 480x320 with 2 Axes>"
      ]
     },
     "metadata": {
      "needs_background": "light"
     },
     "output_type": "display_data"
    },
    {
     "data": {
      "image/png": "[encoded data removed]",
      "text/plain": [
       "<Figure size 480x320 with 2 Axes>"
      ]
     },
     "metadata": {
      "needs_background": "light"
     },
     "output_type": "display_data"
    }
   ],
   "source": [
    "disp2 = plot_partial_dependence(gb, X, [1]) \n",
    "disp2 = plot_partial_dependence(gb,X, [4]) \n",
    "disp2 = plot_partial_dependence(gb, X, [10]) \n",
    "disp2 = plot_partial_dependence(gb, X_repre, [11]) \n",
    "disp2 = plot_partial_dependence(gb, X_repre, [12])"
   ]
  },
  {
   "cell_type": "markdown",
   "metadata": {},
   "source": [
    "## Question 2: Analysis of model output from logistic regression "
   ]
  },
  {
   "cell_type": "code",
   "execution_count": 23,
   "metadata": {},
   "outputs": [],
   "source": [
    "lr = smf.glm(\n",
    "        formula=\"churn_yes ~ changer + changem + revenue + mou + overage + roam + \\\n",
    "                 conference + months + uniqsubs + custcare + \\\n",
    "                 retcalls + dropvce + eqpdays + refurb + smartphone + highcreditr + mcycle + car + \\\n",
    "                 travel + region + occupation\",\n",
    "        family=Binomial(link=logit()), \n",
    "        data=s_mobile_std.query(\"training == 1\"), \n",
    "        freq_weights=s_mobile_std.query(\"training == 1\")[\"cweight\"], \n",
    "    ).fit(cov_type=\"HC1\")"
   ]
  },
  {
   "cell_type": "code",
   "execution_count": 24,
   "metadata": {
    "scrolled": true
   },
   "outputs": [
    {
     "data": {
      "text/html": [
       "<div>\n",
       "<style scoped>\n",
       "    .dataframe tbody tr th:only-of-type {\n",
       "        vertical-align: middle;\n",
       "    }\n",
       "\n",
       "    .dataframe tbody tr th {\n",
       "        vertical-align: top;\n",
       "    }\n",
       "\n",
       "    .dataframe thead th {\n",
       "        text-align: right;\n",
       "    }\n",
       "</style>\n",
       "<table border=\"1\" class=\"dataframe\">\n",
       "  <thead>\n",
       "    <tr style=\"text-align: right;\">\n",
       "      <th></th>\n",
       "      <th>level_0</th>\n",
       "      <th>index</th>\n",
       "      <th>OR</th>\n",
       "      <th>OR%</th>\n",
       "      <th>2.5%</th>\n",
       "      <th>97.5%</th>\n",
       "      <th>p.values</th>\n",
       "      <th></th>\n",
       "      <th>dummy</th>\n",
       "      <th>importance</th>\n",
       "    </tr>\n",
       "  </thead>\n",
       "  <tbody>\n",
       "    <tr>\n",
       "      <th>0</th>\n",
       "      <td>13</td>\n",
       "      <td>occupation[T.retired]</td>\n",
       "      <td>0.184</td>\n",
       "      <td>-81.6%</td>\n",
       "      <td>0.171</td>\n",
       "      <td>0.199</td>\n",
       "      <td>&lt; .001</td>\n",
       "      <td>***</td>\n",
       "      <td>True</td>\n",
       "      <td>5.422</td>\n",
       "    </tr>\n",
       "    <tr>\n",
       "      <th>1</th>\n",
       "      <td>3</td>\n",
       "      <td>highcreditr[T.yes]</td>\n",
       "      <td>0.483</td>\n",
       "      <td>-51.7%</td>\n",
       "      <td>0.463</td>\n",
       "      <td>0.504</td>\n",
       "      <td>&lt; .001</td>\n",
       "      <td>***</td>\n",
       "      <td>True</td>\n",
       "      <td>2.069</td>\n",
       "    </tr>\n",
       "    <tr>\n",
       "      <th>2</th>\n",
       "      <td>12</td>\n",
       "      <td>occupation[T.student]</td>\n",
       "      <td>1.900</td>\n",
       "      <td>90.0%</td>\n",
       "      <td>1.820</td>\n",
       "      <td>1.983</td>\n",
       "      <td>&lt; .001</td>\n",
       "      <td>***</td>\n",
       "      <td>True</td>\n",
       "      <td>1.900</td>\n",
       "    </tr>\n",
       "    <tr>\n",
       "      <th>3</th>\n",
       "      <td>10</td>\n",
       "      <td>region[T.SW]</td>\n",
       "      <td>0.627</td>\n",
       "      <td>-37.3%</td>\n",
       "      <td>0.604</td>\n",
       "      <td>0.650</td>\n",
       "      <td>&lt; .001</td>\n",
       "      <td>***</td>\n",
       "      <td>True</td>\n",
       "      <td>1.595</td>\n",
       "    </tr>\n",
       "    <tr>\n",
       "      <th>4</th>\n",
       "      <td>7</td>\n",
       "      <td>region[T.NE]</td>\n",
       "      <td>0.644</td>\n",
       "      <td>-35.6%</td>\n",
       "      <td>0.621</td>\n",
       "      <td>0.668</td>\n",
       "      <td>&lt; .001</td>\n",
       "      <td>***</td>\n",
       "      <td>True</td>\n",
       "      <td>1.553</td>\n",
       "    </tr>\n",
       "    <tr>\n",
       "      <th>5</th>\n",
       "      <td>9</td>\n",
       "      <td>region[T.SE]</td>\n",
       "      <td>0.651</td>\n",
       "      <td>-34.9%</td>\n",
       "      <td>0.627</td>\n",
       "      <td>0.675</td>\n",
       "      <td>&lt; .001</td>\n",
       "      <td>***</td>\n",
       "      <td>True</td>\n",
       "      <td>1.537</td>\n",
       "    </tr>\n",
       "    <tr>\n",
       "      <th>6</th>\n",
       "      <td>8</td>\n",
       "      <td>region[T.NW]</td>\n",
       "      <td>0.660</td>\n",
       "      <td>-34.0%</td>\n",
       "      <td>0.636</td>\n",
       "      <td>0.684</td>\n",
       "      <td>&lt; .001</td>\n",
       "      <td>***</td>\n",
       "      <td>True</td>\n",
       "      <td>1.516</td>\n",
       "    </tr>\n",
       "    <tr>\n",
       "      <th>7</th>\n",
       "      <td>11</td>\n",
       "      <td>occupation[T.professional]</td>\n",
       "      <td>1.416</td>\n",
       "      <td>41.6%</td>\n",
       "      <td>1.372</td>\n",
       "      <td>1.460</td>\n",
       "      <td>&lt; .001</td>\n",
       "      <td>***</td>\n",
       "      <td>True</td>\n",
       "      <td>1.416</td>\n",
       "    </tr>\n",
       "    <tr>\n",
       "      <th>8</th>\n",
       "      <td>26</td>\n",
       "      <td>eqpdays</td>\n",
       "      <td>1.366</td>\n",
       "      <td>36.6%</td>\n",
       "      <td>1.344</td>\n",
       "      <td>1.388</td>\n",
       "      <td>&lt; .001</td>\n",
       "      <td>***</td>\n",
       "      <td>False</td>\n",
       "      <td>1.366</td>\n",
       "    </tr>\n",
       "    <tr>\n",
       "      <th>9</th>\n",
       "      <td>18</td>\n",
       "      <td>overage</td>\n",
       "      <td>1.341</td>\n",
       "      <td>34.1%</td>\n",
       "      <td>1.319</td>\n",
       "      <td>1.363</td>\n",
       "      <td>&lt; .001</td>\n",
       "      <td>***</td>\n",
       "      <td>False</td>\n",
       "      <td>1.341</td>\n",
       "    </tr>\n",
       "    <tr>\n",
       "      <th>10</th>\n",
       "      <td>1</td>\n",
       "      <td>refurb[T.yes]</td>\n",
       "      <td>1.318</td>\n",
       "      <td>31.8%</td>\n",
       "      <td>1.273</td>\n",
       "      <td>1.365</td>\n",
       "      <td>&lt; .001</td>\n",
       "      <td>***</td>\n",
       "      <td>True</td>\n",
       "      <td>1.318</td>\n",
       "    </tr>\n",
       "    <tr>\n",
       "      <th>11</th>\n",
       "      <td>6</td>\n",
       "      <td>travel[T.yes]</td>\n",
       "      <td>0.781</td>\n",
       "      <td>-21.9%</td>\n",
       "      <td>0.739</td>\n",
       "      <td>0.825</td>\n",
       "      <td>&lt; .001</td>\n",
       "      <td>***</td>\n",
       "      <td>True</td>\n",
       "      <td>1.280</td>\n",
       "    </tr>\n",
       "    <tr>\n",
       "      <th>12</th>\n",
       "      <td>17</td>\n",
       "      <td>mou</td>\n",
       "      <td>0.829</td>\n",
       "      <td>-17.1%</td>\n",
       "      <td>0.808</td>\n",
       "      <td>0.851</td>\n",
       "      <td>&lt; .001</td>\n",
       "      <td>***</td>\n",
       "      <td>False</td>\n",
       "      <td>1.206</td>\n",
       "    </tr>\n",
       "    <tr>\n",
       "      <th>13</th>\n",
       "      <td>21</td>\n",
       "      <td>months</td>\n",
       "      <td>0.842</td>\n",
       "      <td>-15.8%</td>\n",
       "      <td>0.829</td>\n",
       "      <td>0.855</td>\n",
       "      <td>&lt; .001</td>\n",
       "      <td>***</td>\n",
       "      <td>False</td>\n",
       "      <td>1.188</td>\n",
       "    </tr>\n",
       "    <tr>\n",
       "      <th>14</th>\n",
       "      <td>4</td>\n",
       "      <td>mcycle[T.yes]</td>\n",
       "      <td>0.883</td>\n",
       "      <td>-11.7%</td>\n",
       "      <td>0.848</td>\n",
       "      <td>0.919</td>\n",
       "      <td>&lt; .001</td>\n",
       "      <td>***</td>\n",
       "      <td>True</td>\n",
       "      <td>1.133</td>\n",
       "    </tr>\n",
       "    <tr>\n",
       "      <th>15</th>\n",
       "      <td>24</td>\n",
       "      <td>retcalls</td>\n",
       "      <td>1.126</td>\n",
       "      <td>12.6%</td>\n",
       "      <td>1.116</td>\n",
       "      <td>1.136</td>\n",
       "      <td>&lt; .001</td>\n",
       "      <td>***</td>\n",
       "      <td>False</td>\n",
       "      <td>1.126</td>\n",
       "    </tr>\n",
       "    <tr>\n",
       "      <th>16</th>\n",
       "      <td>2</td>\n",
       "      <td>smartphone[T.yes]</td>\n",
       "      <td>0.913</td>\n",
       "      <td>-8.7%</td>\n",
       "      <td>0.875</td>\n",
       "      <td>0.952</td>\n",
       "      <td>&lt; .001</td>\n",
       "      <td>***</td>\n",
       "      <td>True</td>\n",
       "      <td>1.095</td>\n",
       "    </tr>\n",
       "    <tr>\n",
       "      <th>17</th>\n",
       "      <td>15</td>\n",
       "      <td>changem</td>\n",
       "      <td>0.928</td>\n",
       "      <td>-7.2%</td>\n",
       "      <td>0.913</td>\n",
       "      <td>0.943</td>\n",
       "      <td>&lt; .001</td>\n",
       "      <td>***</td>\n",
       "      <td>False</td>\n",
       "      <td>1.078</td>\n",
       "    </tr>\n",
       "    <tr>\n",
       "      <th>18</th>\n",
       "      <td>19</td>\n",
       "      <td>roam</td>\n",
       "      <td>1.075</td>\n",
       "      <td>7.5%</td>\n",
       "      <td>1.061</td>\n",
       "      <td>1.088</td>\n",
       "      <td>&lt; .001</td>\n",
       "      <td>***</td>\n",
       "      <td>False</td>\n",
       "      <td>1.075</td>\n",
       "    </tr>\n",
       "    <tr>\n",
       "      <th>19</th>\n",
       "      <td>25</td>\n",
       "      <td>dropvce</td>\n",
       "      <td>1.066</td>\n",
       "      <td>6.6%</td>\n",
       "      <td>1.050</td>\n",
       "      <td>1.083</td>\n",
       "      <td>&lt; .001</td>\n",
       "      <td>***</td>\n",
       "      <td>False</td>\n",
       "      <td>1.066</td>\n",
       "    </tr>\n",
       "    <tr>\n",
       "      <th>20</th>\n",
       "      <td>14</td>\n",
       "      <td>changer</td>\n",
       "      <td>1.033</td>\n",
       "      <td>3.3%</td>\n",
       "      <td>1.020</td>\n",
       "      <td>1.047</td>\n",
       "      <td>&lt; .001</td>\n",
       "      <td>***</td>\n",
       "      <td>False</td>\n",
       "      <td>1.033</td>\n",
       "    </tr>\n",
       "    <tr>\n",
       "      <th>21</th>\n",
       "      <td>22</td>\n",
       "      <td>uniqsubs</td>\n",
       "      <td>1.032</td>\n",
       "      <td>3.2%</td>\n",
       "      <td>1.020</td>\n",
       "      <td>1.045</td>\n",
       "      <td>&lt; .001</td>\n",
       "      <td>***</td>\n",
       "      <td>False</td>\n",
       "      <td>1.032</td>\n",
       "    </tr>\n",
       "    <tr>\n",
       "      <th>22</th>\n",
       "      <td>16</td>\n",
       "      <td>revenue</td>\n",
       "      <td>0.978</td>\n",
       "      <td>-2.2%</td>\n",
       "      <td>0.957</td>\n",
       "      <td>0.998</td>\n",
       "      <td>0.034</td>\n",
       "      <td>*</td>\n",
       "      <td>False</td>\n",
       "      <td>1.023</td>\n",
       "    </tr>\n",
       "    <tr>\n",
       "      <th>23</th>\n",
       "      <td>20</td>\n",
       "      <td>conference</td>\n",
       "      <td>0.981</td>\n",
       "      <td>-1.9%</td>\n",
       "      <td>0.962</td>\n",
       "      <td>1.000</td>\n",
       "      <td>0.049</td>\n",
       "      <td>*</td>\n",
       "      <td>False</td>\n",
       "      <td>1.020</td>\n",
       "    </tr>\n",
       "    <tr>\n",
       "      <th>24</th>\n",
       "      <td>23</td>\n",
       "      <td>custcare</td>\n",
       "      <td>0.988</td>\n",
       "      <td>-1.2%</td>\n",
       "      <td>0.973</td>\n",
       "      <td>1.003</td>\n",
       "      <td>0.111</td>\n",
       "      <td></td>\n",
       "      <td>False</td>\n",
       "      <td>1.012</td>\n",
       "    </tr>\n",
       "    <tr>\n",
       "      <th>25</th>\n",
       "      <td>5</td>\n",
       "      <td>car[T.yes]</td>\n",
       "      <td>0.991</td>\n",
       "      <td>-0.9%</td>\n",
       "      <td>0.939</td>\n",
       "      <td>1.045</td>\n",
       "      <td>0.733</td>\n",
       "      <td></td>\n",
       "      <td>True</td>\n",
       "      <td>1.009</td>\n",
       "    </tr>\n",
       "  </tbody>\n",
       "</table>\n",
       "</div>"
      ],
      "text/plain": [
       "    level_0                       index     OR     OR%   2.5%  97.5% p.values  \\\n",
       "0        13       occupation[T.retired]  0.184  -81.6%  0.171  0.199   < .001   \n",
       "1         3          highcreditr[T.yes]  0.483  -51.7%  0.463  0.504   < .001   \n",
       "2        12       occupation[T.student]  1.900   90.0%  1.820  1.983   < .001   \n",
       "3        10                region[T.SW]  0.627  -37.3%  0.604  0.650   < .001   \n",
       "4         7                region[T.NE]  0.644  -35.6%  0.621  0.668   < .001   \n",
       "5         9                region[T.SE]  0.651  -34.9%  0.627  0.675   < .001   \n",
       "6         8                region[T.NW]  0.660  -34.0%  0.636  0.684   < .001   \n",
       "7        11  occupation[T.professional]  1.416   41.6%  1.372  1.460   < .001   \n",
       "8        26                     eqpdays  1.366   36.6%  1.344  1.388   < .001   \n",
       "9        18                     overage  1.341   34.1%  1.319  1.363   < .001   \n",
       "10        1               refurb[T.yes]  1.318   31.8%  1.273  1.365   < .001   \n",
       "11        6               travel[T.yes]  0.781  -21.9%  0.739  0.825   < .001   \n",
       "12       17                         mou  0.829  -17.1%  0.808  0.851   < .001   \n",
       "13       21                      months  0.842  -15.8%  0.829  0.855   < .001   \n",
       "14        4               mcycle[T.yes]  0.883  -11.7%  0.848  0.919   < .001   \n",
       "15       24                    retcalls  1.126   12.6%  1.116  1.136   < .001   \n",
       "16        2           smartphone[T.yes]  0.913   -8.7%  0.875  0.952   < .001   \n",
       "17       15                     changem  0.928   -7.2%  0.913  0.943   < .001   \n",
       "18       19                        roam  1.075    7.5%  1.061  1.088   < .001   \n",
       "19       25                     dropvce  1.066    6.6%  1.050  1.083   < .001   \n",
       "20       14                     changer  1.033    3.3%  1.020  1.047   < .001   \n",
       "21       22                    uniqsubs  1.032    3.2%  1.020  1.045   < .001   \n",
       "22       16                     revenue  0.978   -2.2%  0.957  0.998    0.034   \n",
       "23       20                  conference  0.981   -1.9%  0.962  1.000    0.049   \n",
       "24       23                    custcare  0.988   -1.2%  0.973  1.003    0.111   \n",
       "25        5                  car[T.yes]  0.991   -0.9%  0.939  1.045    0.733   \n",
       "\n",
       "         dummy  importance  \n",
       "0   ***   True       5.422  \n",
       "1   ***   True       2.069  \n",
       "2   ***   True       1.900  \n",
       "3   ***   True       1.595  \n",
       "4   ***   True       1.553  \n",
       "5   ***   True       1.537  \n",
       "6   ***   True       1.516  \n",
       "7   ***   True       1.416  \n",
       "8   ***  False       1.366  \n",
       "9   ***  False       1.341  \n",
       "10  ***   True       1.318  \n",
       "11  ***   True       1.280  \n",
       "12  ***  False       1.206  \n",
       "13  ***  False       1.188  \n",
       "14  ***   True       1.133  \n",
       "15  ***  False       1.126  \n",
       "16  ***   True       1.095  \n",
       "17  ***  False       1.078  \n",
       "18  ***  False       1.075  \n",
       "19  ***  False       1.066  \n",
       "20  ***  False       1.033  \n",
       "21  ***  False       1.032  \n",
       "22    *  False       1.023  \n",
       "23    *  False       1.020  \n",
       "24       False       1.012  \n",
       "25        True       1.009  "
      ]
     },
     "execution_count": 24,
     "metadata": {},
     "output_type": "execute_result"
    }
   ],
   "source": [
    "rsm.or_ci(lr,importance=True).sort_values(\"importance\",ascending=False).reset_index()"
   ]
  },
  {
   "cell_type": "markdown",
   "metadata": {},
   "source": [
    "From the importance scores of logistic regression, we find the top 5 factors affecting customer churn rate are occupation, high credit rating, region, eqpdays, and overage.\n",
    "\n",
    "` occupation[T.retired] `\n",
    "The level \"retired\" in occupation is the variable with highest importance score of 5.422. Its OR is 0.184, which means compared to reference level (\"other\"), with other features remaining the same, a switch from \"other\" to \"retired\" in occupation will decrease the churn rate by 81.6%.\n",
    "\n",
    "` highcreditr[T.yes] `\n",
    "The level \"yes\" in highcreditr is the variable with 2nd highest importance score of 2.069. Its OR is 0.483, which means compared to reference level (\"no\"), with other features remaining the same, a switch from \"no\" to \"yes\" in highcreditr will decrease the churn rate by 51.7%.\n",
    "\n",
    "` occupation[T.student] `\n",
    "The level \"student\" in occupation is the variable with 3rd highest importance score of 1.900. Its OR is 1.900, which means compared to reference level (\"other\"), with other features remaining the same, a switch from \"other\" to \"student\" in occupation will increase the churn rate by 90.0%.\n",
    "\n",
    "` region[T.SW] `\n",
    "The level \"SW\" in region is the variable with 4th highest importance score of 1.595. Its OR is 0.627, which means compared to reference level (\"CS\"), with other features remaining the same, a switch from \"CS\" to \"SW\" in region will decrease the churn rate by 37.3%.\n",
    "\n",
    "` region[T.NE] `\n",
    "The level \"NE\" in region is the variable with 5th highest importance score of 1.553. Its OR is 0.644, which means compared to reference level (\"CS\"), with other features remaining the same, a switch from \"CS\" to \"NE in region will decrease the churn rate by 35.6%.\n",
    "\n",
    "` region[T.SE] `\n",
    "The level \"SE\" in region is the variable with 6th highest importance score of 1.537. Its OR is 0.651, which means compared to reference level (\"CS\"), with other features remaining the same, a switch from \"CS\" to \"SE\" in region will decrease the churn rate by 34.9%.\n",
    "\n",
    "` region[T.NW] `\n",
    "The level \"NW\" in region is the variable with 7th highest importance score of 1.516. Its OR is 0.660, which means compared to reference level (\"CS\"), with other features remaining the same, a switch from \"CS\" to \"NW\" in region will decrease the churn rate by 34.0%.\n",
    "\n",
    "` occupation[T.professional] `\n",
    "The level \"professional\" in occupation is the variable with 8th highest importance score of 1.416. Its OR is 1.416, which means compared to reference level (\"other\"), with other features remaining the same, a switch from \"other\" to \"professional\" in occupation will increase the churn rate by 41.6%.\n",
    "\n",
    "` eqpdays `\n",
    "Eqpdays is the variable with 9th highest importance score of 1.366. Its OR is 1.366, which means with other features remaining the same, a one-unit increase in eqpdays will increase the churn rate by 36.6%.\n",
    "\n",
    "` overage `\n",
    "Overage is the variable with 10th highest importance score of 1.341. Its OR is 1.341, which means with other features remaining the same, a one-unit increase in overage will increase the churn rate by 34.1%."
   ]
  },
  {
   "cell_type": "markdown",
   "metadata": {},
   "source": [
    "## Question 3: Develop actions/offers/incentives "
   ]
  },
  {
   "cell_type": "markdown",
   "metadata": {},
   "source": [
    "`Below part is based on the result of the boosting model. `\n",
    "\n",
    "` Usage Trend: changem `\n",
    "Changem is the most significant variable in the Usage Trend variable type. Its permutation importance is 0.014, which is the 7th most important feature in the model. \n",
    "\n",
    "Policy: To cut down the number of people whose changem is low or negative, and reduce churn rate, we need to identify what cause people to call less in the current four months. Is it because the fee is high? Or is it because the call quality is low? After identifying the problem, we offer promotions to try to turn the negatives to close to 0.5 of the original value as possible. We assume that the action can increase the call time for those whose current percentage is negative to grow 50%.\n",
    "\n",
    "`Customer Usage: Overage`\n",
    "Overage is the most significant variable in the Customer Usage variable type. Its permutation importance is 0.077, which is the the 3rd  most important feature in the model. \n",
    "\n",
    "Policy: We offer promotions for bigger packages. Users do not need to pay extra for overage over 150. \n",
    "\n",
    "`Customer Action: Retcalls`\n",
    "Retention calls is the most significant variable in the Customer Action variable type. Its permutation importance is 0.003, which is the 15th most important feature in the model. \n",
    "\n",
    "Policy: In order to reduce retention call amounts, we can first identify and summarize frequent issues callers complain about, work on solutions and try to minimize the chance these issues occur. Furthermore, we can also train the retention team to improve their performance so that customers can resolve their issues in as few phone calls as possible. We assume two actions combined can reduce the retention call amount by 50%. \n",
    "\n",
    "`Quality: Dropvce`\n",
    "Dropvce (dropped voice calls) is the most significant variable in the Quality variable type. Its permutation importance is 0.006, which is the 12th most important feature in the model. \n",
    "\n",
    "Policy: In order to reduce dropped voice call amounts, we can first alert customers when the network is unstable and let them choose whether to still continue the call. We can also partner with an advanced network operations technology company to monitor hyper-network elements to help ensure continued uptime and minimize disruption. We assume two actions combined can reduce the dropped voice call amounts which are greater than 2 by 1. \n",
    "\n",
    "`Equipment characteristic: Eqpdays`\n",
    "Eqpdays (days customer has owned current handset) is the most significant variable in the Equipment Characteristic variable type. Its permutation importance is 0.136, which is the most important feature in the model. \n",
    "\n",
    "Policy: In order to reduce Eqpdays amounts, we can send new handset promotion emails to customers after 250 days since the customer had the handset (from the plot below we can see that people start to churn after they has the handsets 250 days). We can also offer trade-in service for customers (eqpday>250) that they can replace their old handsets with some new contract device in lower prices. We assume two actions combined can reduce the Eqpdays amount by 30%. \n",
    "\n",
    "`Customer characteristic: Occupation`\n",
    "Occupation is the most significant variable in the Customer Characteristic variable type. Occupation_retired have the highest permutation importance among all the occupation category, which is 0.053. It is ranked top 4 among all the features in the model. \n",
    "\n",
    "Policy: Since retired users are most likely to churn, and students are less likely to churn. We would target more student users in the future. For students, we would offer them discounts in August, September when the new semester starts.\n"
   ]
  },
  {
   "cell_type": "markdown",
   "metadata": {},
   "source": [
    "## Question 4: Quantify the impact of these actions/offers/incentives "
   ]
  },
  {
   "cell_type": "code",
   "execution_count": 15,
   "metadata": {},
   "outputs": [],
   "source": [
    "def prediction(s_mobile,model):\n",
    "\n",
    "    to_std = s_mobile.loc[:, \"changer\":\"eqpdays\"].columns\n",
    "\n",
    "    s_mobile_std = s_mobile.copy()\n",
    "    s_mobile_std[to_std] = rsm.scale_df(\n",
    "           s_mobile[to_std], sf=1\n",
    "    )\n",
    "\n",
    "    #s_mobile_train = s_mobile_std[s_mobile_std['training'] == 1]\n",
    "    #s_mobile_test = s_mobile_std[s_mobile_std['training'] == 0]\n",
    "    #s_mobile_repre = s_mobile_std[s_mobile_std['representative'] == 1]\n",
    "\n",
    "    s_mobile_repre = s_mobile_std[s_mobile_std['representative'] == 1]\n",
    "    \n",
    "    X_repre = pd.get_dummies(s_mobile_repre.loc[:,\"changer\":\"occupation\"])\n",
    "\n",
    "    Y_repre = s_mobile_std[s_mobile_std['representative']==1][\"churn_yes\"]\n",
    "    \n",
    "    s_mobile_repre[model] = gb.predict_proba(X_repre)[:,1]\n",
    "    \n",
    "    mean_churn_rate = np.mean(s_mobile_repre[model])\n",
    "    \n",
    "    print(f\"Avg churn rate of representative customers: {mean_churn_rate:,.8f}\")\n",
    "    \n",
    "    return s_mobile_repre,mean_churn_rate"
   ]
  },
  {
   "cell_type": "code",
   "execution_count": 16,
   "metadata": {},
   "outputs": [
    {
     "name": "stdout",
     "output_type": "stream",
     "text": [
      "Avg churn rate of representative customers: 0.02557656\n"
     ]
    }
   ],
   "source": [
    "s_mobile_repre,mean_churn_rate_base = prediction(s_mobile,model=\"pred_Boosting\")"
   ]
  },
  {
   "cell_type": "code",
   "execution_count": 17,
   "metadata": {},
   "outputs": [],
   "source": [
    "s_mobile_changem = s_mobile.copy()\n",
    "s_mobile_changem['changem'] = rsm.ifelse(s_mobile_changem['changem'] < 0 , s_mobile_changem['changem']*0.5, s_mobile_changem['changem'])\n",
    "\n",
    "s_mobile_overage = s_mobile.copy()\n",
    "s_mobile_overage['overage'] = rsm.ifelse(s_mobile['overage'] > 150 , 150, s_mobile['overage'])\n",
    "\n",
    "s_mobile_retcalls = s_mobile.copy()\n",
    "for i in range(len(s_mobile_retcalls)):\n",
    "    if s_mobile_retcalls['retcalls'].iloc[i] == 1:\n",
    "        s_mobile_retcalls['retcalls'].iloc[i]  = 0\n",
    "    elif s_mobile_retcalls['retcalls'].iloc[i]  >= 2:\n",
    "        s_mobile_retcalls['retcalls'].iloc[i] = 1\n",
    "        \n",
    "s_mobile_dropvce = s_mobile.copy()\n",
    "s_mobile_dropvce['dropvce'] = rsm.ifelse(s_mobile['dropvce'] > 2 , s_mobile['dropvce'] -1, s_mobile['dropvce'])\n",
    "\n",
    "s_mobile_eqpdays = s_mobile.copy()\n",
    "s_mobile_eqpdays['eqpdays'] = rsm.ifelse(s_mobile['eqpdays'] > 250 , s_mobile['eqpdays']*0.7, s_mobile['eqpdays'])"
   ]
  },
  {
   "cell_type": "code",
   "execution_count": 18,
   "metadata": {},
   "outputs": [
    {
     "name": "stdout",
     "output_type": "stream",
     "text": [
      "Avg churn rate of representative customers: 0.02561847\n",
      "Avg churn rate of representative customers: 0.02524625\n",
      "Avg churn rate of representative customers: 0.02545603\n",
      "Avg churn rate of representative customers: 0.02492484\n",
      "Avg churn rate of representative customers: 0.02707618\n"
     ]
    },
    {
     "data": {
      "text/html": [
       "<div>\n",
       "<style scoped>\n",
       "    .dataframe tbody tr th:only-of-type {\n",
       "        vertical-align: middle;\n",
       "    }\n",
       "\n",
       "    .dataframe tbody tr th {\n",
       "        vertical-align: top;\n",
       "    }\n",
       "\n",
       "    .dataframe thead th {\n",
       "        text-align: right;\n",
       "    }\n",
       "</style>\n",
       "<table border=\"1\" class=\"dataframe\">\n",
       "  <thead>\n",
       "    <tr style=\"text-align: right;\">\n",
       "      <th></th>\n",
       "      <th>name</th>\n",
       "      <th>churn_rate</th>\n",
       "      <th>diff</th>\n",
       "    </tr>\n",
       "  </thead>\n",
       "  <tbody>\n",
       "    <tr>\n",
       "      <th>0</th>\n",
       "      <td>baseline</td>\n",
       "      <td>0.025577</td>\n",
       "      <td>0.000000</td>\n",
       "    </tr>\n",
       "    <tr>\n",
       "      <th>1</th>\n",
       "      <td>changem</td>\n",
       "      <td>0.024925</td>\n",
       "      <td>-0.000652</td>\n",
       "    </tr>\n",
       "    <tr>\n",
       "      <th>2</th>\n",
       "      <td>overage</td>\n",
       "      <td>0.025618</td>\n",
       "      <td>0.000042</td>\n",
       "    </tr>\n",
       "    <tr>\n",
       "      <th>3</th>\n",
       "      <td>dropvce</td>\n",
       "      <td>0.025456</td>\n",
       "      <td>-0.000121</td>\n",
       "    </tr>\n",
       "    <tr>\n",
       "      <th>4</th>\n",
       "      <td>eqpdays</td>\n",
       "      <td>0.025246</td>\n",
       "      <td>-0.000330</td>\n",
       "    </tr>\n",
       "    <tr>\n",
       "      <th>5</th>\n",
       "      <td>retcalls</td>\n",
       "      <td>0.027076</td>\n",
       "      <td>0.001500</td>\n",
       "    </tr>\n",
       "  </tbody>\n",
       "</table>\n",
       "</div>"
      ],
      "text/plain": [
       "       name  churn_rate      diff\n",
       "0  baseline    0.025577  0.000000\n",
       "1   changem    0.024925 -0.000652\n",
       "2   overage    0.025618  0.000042\n",
       "3   dropvce    0.025456 -0.000121\n",
       "4   eqpdays    0.025246 -0.000330\n",
       "5  retcalls    0.027076  0.001500"
      ]
     },
     "execution_count": 18,
     "metadata": {},
     "output_type": "execute_result"
    }
   ],
   "source": [
    "\n",
    "s_mobile_overage_repre,mean_churn_rate_overage = prediction(s_mobile_overage,model=\"pred_Boosting\")\n",
    "s_mobile_eqpdays_repre,mean_churn_rate_eqpdays = prediction(s_mobile_eqpdays,model=\"pred_Boosting\")\n",
    "s_mobile_dropvce_repre,mean_churn_rate_dropvce = prediction(s_mobile_dropvce,model=\"pred_Boosting\")\n",
    "s_mobile_changem_repre,mean_churn_rate_changem = prediction(s_mobile_changem,model=\"pred_Boosting\")\n",
    "s_mobile_retcalls_repre,mean_churn_rate_retcalls = prediction(s_mobile_retcalls,model=\"pred_Boosting\")\n",
    "\n",
    "action_compare=pd.DataFrame({\n",
    "    'name' : ['baseline','changem','overage' ,'dropvce','eqpdays','retcalls'],\n",
    "    'churn_rate':[mean_churn_rate_base,mean_churn_rate_changem,mean_churn_rate_overage,mean_churn_rate_dropvce,mean_churn_rate_eqpdays,mean_churn_rate_retcalls],\n",
    "})\n",
    "action_compare['diff'] = action_compare['churn_rate'] - action_compare['churn_rate'].iloc[0]\n",
    "action_compare"
   ]
  },
  {
   "cell_type": "markdown",
   "metadata": {},
   "source": [
    "After applying the action we mentioned previously, we calculated the churn rate for each selected variable. The result shows that `overage`, `dropvce` have the same churn rate as baseline model, `changem` has a higher churn than baseline, and `eqpdays`, `retcalls` have lower churn rate than baseline, Most importantly, `eqpdays` has the lowest churn rate.\n",
    "\n",
    "\n",
    "To make sure that students are less likely to churn, and retired users , and that our strategy to target more students is correct, we will conduct another analysis in the following four months, and make sure that the the same pattern that  still exist"
   ]
  },
  {
   "cell_type": "markdown",
   "metadata": {},
   "source": [
    "## Question 5: Decide target customers"
   ]
  },
  {
   "cell_type": "code",
   "execution_count": 23,
   "metadata": {},
   "outputs": [
    {
     "data": {
      "image/png": "[encoded data removed]",
      "text/plain": [
       "<Figure size 600x400 with 1 Axes>"
      ]
     },
     "metadata": {
      "needs_background": "light"
     },
     "output_type": "display_data"
    }
   ],
   "source": [
    "ax1 = s_mobile[s_mobile['churn_yes']==1].plot.scatter(x='eqpdays', y='churn', c='DarkBlue')"
   ]
  },
  {
   "cell_type": "markdown",
   "metadata": {},
   "source": [
    "`Usage Trend: changem`\n",
    "Policy mainly focuses on encouraging people whose changem is lower to call more. For customers with negative changem (meaning these users have lower minutes of use in the current four months compared with previous four months, we offer promotions (cheaper fee of calls) to increase their willingness to call. \\\n",
    "`Customer Usage: Overage`\n",
    "Policy mainly focuses on customers with a rather high amount of overage (over 150). Users don’t have to pay extra if the the overage minutes is more than 150 minutes. The goal for this policy is to eventually reduce the amount customers have to pay when they generate a big overage. Therefore, by offering special discounts for bigger packages, we can provide incentive for customers to switch to a bigger package, thus lowering overage amount. \\\n",
    "`Customer Action: Retcalls`\n",
    "Policy mainly focuses on reducing retention calls by improving our performance and efficiency. By improving the retention team’s efficiency, we target customers with multiple retention calls and try to solve all their issues within one phone call. By identifying and fixing potential problems, we target the entire customer group and try to offer them a smoother user experience. \\\n",
    "`Quality: Dropvce`\n",
    "Policy mainly focuses on customers experiencing dropped voice calls. By alerting customers and minimizing disruptions, we can reduce the amount of dropped voice calls and eventually reduce the churn rates.  \\\n",
    "`Equipment characteristic: Eqpdays`\n",
    "Policy mainly focuses on customers who have had their current handset for over 250 days, since that is when customers start to churn. The special trade-in offers will provide incentives for customers to renew their device, thus resetting the Eqpdays to 0. \\\n",
    "`Customer characteristic: Occupation`\n",
    "Policy mainly focuses on student users, who have a lower churn rate than other groups. We would target more students, and offer them discounts in August and September when the new semester begins. \n"
   ]
  },
  {
   "cell_type": "markdown",
   "metadata": {},
   "source": [
    "## Question 6: Using a 5-year (60 month) time window to evaluate CLV"
   ]
  },
  {
   "cell_type": "markdown",
   "metadata": {},
   "source": [
    "### 1) Define the assumptions and calculation method of CLV\n",
    "Assumptions: \\\n",
    "`Monthly discount rate: `\\\n",
    "We assume that the annual discount rate is 10%, and calculate the monthly discount accordingly.\n",
    "Monthly Discount Rate = ( 1 + 10% ) ^ ( 1/12 ) - 1\t\n",
    "`Cost: `\\\n",
    "Since we are trying to reduce the customer’s churn rate, we assume everyone is an existing customer, and disregard all the fixed costs like cell tower construction costs. We only consider the human resources here when calculating costs. \n",
    "In the given dataset, calls to the retention center and to customer care will make up most part of the customer service needs. Therefore we add these two columns together to calculate the total number of service phone calls (166493). \n"
   ]
  },
  {
   "cell_type": "code",
   "execution_count": 19,
   "metadata": {},
   "outputs": [
    {
     "data": {
      "text/plain": [
       "166493.0"
      ]
     },
     "execution_count": 19,
     "metadata": {},
     "output_type": "execute_result"
    }
   ],
   "source": [
    "service_call = np.sum(s_mobile['custcare'] + s_mobile['retcalls']) \n",
    "service_call"
   ]
  },
  {
   "cell_type": "markdown",
   "metadata": {},
   "source": [
    "Then we assume each phone call lasts around 10 mins, and according to Google, the average customer service staff’s salary is around 15 dollars/hr. We can then calculate the total amount of monthly cost for the entire customer group, and dividing the result by the number of customers gives us the average cost for a single customer (6 dollars)"
   ]
  },
  {
   "cell_type": "code",
   "execution_count": 20,
   "metadata": {},
   "outputs": [
    {
     "data": {
      "text/plain": [
       "6.0"
      ]
     },
     "execution_count": 20,
     "metadata": {},
     "output_type": "execute_result"
    }
   ],
   "source": [
    "cost = round((service_call * 10/ 60 * 15) / len(s_mobile), 0)\n",
    "cost"
   ]
  },
  {
   "cell_type": "code",
   "execution_count": 21,
   "metadata": {},
   "outputs": [
    {
     "name": "stdout",
     "output_type": "stream",
     "text": [
      "Avg churn rate of representative customers: 0.02557656\n"
     ]
    }
   ],
   "source": [
    "s_mobile_repre,mean_churn_rate_base = prediction(s_mobile,model=\"pred_Boosting\")"
   ]
  },
  {
   "cell_type": "code",
   "execution_count": 22,
   "metadata": {},
   "outputs": [],
   "source": [
    "annual_discount_rate = 0.1\n",
    "monthly_discount_rate = (1+annual_discount_rate)**(1/12)-1\n",
    "cost = 6\n",
    "\n",
    "def clv_calc(df_whole,df,model):\n",
    "    DF_clv = pd.DataFrame( {'customer':df['customer'],'revenue':df_whole[df_whole['representative']==1]['revenue'],'cost':cost,'churn':df[model] })\n",
    "    DF_clv['profit']=DF_clv['revenue']-DF_clv['cost']\n",
    "    profit_pv=[]\n",
    "    for i in range(0,60):\n",
    "        active_rate = (1-DF_clv['churn'])**(i)\n",
    "        p = np.sum(active_rate*DF_clv['profit'])\n",
    "        p_pv = p/((1+monthly_discount_rate)**(i))\n",
    "        profit_pv.append(p_pv)\n",
    "    total_profit_pv = np.sum(profit_pv)\n",
    "    print(f\"Expected total CLV of representative customer: S${total_profit_pv:,.2f}\")\n",
    "    \n",
    "    return(round(total_profit_pv,2))\n",
    "    "
   ]
  },
  {
   "cell_type": "markdown",
   "metadata": {},
   "source": [
    "### 2) Calculate the CLVs of baseline and different actions"
   ]
  },
  {
   "cell_type": "code",
   "execution_count": 23,
   "metadata": {},
   "outputs": [
    {
     "name": "stdout",
     "output_type": "stream",
     "text": [
      "Expected total CLV of representative customer: S$50,308,664.04\n"
     ]
    }
   ],
   "source": [
    "baseline = clv_calc(s_mobile, s_mobile_repre, model=\"pred_Boosting\")"
   ]
  },
  {
   "cell_type": "code",
   "execution_count": 24,
   "metadata": {},
   "outputs": [
    {
     "name": "stdout",
     "output_type": "stream",
     "text": [
      "Avg churn rate of representative customers: 0.02492484\n",
      "Expected total CLV of representative customer: S$50,574,451.82\n"
     ]
    }
   ],
   "source": [
    "s_mobile_changem = s_mobile.copy()\n",
    "s_mobile_changem['changem'] = rsm.ifelse(s_mobile_changem['changem'] < 0 , s_mobile_changem['changem']*0.5, s_mobile_changem['changem'])\n",
    "s_mobile_changem_repre,mean_churn_rate_changem = prediction(s_mobile_changem,model=\"pred_Boosting\")\n",
    "changem = clv_calc(s_mobile_changem,s_mobile_changem_repre,model=\"pred_Boosting\")"
   ]
  },
  {
   "cell_type": "code",
   "execution_count": 25,
   "metadata": {},
   "outputs": [
    {
     "name": "stdout",
     "output_type": "stream",
     "text": [
      "Avg churn rate of representative customers: 0.02561847\n",
      "Expected total CLV of representative customer: S$51,052,248.96\n"
     ]
    }
   ],
   "source": [
    "s_mobile_overage = s_mobile.copy()\n",
    "s_mobile_overage['overage'] = rsm.ifelse(s_mobile['overage'] > 150 , 150, s_mobile['overage'])\n",
    "s_mobile_overage_repre,mean_churn_rate_overage = prediction(s_mobile_overage,model=\"pred_Boosting\")\n",
    "overage = clv_calc(s_mobile_overage,s_mobile_overage_repre,model=\"pred_Boosting\")"
   ]
  },
  {
   "cell_type": "code",
   "execution_count": 26,
   "metadata": {},
   "outputs": [
    {
     "name": "stdout",
     "output_type": "stream",
     "text": [
      "Avg churn rate of representative customers: 0.02707618\n",
      "Expected total CLV of representative customer: S$50,462,112.52\n"
     ]
    }
   ],
   "source": [
    "s_mobile_retcalls = s_mobile.copy()\n",
    "\n",
    "for i in range(len(s_mobile_retcalls)):\n",
    "    if s_mobile_retcalls['retcalls'].iloc[i] == 1:\n",
    "        s_mobile_retcalls['retcalls'].iloc[i]  = 0\n",
    "    elif s_mobile_retcalls['retcalls'].iloc[i]  >= 2:\n",
    "        s_mobile_retcalls['retcalls'].iloc[i] = 1\n",
    "\n",
    "# s_mobile_retcalls['retcalls'] = rsm.ifelse(s_mobile['retcalls'] < 2 , 0, s_mobile['retcalls'])\n",
    "        \n",
    "s_mobile_retcalls_repre,mean_churn_rate_retcalls = prediction(s_mobile_retcalls,model=\"pred_Boosting\")\n",
    "retcalls = clv_calc(s_mobile_retcalls,s_mobile_retcalls_repre,model=\"pred_Boosting\")"
   ]
  },
  {
   "cell_type": "code",
   "execution_count": 27,
   "metadata": {},
   "outputs": [
    {
     "name": "stdout",
     "output_type": "stream",
     "text": [
      "Avg churn rate of representative customers: 0.02545603\n",
      "Expected total CLV of representative customer: S$50,386,157.54\n"
     ]
    }
   ],
   "source": [
    "s_mobile_dropvce = s_mobile.copy()\n",
    "s_mobile_dropvce['dropvce'] = rsm.ifelse(s_mobile['dropvce'] > 2 , s_mobile['dropvce'] -1, s_mobile['dropvce'])\n",
    "s_mobile_dropvce_repre,mean_churn_rate_dropvce = prediction(s_mobile_dropvce,model=\"pred_Boosting\")\n",
    "dropvce = clv_calc(s_mobile_dropvce,s_mobile_dropvce_repre,model=\"pred_Boosting\")"
   ]
  },
  {
   "cell_type": "code",
   "execution_count": 28,
   "metadata": {},
   "outputs": [
    {
     "name": "stdout",
     "output_type": "stream",
     "text": [
      "Avg churn rate of representative customers: 0.02524625\n",
      "Expected total CLV of representative customer: S$50,347,400.79\n"
     ]
    }
   ],
   "source": [
    "s_mobile_eqpdays = s_mobile.copy()\n",
    "s_mobile_eqpdays['eqpdays'] = rsm.ifelse(s_mobile['eqpdays'] > 250 , s_mobile['eqpdays']*0.7, s_mobile['eqpdays'])\n",
    "s_mobile_eqpdays_repre,mean_churn_rate_eqpdays = prediction(s_mobile_eqpdays,model=\"pred_Boosting\")\n",
    "eqpdays = clv_calc(s_mobile_eqpdays,s_mobile_eqpdays_repre,model=\"pred_Boosting\")"
   ]
  },
  {
   "cell_type": "markdown",
   "metadata": {},
   "source": [
    "### 3) Comparison of different actions"
   ]
  },
  {
   "cell_type": "code",
   "execution_count": 29,
   "metadata": {},
   "outputs": [
    {
     "data": {
      "text/html": [
       "<div>\n",
       "<style scoped>\n",
       "    .dataframe tbody tr th:only-of-type {\n",
       "        vertical-align: middle;\n",
       "    }\n",
       "\n",
       "    .dataframe tbody tr th {\n",
       "        vertical-align: top;\n",
       "    }\n",
       "\n",
       "    .dataframe thead th {\n",
       "        text-align: right;\n",
       "    }\n",
       "</style>\n",
       "<table border=\"1\" class=\"dataframe\">\n",
       "  <thead>\n",
       "    <tr style=\"text-align: right;\">\n",
       "      <th></th>\n",
       "      <th>name</th>\n",
       "      <th>churn_rate</th>\n",
       "      <th>CLV</th>\n",
       "      <th>diff</th>\n",
       "    </tr>\n",
       "  </thead>\n",
       "  <tbody>\n",
       "    <tr>\n",
       "      <th>0</th>\n",
       "      <td>baseline</td>\n",
       "      <td>0.025577</td>\n",
       "      <td>50308664.04</td>\n",
       "      <td>0.00</td>\n",
       "    </tr>\n",
       "    <tr>\n",
       "      <th>1</th>\n",
       "      <td>changem</td>\n",
       "      <td>0.024925</td>\n",
       "      <td>50574451.82</td>\n",
       "      <td>265787.78</td>\n",
       "    </tr>\n",
       "    <tr>\n",
       "      <th>2</th>\n",
       "      <td>overage</td>\n",
       "      <td>0.025618</td>\n",
       "      <td>51052248.96</td>\n",
       "      <td>743584.92</td>\n",
       "    </tr>\n",
       "    <tr>\n",
       "      <th>3</th>\n",
       "      <td>dropvce</td>\n",
       "      <td>0.025456</td>\n",
       "      <td>50386157.54</td>\n",
       "      <td>77493.50</td>\n",
       "    </tr>\n",
       "    <tr>\n",
       "      <th>4</th>\n",
       "      <td>eqpdays</td>\n",
       "      <td>0.025246</td>\n",
       "      <td>50347400.79</td>\n",
       "      <td>38736.75</td>\n",
       "    </tr>\n",
       "    <tr>\n",
       "      <th>5</th>\n",
       "      <td>retcalls</td>\n",
       "      <td>0.027076</td>\n",
       "      <td>50462112.52</td>\n",
       "      <td>153448.48</td>\n",
       "    </tr>\n",
       "  </tbody>\n",
       "</table>\n",
       "</div>"
      ],
      "text/plain": [
       "       name  churn_rate          CLV       diff\n",
       "0  baseline    0.025577  50308664.04       0.00\n",
       "1   changem    0.024925  50574451.82  265787.78\n",
       "2   overage    0.025618  51052248.96  743584.92\n",
       "3   dropvce    0.025456  50386157.54   77493.50\n",
       "4   eqpdays    0.025246  50347400.79   38736.75\n",
       "5  retcalls    0.027076  50462112.52  153448.48"
      ]
     },
     "execution_count": 29,
     "metadata": {},
     "output_type": "execute_result"
    }
   ],
   "source": [
    "action_compare=pd.DataFrame({\n",
    "    'name' : ['baseline','changem','overage' ,'dropvce','eqpdays','retcalls'],\n",
    "    'churn_rate':[mean_churn_rate_base,mean_churn_rate_changem,mean_churn_rate_overage,mean_churn_rate_dropvce,mean_churn_rate_eqpdays,mean_churn_rate_retcalls],\n",
    "    'CLV' : [baseline, changem, overage,dropvce,eqpdays,retcalls ]\n",
    "})\n",
    "action_compare['diff'] = action_compare['CLV'] - action_compare['CLV'].iloc[0]\n",
    "action_compare"
   ]
  },
  {
   "cell_type": "markdown",
   "metadata": {},
   "source": [
    "\n",
    "\n",
    "### Action1:overage\n",
    "\n",
    "`A description of the action/offer/incentive`\n",
    "\n",
    "Offer a fee capped package for customers with a rather high amount of overage (over 200). \n",
    "\n",
    "`An estimate of the impact of the action/offer/incentive on the probability of churn`\n",
    "\n",
    "After the implementation of this initiative, the number of people who churn because of the factor that Overage is too large should be reduced. (reduce the mean churn rate from 2.557% to 2.526%)\n",
    "\n",
    "\n",
    "`The criteria used to select customers for the action/offer/incentive`\n",
    "\n",
    "In the s-mobile data set, a total of 17.4% (nearly 20% of the people) have an overage of more than 200,which means this policy will affect 1/5 of the people. What’s more, most of them are concentrated between 200-210, and in this In the data set, the maximum overage is 283. We believe that setting the limit of 200 can affect enough people without causing the company to lose money because of this policy.\n",
    "\n",
    "\n",
    "`The economic justification for the action/offer/incentive`\n",
    "\n",
    "increase  256561.26  of CLV.\n",
    "\n",
    "\n",
    "\n",
    "\n",
    "\n",
    "### Action 2: eqpdays\n",
    "\n",
    "`A description of the action/offer/incentive`\n",
    "\n",
    "Send new handset promotion emails to customers after 250 days since the customer had the handset (from the plot below we can see that people start to churn after they has the handsets 250 days). We can also offer trade-in service for customers (eqpday>250) that they can replace their old handsets with some new contract device in lower prices. We assume two actions combined can 30% customers whose eqpday>250 are willing to accept this offer which means their Eqpdays will reset to 0 .\n",
    "\n",
    "`An estimate of the impact of the action/offer/incentive on the probability of churn`\n",
    "\n",
    "Reduce the mean churn rate from 2.557% to 2.525%\n",
    "\n",
    "`The criteria used to select customers for the action/offer/incentive`\n",
    "\n",
    "Policy mainly focuses on customers who have had their current handset for over 250 days, since that is when customers start to churn.\n",
    "\n",
    "\n",
    "`The economic justification for the action/offer/incentive`\n",
    "\n",
    "increase  38736.75  of CLV.\n"
   ]
  },
  {
   "cell_type": "code",
   "execution_count": null,
   "metadata": {},
   "outputs": [],
   "source": []
  }
 ],
 "metadata": {
  "kernelspec": {
   "display_name": "Python 3",
   "language": "python",
   "name": "python3"
  },
  "language_info": {
   "codemirror_mode": {
    "name": "ipython",
    "version": 3
   },
   "file_extension": ".py",
   "mimetype": "text/x-python",
   "name": "python",
   "nbconvert_exporter": "python",
   "pygments_lexer": "ipython3",
   "version": "3.8.5"
  }
 },
 "nbformat": 4,
 "nbformat_minor": 4
}
