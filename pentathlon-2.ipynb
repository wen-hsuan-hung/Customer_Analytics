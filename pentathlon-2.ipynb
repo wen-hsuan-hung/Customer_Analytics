{
 "cells": [
  {
   "cell_type": "markdown",
   "metadata": {},
   "source": [
    "# Pentathlon 2: Testing for the best frequency"
   ]
  },
  {
   "cell_type": "code",
   "execution_count": 1,
   "metadata": {},
   "outputs": [],
   "source": [
    "# loading required python packages\n",
    "# you can add more packages as needed but *only* use packages \n",
    "# that are already part of the docker computing environment\n",
    "import numpy as np\n",
    "import pandas as pd\n",
    "import seaborn as sns"
   ]
  },
  {
   "cell_type": "markdown",
   "metadata": {},
   "source": [
    "### Question 1: Calculate the CLV over 8 weeks for each email frequency (8 points)"
   ]
  },
  {
   "cell_type": "code",
   "execution_count": 86,
   "metadata": {
    "lines_to_next_cell": 2
   },
   "outputs": [
    {
     "data": {
      "text/html": [
       "<div>\n",
       "<style scoped>\n",
       "    .dataframe tbody tr th:only-of-type {\n",
       "        vertical-align: middle;\n",
       "    }\n",
       "\n",
       "    .dataframe tbody tr th {\n",
       "        vertical-align: top;\n",
       "    }\n",
       "\n",
       "    .dataframe thead th {\n",
       "        text-align: right;\n",
       "    }\n",
       "</style>\n",
       "<table border=\"1\" class=\"dataframe\">\n",
       "  <thead>\n",
       "    <tr style=\"text-align: right;\">\n",
       "      <th>1 e-mail per week</th>\n",
       "      <th>attr</th>\n",
       "      <th>rev_sub</th>\n",
       "      <th>rev_unsub</th>\n",
       "    </tr>\n",
       "    <tr>\n",
       "      <th>4 e-mails per week</th>\n",
       "      <th></th>\n",
       "      <th></th>\n",
       "      <th></th>\n",
       "    </tr>\n",
       "  </thead>\n",
       "  <tbody>\n",
       "    <tr>\n",
       "      <th>Week 1</th>\n",
       "      <td>0.0385</td>\n",
       "      <td>0.36</td>\n",
       "      <td>0</td>\n",
       "    </tr>\n",
       "    <tr>\n",
       "      <th>Week 2</th>\n",
       "      <td>0.0525</td>\n",
       "      <td>0.34</td>\n",
       "      <td>0.19</td>\n",
       "    </tr>\n",
       "    <tr>\n",
       "      <th>Week 3</th>\n",
       "      <td>0.058</td>\n",
       "      <td>0.3</td>\n",
       "      <td>0.16</td>\n",
       "    </tr>\n",
       "    <tr>\n",
       "      <th>Week 4</th>\n",
       "      <td>0.0413</td>\n",
       "      <td>0.38</td>\n",
       "      <td>0.18</td>\n",
       "    </tr>\n",
       "    <tr>\n",
       "      <th>Week 5</th>\n",
       "      <td>0.0398</td>\n",
       "      <td>0.39</td>\n",
       "      <td>0.17</td>\n",
       "    </tr>\n",
       "  </tbody>\n",
       "</table>\n",
       "</div>"
      ],
      "text/plain": [
       "1 e-mail per week     attr rev_sub rev_unsub\n",
       "4 e-mails per week                          \n",
       "Week 1              0.0385    0.36         0\n",
       "Week 2              0.0525    0.34      0.19\n",
       "Week 3               0.058     0.3      0.16\n",
       "Week 4              0.0413    0.38      0.18\n",
       "Week 5              0.0398    0.39      0.17"
      ]
     },
     "execution_count": 86,
     "metadata": {},
     "output_type": "execute_result"
    }
   ],
   "source": [
    "# load data from the excel file here\n",
    "# each freq1-freq5 variable should be a pandas DataFrame with shape (8, 3)\n",
    "# set the colum names to \"attr\" for subcriber attrition, \"rev_sub\" for average revenue\n",
    "# from a subscribed customer, and \"rev_unsub\" for average revenue\n",
    "# from an unsubscribed customer\n",
    "\n",
    "df = pd.read_excel('data/pentathlon-2.xls', index_col=0).transpose()\n",
    "\n",
    "# new_header = df.iloc[] #grab the first row for the header\n",
    "# df = df[1:] #take the data less the header row\n",
    "# df.columns = new_header #set the header row as the df header\n",
    "df = df.rename(columns={\"Subscriber attrition for promotional e-mails\": \"attr\", \n",
    "                                        \"Average revenue from subscribed customer\": \"rev_sub\", 'Average revenue from unsubscribed customer': 'rev_unsub' })\n",
    "freq1 = df.iloc[:, 0:3]\n",
    "freq2 = df.iloc[:,4:8].set_index('2 e-mails per week')\n",
    "freq3 = df.iloc[:, 9:13].set_index('3 e-mails per week')\n",
    "freq4 = df.iloc[:, 14:18].set_index('4 e-mails per week')\n",
    "freq5 = df.iloc[:, 19:23].set_index('5 e-mails per week')\n",
    "freq4.head()"
   ]
  },
  {
   "cell_type": "code",
   "execution_count": 87,
   "metadata": {},
   "outputs": [
    {
     "data": {
      "text/html": [
       "<div>\n",
       "<style scoped>\n",
       "    .dataframe tbody tr th:only-of-type {\n",
       "        vertical-align: middle;\n",
       "    }\n",
       "\n",
       "    .dataframe tbody tr th {\n",
       "        vertical-align: top;\n",
       "    }\n",
       "\n",
       "    .dataframe thead th {\n",
       "        text-align: right;\n",
       "    }\n",
       "</style>\n",
       "<table border=\"1\" class=\"dataframe\">\n",
       "  <thead>\n",
       "    <tr style=\"text-align: right;\">\n",
       "      <th>1 e-mail per week</th>\n",
       "      <th>attr</th>\n",
       "      <th>rev_sub</th>\n",
       "      <th>rev_unsub</th>\n",
       "    </tr>\n",
       "    <tr>\n",
       "      <th>2 e-mails per week</th>\n",
       "      <th></th>\n",
       "      <th></th>\n",
       "      <th></th>\n",
       "    </tr>\n",
       "  </thead>\n",
       "  <tbody>\n",
       "    <tr>\n",
       "      <th>Week 1</th>\n",
       "      <td>0.006</td>\n",
       "      <td>0.35</td>\n",
       "      <td>0</td>\n",
       "    </tr>\n",
       "    <tr>\n",
       "      <th>Week 2</th>\n",
       "      <td>0.007</td>\n",
       "      <td>0.3</td>\n",
       "      <td>0.19</td>\n",
       "    </tr>\n",
       "    <tr>\n",
       "      <th>Week 3</th>\n",
       "      <td>0.0076</td>\n",
       "      <td>0.35</td>\n",
       "      <td>0.16</td>\n",
       "    </tr>\n",
       "    <tr>\n",
       "      <th>Week 4</th>\n",
       "      <td>0.0073</td>\n",
       "      <td>0.39</td>\n",
       "      <td>0.13</td>\n",
       "    </tr>\n",
       "    <tr>\n",
       "      <th>Week 5</th>\n",
       "      <td>0.0093</td>\n",
       "      <td>0.31</td>\n",
       "      <td>0.13</td>\n",
       "    </tr>\n",
       "    <tr>\n",
       "      <th>Week 6</th>\n",
       "      <td>0.0064</td>\n",
       "      <td>0.33</td>\n",
       "      <td>0.12</td>\n",
       "    </tr>\n",
       "    <tr>\n",
       "      <th>Week 7</th>\n",
       "      <td>0.0065</td>\n",
       "      <td>0.35</td>\n",
       "      <td>0.13</td>\n",
       "    </tr>\n",
       "    <tr>\n",
       "      <th>Week 8</th>\n",
       "      <td>0.006</td>\n",
       "      <td>0.34</td>\n",
       "      <td>0.13</td>\n",
       "    </tr>\n",
       "  </tbody>\n",
       "</table>\n",
       "</div>"
      ],
      "text/plain": [
       "1 e-mail per week     attr rev_sub rev_unsub\n",
       "2 e-mails per week                          \n",
       "Week 1               0.006    0.35         0\n",
       "Week 2               0.007     0.3      0.19\n",
       "Week 3              0.0076    0.35      0.16\n",
       "Week 4              0.0073    0.39      0.13\n",
       "Week 5              0.0093    0.31      0.13\n",
       "Week 6              0.0064    0.33      0.12\n",
       "Week 7              0.0065    0.35      0.13\n",
       "Week 8               0.006    0.34      0.13"
      ]
     },
     "execution_count": 87,
     "metadata": {},
     "output_type": "execute_result"
    }
   ],
   "source": [
    "freq2"
   ]
  },
  {
   "cell_type": "code",
   "execution_count": 56,
   "metadata": {},
   "outputs": [
    {
     "data": {
      "text/plain": [
       "0.0018345688392329418"
      ]
     },
     "execution_count": 56,
     "metadata": {},
     "output_type": "execute_result"
    }
   ],
   "source": [
    "# list your assumptions here\n",
    "weeks = np.arange(1, 9)\n",
    "cogs = 0.6 # cost of goods sold\n",
    "annual_discount_rate = 0.1\n",
    "weekly_discount_rate = (1 + annual_discount_rate)**(1/52) - 1\n",
    "weekly_discount_rate"
   ]
  },
  {
   "cell_type": "code",
   "execution_count": 57,
   "metadata": {},
   "outputs": [],
   "source": [
    "# calculate CLV for e-mail frequency 4 (i.e., freq4)\n",
    "# this will require calculating each of the following variables\n",
    "# each calculated object should be of shape (8,)"
   ]
  },
  {
   "cell_type": "code",
   "execution_count": 59,
   "metadata": {},
   "outputs": [
    {
     "name": "stdout",
     "output_type": "stream",
     "text": [
      "4 e-mails per week\n",
      "Week 1    0.143736\n",
      "Week 2    0.276937\n",
      "Week 3    0.391324\n",
      "Week 4    0.530951\n",
      "Week 5    0.670071\n",
      "Week 6    0.786305\n",
      "Week 7    0.906245\n",
      "Week 8    1.026644\n",
      "dtype: object\n"
     ]
    }
   ],
   "source": [
    "#create a new dataframe that set week 1 churn to 0\n",
    "freq4['churn'] = freq4['attr'].shift().fillna(0)\n",
    "#required\n",
    "# week 1 churn = 0\n",
    "profit_subcribed = freq4['rev_sub'] - freq4['rev_sub']*cogs\n",
    "profit_unsubscribed = freq4['rev_unsub'] - freq4['rev_unsub']*cogs\n",
    "probability_subscribed = (1 - freq4['churn']).cumprod()\n",
    "probability_unsubscribed = 1 - probability_subscribed\n",
    "expected_profit = profit_subcribed*probability_subscribed + profit_unsubscribed*probability_unsubscribed\n",
    "pv_expected_profit = expected_profit/(1+weekly_discount_rate)**weeks\n",
    "clv = pv_expected_profit.cumsum()\n",
    "\n",
    "print(clv)\n"
   ]
  },
  {
   "cell_type": "code",
   "execution_count": null,
   "metadata": {},
   "outputs": [],
   "source": []
  },
  {
   "cell_type": "code",
   "execution_count": 60,
   "metadata": {},
   "outputs": [],
   "source": [
    "# take your code above and use it as the base to define a function to calculate clv \n",
    "# this will avoid repetitive code\n",
    "# note that the function \"clv_calc\" should be sufficiently general to work with the data\n",
    "# for each of the 5 e-mail frequencies \n",
    "# note that the function must be defined in a cell above the code that calls the function"
   ]
  },
  {
   "cell_type": "code",
   "execution_count": 61,
   "metadata": {},
   "outputs": [],
   "source": [
    "def clv_calc(df, weeks, cogs, wd):\n",
    "    \"\"\"\n",
    "    Calculate the cumulative present value of profits\n",
    "    and CLV for a pandas data frame using the results from \n",
    "    the email frequency experiment\n",
    "    \n",
    "    Parameters\n",
    "    ----------\n",
    "    df : Pandas DataFrame (8, 3)\n",
    "        A DataFrame with revenue and attrition information\n",
    "    weeks : Numpy array \n",
    "        Array of shape (8,) with values 1 through 8\n",
    "    cogs : float\n",
    "        Cost of Goods Sold\n",
    "    wd: float\n",
    "        Weekly discount rate\n",
    "        \n",
    "    Returns\n",
    "    -------\n",
    "    Pandas series of shape (8,)\n",
    "        CLV values calculate for week 1 through week 8\n",
    "\n",
    "    \"\"\"\n",
    "    \n",
    "    # insert your code\n",
    "    df['churn'] = df['attr'].shift().fillna(0)\n",
    "    profit_subcribed = df['rev_sub'] - df['rev_sub']*cogs\n",
    "    profit_unsubscribed = df['rev_unsub'] - df['rev_unsub']*cogs\n",
    "    probability_subscribed = (1 - df['churn']).cumprod()\n",
    "    probability_unsubscribed = 1 - probability_subscribed\n",
    "    expected_profit = profit_subcribed*probability_subscribed + profit_unsubscribed*probability_unsubscribed\n",
    "    pv_expected_profit = expected_profit/(1+wd)**weeks\n",
    "    clv = pv_expected_profit.cumsum()\n",
    "\n",
    "    return clv"
   ]
  },
  {
   "cell_type": "code",
   "execution_count": 62,
   "metadata": {},
   "outputs": [
    {
     "name": "stderr",
     "output_type": "stream",
     "text": [
      "<ipython-input-61-87b2d73f7170>:26: SettingWithCopyWarning: \n",
      "A value is trying to be set on a copy of a slice from a DataFrame.\n",
      "Try using .loc[row_indexer,col_indexer] = value instead\n",
      "\n",
      "See the caveats in the documentation: https://pandas.pydata.org/pandas-docs/stable/user_guide/indexing.html#returning-a-view-versus-a-copy\n",
      "  df['churn'] = df['attr'].shift().fillna(0)\n"
     ]
    },
    {
     "data": {
      "text/plain": [
       "Week 1    0.115788\n",
       "Week 2    0.239116\n",
       "Week 3    0.357969\n",
       "Week 4     0.48408\n",
       "Week 5    0.597913\n",
       "Week 6    0.699639\n",
       "Week 7    0.804652\n",
       "Week 8    0.913132\n",
       "dtype: object"
      ]
     },
     "execution_count": 62,
     "metadata": {},
     "output_type": "execute_result"
    }
   ],
   "source": [
    "clv_calc(freq1, weeks, 0.6, weekly_discount_rate)"
   ]
  },
  {
   "cell_type": "code",
   "execution_count": 63,
   "metadata": {},
   "outputs": [
    {
     "name": "stderr",
     "output_type": "stream",
     "text": [
      "<ipython-input-61-87b2d73f7170>:26: SettingWithCopyWarning: \n",
      "A value is trying to be set on a copy of a slice from a DataFrame.\n",
      "Try using .loc[row_indexer,col_indexer] = value instead\n",
      "\n",
      "See the caveats in the documentation: https://pandas.pydata.org/pandas-docs/stable/user_guide/indexing.html#returning-a-view-versus-a-copy\n",
      "  df['churn'] = df['attr'].shift().fillna(0)\n"
     ]
    },
    {
     "data": {
      "text/html": [
       "<div>\n",
       "<style scoped>\n",
       "    .dataframe tbody tr th:only-of-type {\n",
       "        vertical-align: middle;\n",
       "    }\n",
       "\n",
       "    .dataframe tbody tr th {\n",
       "        vertical-align: top;\n",
       "    }\n",
       "\n",
       "    .dataframe thead th {\n",
       "        text-align: right;\n",
       "    }\n",
       "</style>\n",
       "<table border=\"1\" class=\"dataframe\">\n",
       "  <thead>\n",
       "    <tr style=\"text-align: right;\">\n",
       "      <th></th>\n",
       "      <th>weeks</th>\n",
       "      <th>freq1</th>\n",
       "      <th>freq2</th>\n",
       "      <th>freq3</th>\n",
       "      <th>freq4</th>\n",
       "      <th>freq5</th>\n",
       "    </tr>\n",
       "  </thead>\n",
       "  <tbody>\n",
       "    <tr>\n",
       "      <th>0</th>\n",
       "      <td>1</td>\n",
       "      <td>0.115788</td>\n",
       "      <td>0.139744</td>\n",
       "      <td>0.147729</td>\n",
       "      <td>0.143736</td>\n",
       "      <td>0.143736</td>\n",
       "    </tr>\n",
       "    <tr>\n",
       "      <th>1</th>\n",
       "      <td>2</td>\n",
       "      <td>0.239116</td>\n",
       "      <td>0.259042</td>\n",
       "      <td>0.26988</td>\n",
       "      <td>0.276937</td>\n",
       "      <td>0.271861</td>\n",
       "    </tr>\n",
       "    <tr>\n",
       "      <th>2</th>\n",
       "      <td>3</td>\n",
       "      <td>0.357969</td>\n",
       "      <td>0.397294</td>\n",
       "      <td>0.409082</td>\n",
       "      <td>0.391324</td>\n",
       "      <td>0.384678</td>\n",
       "    </tr>\n",
       "    <tr>\n",
       "      <th>3</th>\n",
       "      <td>4</td>\n",
       "      <td>0.48408</td>\n",
       "      <td>0.550043</td>\n",
       "      <td>0.558557</td>\n",
       "      <td>0.530951</td>\n",
       "      <td>0.52218</td>\n",
       "    </tr>\n",
       "    <tr>\n",
       "      <th>4</th>\n",
       "      <td>5</td>\n",
       "      <td>0.597913</td>\n",
       "      <td>0.670942</td>\n",
       "      <td>0.681991</td>\n",
       "      <td>0.670071</td>\n",
       "      <td>0.649644</td>\n",
       "    </tr>\n",
       "    <tr>\n",
       "      <th>5</th>\n",
       "      <td>6</td>\n",
       "      <td>0.699639</td>\n",
       "      <td>0.798453</td>\n",
       "      <td>0.80956</td>\n",
       "      <td>0.786305</td>\n",
       "      <td>0.773973</td>\n",
       "    </tr>\n",
       "    <tr>\n",
       "      <th>6</th>\n",
       "      <td>7</td>\n",
       "      <td>0.804652</td>\n",
       "      <td>0.932948</td>\n",
       "      <td>0.943915</td>\n",
       "      <td>0.906245</td>\n",
       "      <td>0.888073</td>\n",
       "    </tr>\n",
       "    <tr>\n",
       "      <th>7</th>\n",
       "      <td>8</td>\n",
       "      <td>0.913132</td>\n",
       "      <td>1.062909</td>\n",
       "      <td>1.071311</td>\n",
       "      <td>1.026644</td>\n",
       "      <td>0.994697</td>\n",
       "    </tr>\n",
       "  </tbody>\n",
       "</table>\n",
       "</div>"
      ],
      "text/plain": [
       "   weeks     freq1     freq2     freq3     freq4     freq5\n",
       "0      1  0.115788  0.139744  0.147729  0.143736  0.143736\n",
       "1      2  0.239116  0.259042   0.26988  0.276937  0.271861\n",
       "2      3  0.357969  0.397294  0.409082  0.391324  0.384678\n",
       "3      4   0.48408  0.550043  0.558557  0.530951   0.52218\n",
       "4      5  0.597913  0.670942  0.681991  0.670071  0.649644\n",
       "5      6  0.699639  0.798453   0.80956  0.786305  0.773973\n",
       "6      7  0.804652  0.932948  0.943915  0.906245  0.888073\n",
       "7      8  0.913132  1.062909  1.071311  1.026644  0.994697"
      ]
     },
     "execution_count": 63,
     "metadata": {},
     "output_type": "execute_result"
    }
   ],
   "source": [
    "# call the 'clv_calc` function to create a pandas dataframe `CLV8` \n",
    "# with shape (8, 6). One of the columns should be called 'weeks'\n",
    "# and the others 'freq1', 'freq2', etc.\n",
    "\n",
    "df_1 = clv_calc(freq1, weeks, cogs, weekly_discount_rate).to_frame().rename(columns={0:'freq1'}).reset_index(drop=True)\n",
    "df_2 = clv_calc(freq2, weeks, cogs, weekly_discount_rate).to_frame().rename(columns={0:'freq2'}).reset_index(drop=True)\n",
    "df_3 = clv_calc(freq3, weeks, cogs, weekly_discount_rate).to_frame().rename(columns={0:'freq3'}).reset_index(drop=True)\n",
    "df_4 = clv_calc(freq4, weeks, cogs, weekly_discount_rate).to_frame().rename(columns={0:'freq4'}).reset_index(drop=True)\n",
    "df_5 = clv_calc(freq5, weeks, cogs, weekly_discount_rate).to_frame().rename(columns={0:'freq5'}).reset_index(drop=True)\n",
    "week_df = pd.DataFrame(weeks).rename(columns={0:'weeks'})\n",
    "CLV8 = pd.concat([week_df, df_1, df_2, df_3, df_4, df_5], axis=1)\n",
    "CLV8"
   ]
  },
  {
   "cell_type": "markdown",
   "metadata": {},
   "source": [
    "### Question 2: Create a line graph of the CLV values for each plan change over the 8 week period. Your code should create a single plot with 5 lines (2 points)"
   ]
  },
  {
   "cell_type": "code",
   "execution_count": 83,
   "metadata": {},
   "outputs": [
    {
     "data": {
      "image/png": "[encoded data removed]",
      "text/plain": [
       "<Figure size 422.375x360 with 1 Axes>"
      ]
     },
     "metadata": {
      "needs_background": "light"
     },
     "output_type": "display_data"
    }
   ],
   "source": [
    "# use seaborn to create a line chart that shows CLV over the 8 week period\n",
    "# for each of the 5 email frequencies (i.e., 1 plot with 5 lines)\n",
    "\n",
    "\n",
    "long_df = CLV8.melt('weeks', var_name='freq', value_name='CLV') # convert to long (tidy) form\n",
    "fig = sns.catplot(x=\"weeks\", y=\"CLV\", hue='freq', data=long_df, kind='point')\n"
   ]
  },
  {
   "cell_type": "markdown",
   "metadata": {},
   "source": [
    "### Question 3: What e-mail frequency should Pentathlon adopt based on the available data? (6 points)"
   ]
  },
  {
   "cell_type": "markdown",
   "metadata": {},
   "source": [
    "... motivate your recommendation here ...\n",
    "CLV for freq 3 is highest, thus the company should choose to send 3 emails per week"
   ]
  },
  {
   "cell_type": "markdown",
   "metadata": {},
   "source": [
    "### Question 4: What e-mail frequency would you recommend if you considered a longer time horizon?"
   ]
  },
  {
   "cell_type": "markdown",
   "metadata": {},
   "source": [
    "... motivate your recommendation here ...\n",
    "I recommend sending 2 emails per week, because frequency 2 has a comparatively lower churn rate, \n",
    "and the revenue is not too bad, which can generate better CLV in the long run."
   ]
  },
  {
   "cell_type": "markdown",
   "metadata": {},
   "source": [
    "### Question 5: CLV over 104 weeks (4 points)\n",
    "\n",
    "Calculate the CLV for each of the 5 plans after 104 weeks using the average churn and revenue numbers from `pentathlon-2-avg.csv` in the git repo."
   ]
  },
  {
   "cell_type": "code",
   "execution_count": 65,
   "metadata": {},
   "outputs": [
    {
     "data": {
      "text/html": [
       "<div>\n",
       "<style scoped>\n",
       "    .dataframe tbody tr th:only-of-type {\n",
       "        vertical-align: middle;\n",
       "    }\n",
       "\n",
       "    .dataframe tbody tr th {\n",
       "        vertical-align: top;\n",
       "    }\n",
       "\n",
       "    .dataframe thead th {\n",
       "        text-align: right;\n",
       "    }\n",
       "</style>\n",
       "<table border=\"1\" class=\"dataframe\">\n",
       "  <thead>\n",
       "    <tr style=\"text-align: right;\">\n",
       "      <th></th>\n",
       "      <th>email_freq</th>\n",
       "      <th>schurn</th>\n",
       "      <th>rev_sub</th>\n",
       "      <th>rev_unsub</th>\n",
       "    </tr>\n",
       "  </thead>\n",
       "  <tbody>\n",
       "    <tr>\n",
       "      <th>3</th>\n",
       "      <td>freq4</td>\n",
       "      <td>0.03665</td>\n",
       "      <td>0.355157</td>\n",
       "      <td>0.138084</td>\n",
       "    </tr>\n",
       "  </tbody>\n",
       "</table>\n",
       "</div>"
      ],
      "text/plain": [
       "  email_freq   schurn   rev_sub rev_unsub\n",
       "3      freq4  0.03665  0.355157  0.138084"
      ]
     },
     "execution_count": 65,
     "metadata": {},
     "output_type": "execute_result"
    }
   ],
   "source": [
    "# load input data for simulation here\n",
    "sim_clv = pd.read_csv('data/pentathlon-2-avg.csv')\n",
    "\n",
    "freq1_104 = sim_clv.iloc[0, :].to_frame().transpose()\n",
    "freq2_104 = sim_clv.iloc[1, :].to_frame().transpose()\n",
    "freq3_104 = sim_clv.iloc[2, :].to_frame().transpose()\n",
    "freq4_104 = sim_clv.iloc[3, :].to_frame().transpose()\n",
    "freq5_104 = sim_clv.iloc[4, :].to_frame().transpose()\n",
    "\n",
    "freq4_104"
   ]
  },
  {
   "cell_type": "code",
   "execution_count": 68,
   "metadata": {},
   "outputs": [
    {
     "data": {
      "text/plain": [
       "0.0018345688392329418"
      ]
     },
     "execution_count": 68,
     "metadata": {},
     "output_type": "execute_result"
    }
   ],
   "source": [
    "# list your assumptions here\n",
    "weeks104 = np.arange(1, 104 + 1)\n",
    "cogs = 0.6 \n",
    "annual_discount_rate = 0.1\n",
    "weekly_discount_rate = (1 + annual_discount_rate)**(1/52) - 1\n",
    "weekly_discount_rate"
   ]
  },
  {
   "cell_type": "code",
   "execution_count": 69,
   "metadata": {},
   "outputs": [],
   "source": [
    "# weeks104"
   ]
  },
  {
   "cell_type": "code",
   "execution_count": 70,
   "metadata": {},
   "outputs": [],
   "source": [
    "# calculate CLV for e-mail frequency 4 (i.e., freq4)\n",
    "# this will require calculating each of the following variables\n",
    "# each calculated object below should be either a float or of shape (104,)"
   ]
  },
  {
   "cell_type": "code",
   "execution_count": 77,
   "metadata": {},
   "outputs": [
    {
     "data": {
      "text/plain": [
       "array([0.14180261, 0.28017488, 0.41524488, 0.54713579, 0.67596604,\n",
       "       0.80184954, 0.92489582, 1.04521021, 1.162894  , 1.27804459,\n",
       "       1.39075567, 1.50111731, 1.60921613, 1.71513544, 1.81895535,\n",
       "       1.9207529 , 2.02060219, 2.11857446, 2.21473822, 2.30915937,\n",
       "       2.40190129, 2.4930249 , 2.58258881, 2.67064939, 2.75726084,\n",
       "       2.84247528, 2.92634284, 3.00891174, 3.09022835, 3.17033725,\n",
       "       3.24928132, 3.32710182, 3.40383841, 3.47952923, 3.55421098,\n",
       "       3.62791894, 3.70068706, 3.77254796, 3.84353304, 3.9136725 ,\n",
       "       3.98299537, 4.05152959, 4.11930201, 4.18633848, 4.25266385,\n",
       "       4.31830202, 4.38327598, 4.44760785, 4.51131889, 4.57442957,\n",
       "       4.63695957, 4.69892781, 4.76035251, 4.82125118, 4.88164068,\n",
       "       4.94153721, 5.00095636, 5.05991313, 5.11842195, 5.1764967 ,\n",
       "       5.23415074, 5.29139691, 5.34824757, 5.40471461, 5.46080947,\n",
       "       5.51654316, 5.57192627, 5.62696899, 5.68168111, 5.73607207,\n",
       "       5.79015096, 5.8439265 , 5.89740709, 5.95060083, 6.00351549,\n",
       "       6.05615857, 6.10853728, 6.16065855, 6.21252905, 6.26415522,\n",
       "       6.31554324, 6.36669905, 6.4176284 , 6.46833679, 6.51882954,\n",
       "       6.56911176, 6.61918837, 6.6690641 , 6.71874352, 6.76823103,\n",
       "       6.81753084, 6.86664703, 6.91558353, 6.96434412, 7.01293242,\n",
       "       7.06135194, 7.10960606, 7.15769803, 7.20563097, 7.25340792,\n",
       "       7.30103176, 7.34850531, 7.39583126, 7.44301221])"
      ]
     },
     "execution_count": 77,
     "metadata": {},
     "output_type": "execute_result"
    }
   ],
   "source": [
    "#churn (set week 1 == 0)\n",
    "profit_subcribed104 = (freq4_104['rev_sub']* (1-cogs)).repeat(weeks104.size)\n",
    "profit_subcribed104.name=False\n",
    "profit_unsubscribed104 = (freq4_104['rev_unsub'] * (1-cogs)).repeat(weeks104.size)\n",
    "profit_unsubscribed104.name=False\n",
    "churn_104 = freq4_104['schurn'].repeat(weeks104.size)\n",
    "probability_subscribed104 = (1 - churn_104).cumprod()  \n",
    "probability_subscribed104\n",
    "probability_subscribed104 = pd.concat([pd.Series([1]), probability_subscribed104]).iloc[:-1]\n",
    "probability_unsubscribed104 = 1 - probability_subscribed104\n",
    "expected_profit104 = np.multiply(probability_subscribed104.tolist(),profit_subcribed104.tolist())+np.multiply(probability_unsubscribed104.tolist(),profit_unsubscribed104.tolist())\n",
    "pv_expected_profit104 = expected_profit104/(1+weekly_discount_rate)**weeks104\n",
    "clv104 = pv_expected_profit104.cumsum()\n",
    "clv104"
   ]
  },
  {
   "cell_type": "code",
   "execution_count": 78,
   "metadata": {},
   "outputs": [],
   "source": [
    "# calculate CLV for each of the 5 e-mail frequencies and combine the result in a dataframe\n",
    "# define a function \"sim_csv_calc\" to avoid repetitive code\n",
    "# note that the function must be defined in a cell above the code that calls the function"
   ]
  },
  {
   "cell_type": "code",
   "execution_count": 79,
   "metadata": {},
   "outputs": [
    {
     "data": {
      "text/html": [
       "<div>\n",
       "<style scoped>\n",
       "    .dataframe tbody tr th:only-of-type {\n",
       "        vertical-align: middle;\n",
       "    }\n",
       "\n",
       "    .dataframe tbody tr th {\n",
       "        vertical-align: top;\n",
       "    }\n",
       "\n",
       "    .dataframe thead th {\n",
       "        text-align: right;\n",
       "    }\n",
       "</style>\n",
       "<table border=\"1\" class=\"dataframe\">\n",
       "  <thead>\n",
       "    <tr style=\"text-align: right;\">\n",
       "      <th></th>\n",
       "      <th>email_freq</th>\n",
       "      <th>schurn</th>\n",
       "      <th>rev_sub</th>\n",
       "      <th>rev_unsub</th>\n",
       "    </tr>\n",
       "  </thead>\n",
       "  <tbody>\n",
       "    <tr>\n",
       "      <th>3</th>\n",
       "      <td>freq4</td>\n",
       "      <td>0.03665</td>\n",
       "      <td>0.355157</td>\n",
       "      <td>0.138084</td>\n",
       "    </tr>\n",
       "  </tbody>\n",
       "</table>\n",
       "</div>"
      ],
      "text/plain": [
       "  email_freq   schurn   rev_sub rev_unsub\n",
       "3      freq4  0.03665  0.355157  0.138084"
      ]
     },
     "execution_count": 79,
     "metadata": {},
     "output_type": "execute_result"
    }
   ],
   "source": [
    "freq4_104"
   ]
  },
  {
   "cell_type": "code",
   "execution_count": 80,
   "metadata": {},
   "outputs": [],
   "source": [
    "def sim_clv_calc(df, weeks, cogs, wd):\n",
    "    \"\"\"\n",
    "    Calculate the cumulative present value of profits\n",
    "    and CLV for a pandas data frame with simulated \n",
    "    subscriber churn over a 104 week period\n",
    "    \n",
    "    Parameters\n",
    "    ----------\n",
    "    df : Pandas DataFrame (1, 4)\n",
    "        A DataFrame with revenue and attrition information\n",
    "    weeks : Numpy array \n",
    "        Array of shape (n,) with values 1 through n\n",
    "    cogs : float\n",
    "        Cost of Goods Sold\n",
    "    wd: float\n",
    "        Weekly discount rate\n",
    "        \n",
    "    Returns\n",
    "    -------\n",
    "    Pandas series of shape (n,)\n",
    "        CLV values calculate for week 1 through week n\n",
    "\n",
    "    \"\"\"\n",
    "\n",
    "    # insert your code\n",
    "    \n",
    "    profit_subcribed104 = (df['rev_sub']* (1-cogs)).repeat(weeks.size)\n",
    "    profit_subcribed104.name=False\n",
    "    profit_unsubscribed104 = (df['rev_unsub'] * (1-cogs)).repeat(weeks.size)\n",
    "    profit_unsubscribed104.name=False\n",
    "    prob_sub104 = df['schurn'].repeat(weeks.size)\n",
    "    probability_subscribed104 = (1 - prob_sub104).cumprod()  \n",
    "    probability_subscribed104 = pd.concat([pd.Series([1]), probability_subscribed104]).iloc[:-1]\n",
    "    probability_unsubscribed104 = 1 - probability_subscribed104\n",
    "\n",
    "    expected_profit104 = (np.multiply(profit_subcribed104.to_frame(), probability_subscribed104.to_frame()) + np.multiply(profit_unsubscribed104.to_frame(), probability_unsubscribed104.to_frame())).squeeze(axis=1) \n",
    "    # unsubscribe 要不要乘以機率啊 ？？？？？？？\n",
    "    pv_expected_profit104 = expected_profit104/(1+wd)**weeks\n",
    "    clv = pv_expected_profit104.cumsum()\n",
    "    clv\n",
    "    \n",
    "    return clv"
   ]
  },
  {
   "cell_type": "code",
   "execution_count": 82,
   "metadata": {},
   "outputs": [
    {
     "name": "stderr",
     "output_type": "stream",
     "text": [
      "<ipython-input-80-ca658fe85c0a>:36: FutureWarning: Calling a ufunc on non-aligned DataFrames (or DataFrame/Series combination). Currently, the indices are ignored and the result takes the index/columns of the first DataFrame. In the future , the DataFrames/Series will be aligned before applying the ufunc.\n",
      "Convert one of the arguments to a NumPy array (eg 'ufunc(df1, np.asarray(df2)') to keep the current behaviour, or align manually (eg 'df1, df2 = df1.align(df2)') before passing to the ufunc to obtain the future behaviour and silence this warning.\n",
      "  expected_profit104 = (np.multiply(profit_subcribed104.to_frame(), probability_subscribed104.to_frame()) + np.multiply(profit_unsubscribed104.to_frame(), probability_unsubscribed104.to_frame())).squeeze(axis=1)\n"
     ]
    },
    {
     "data": {
      "text/html": [
       "<div>\n",
       "<style scoped>\n",
       "    .dataframe tbody tr th:only-of-type {\n",
       "        vertical-align: middle;\n",
       "    }\n",
       "\n",
       "    .dataframe tbody tr th {\n",
       "        vertical-align: top;\n",
       "    }\n",
       "\n",
       "    .dataframe thead th {\n",
       "        text-align: right;\n",
       "    }\n",
       "</style>\n",
       "<table border=\"1\" class=\"dataframe\">\n",
       "  <thead>\n",
       "    <tr style=\"text-align: right;\">\n",
       "      <th></th>\n",
       "      <th>weeks</th>\n",
       "      <th>freq1_104</th>\n",
       "      <th>freq2_104</th>\n",
       "      <th>freq3_104</th>\n",
       "      <th>freq4_104</th>\n",
       "      <th>freq5_104</th>\n",
       "    </tr>\n",
       "  </thead>\n",
       "  <tbody>\n",
       "    <tr>\n",
       "      <th>0</th>\n",
       "      <td>1</td>\n",
       "      <td>0.115789</td>\n",
       "      <td>0.135754</td>\n",
       "      <td>0.142235</td>\n",
       "      <td>0.141803</td>\n",
       "      <td>0.143251</td>\n",
       "    </tr>\n",
       "    <tr>\n",
       "      <th>1</th>\n",
       "      <td>2</td>\n",
       "      <td>0.231097</td>\n",
       "      <td>0.270726</td>\n",
       "      <td>0.282201</td>\n",
       "      <td>0.280175</td>\n",
       "      <td>0.281171</td>\n",
       "    </tr>\n",
       "    <tr>\n",
       "      <th>2</th>\n",
       "      <td>3</td>\n",
       "      <td>0.345926</td>\n",
       "      <td>0.404922</td>\n",
       "      <td>0.419954</td>\n",
       "      <td>0.415245</td>\n",
       "      <td>0.414061</td>\n",
       "    </tr>\n",
       "    <tr>\n",
       "      <th>3</th>\n",
       "      <td>4</td>\n",
       "      <td>0.460279</td>\n",
       "      <td>0.538348</td>\n",
       "      <td>0.555548</td>\n",
       "      <td>0.547136</td>\n",
       "      <td>0.542207</td>\n",
       "    </tr>\n",
       "    <tr>\n",
       "      <th>4</th>\n",
       "      <td>5</td>\n",
       "      <td>0.574159</td>\n",
       "      <td>0.671009</td>\n",
       "      <td>0.689036</td>\n",
       "      <td>0.675966</td>\n",
       "      <td>0.665875</td>\n",
       "    </tr>\n",
       "    <tr>\n",
       "      <th>...</th>\n",
       "      <td>...</td>\n",
       "      <td>...</td>\n",
       "      <td>...</td>\n",
       "      <td>...</td>\n",
       "      <td>...</td>\n",
       "      <td>...</td>\n",
       "    </tr>\n",
       "    <tr>\n",
       "      <th>99</th>\n",
       "      <td>100</td>\n",
       "      <td>9.547118</td>\n",
       "      <td>10.48072</td>\n",
       "      <td>8.33319</td>\n",
       "      <td>7.253408</td>\n",
       "      <td>6.360057</td>\n",
       "    </tr>\n",
       "    <tr>\n",
       "      <th>100</th>\n",
       "      <td>101</td>\n",
       "      <td>9.625036</td>\n",
       "      <td>10.560623</td>\n",
       "      <td>8.387553</td>\n",
       "      <td>7.301032</td>\n",
       "      <td>6.403855</td>\n",
       "    </tr>\n",
       "    <tr>\n",
       "      <th>101</th>\n",
       "      <td>102</td>\n",
       "      <td>9.702663</td>\n",
       "      <td>10.640142</td>\n",
       "      <td>8.441666</td>\n",
       "      <td>7.348505</td>\n",
       "      <td>6.447561</td>\n",
       "    </tr>\n",
       "    <tr>\n",
       "      <th>102</th>\n",
       "      <td>103</td>\n",
       "      <td>9.779999</td>\n",
       "      <td>10.719281</td>\n",
       "      <td>8.495534</td>\n",
       "      <td>7.395831</td>\n",
       "      <td>6.491173</td>\n",
       "    </tr>\n",
       "    <tr>\n",
       "      <th>103</th>\n",
       "      <td>104</td>\n",
       "      <td>9.857046</td>\n",
       "      <td>10.798043</td>\n",
       "      <td>8.54916</td>\n",
       "      <td>7.443012</td>\n",
       "      <td>6.534694</td>\n",
       "    </tr>\n",
       "  </tbody>\n",
       "</table>\n",
       "<p>104 rows × 6 columns</p>\n",
       "</div>"
      ],
      "text/plain": [
       "     weeks freq1_104  freq2_104 freq3_104 freq4_104 freq5_104\n",
       "0        1  0.115789   0.135754  0.142235  0.141803  0.143251\n",
       "1        2  0.231097   0.270726  0.282201  0.280175  0.281171\n",
       "2        3  0.345926   0.404922  0.419954  0.415245  0.414061\n",
       "3        4  0.460279   0.538348  0.555548  0.547136  0.542207\n",
       "4        5  0.574159   0.671009  0.689036  0.675966  0.665875\n",
       "..     ...       ...        ...       ...       ...       ...\n",
       "99     100  9.547118   10.48072   8.33319  7.253408  6.360057\n",
       "100    101  9.625036  10.560623  8.387553  7.301032  6.403855\n",
       "101    102  9.702663  10.640142  8.441666  7.348505  6.447561\n",
       "102    103  9.779999  10.719281  8.495534  7.395831  6.491173\n",
       "103    104  9.857046  10.798043   8.54916  7.443012  6.534694\n",
       "\n",
       "[104 rows x 6 columns]"
      ]
     },
     "execution_count": 82,
     "metadata": {},
     "output_type": "execute_result"
    }
   ],
   "source": [
    "# calculate CLV for each of the 5 e-mail frequencies and combine the result in a dataframe\n",
    "# with shape (104, 6) using your sim_clv_calc function\n",
    "# the column names should be freq1-freq5 and weeks\n",
    "\n",
    "df_1_104 = sim_clv_calc(freq1_104, weeks104, cogs, weekly_discount_rate).to_frame().rename(columns={0:'freq1_104'}).reset_index(drop=True)\n",
    "df_2_104 = sim_clv_calc(freq2_104, weeks104, cogs, weekly_discount_rate).to_frame().rename(columns={0:'freq2_104'}).reset_index(drop=True)\n",
    "df_3_104 = sim_clv_calc(freq3_104, weeks104, cogs, weekly_discount_rate).to_frame().rename(columns={0:'freq3_104'}).reset_index(drop=True)\n",
    "df_4_104 = sim_clv_calc(freq4_104, weeks104, cogs, weekly_discount_rate).to_frame().rename(columns={0:'freq4_104'}).reset_index(drop=True)\n",
    "df_5_104 = sim_clv_calc(freq5_104, weeks104, cogs, weekly_discount_rate).to_frame().rename(columns={0:'freq5_104'}).reset_index(drop=True)\n",
    "week_df_104 = pd.DataFrame(weeks104).rename(columns={0:'weeks'})\n",
    "\n",
    "CLV104 = pd.concat([week_df_104, df_1_104, df_2_104, df_3_104, df_4_104, df_5_104], axis=1)\n",
    "CLV104"
   ]
  },
  {
   "cell_type": "markdown",
   "metadata": {},
   "source": [
    "### Question 6 (2 points)\n",
    "\n",
    "Create a line chart that shows CLV over the 104 week period for each of the 5 email frequencies (i.e., 1 plot with 5 lines)"
   ]
  },
  {
   "cell_type": "code",
   "execution_count": 88,
   "metadata": {},
   "outputs": [
    {
     "data": {
      "image/png": "[encoded data removed]",
      "text/plain": [
       "<Figure size 446.25x360 with 1 Axes>"
      ]
     },
     "metadata": {
      "needs_background": "light"
     },
     "output_type": "display_data"
    }
   ],
   "source": [
    "long_df = CLV104.melt('weeks', var_name='freq', value_name='CLV') # convert to long (tidy) form\n",
    "fig = sns.catplot(x=\"weeks\", y=\"CLV\", hue='freq', data=long_df, kind='point')\n"
   ]
  },
  {
   "cell_type": "markdown",
   "metadata": {},
   "source": [
    "### Question 7 (2 points)\n",
    "\n",
    "Are your results consistent with your answer to question 3? Why (or why not)? "
   ]
  },
  {
   "cell_type": "markdown",
   "metadata": {},
   "source": [
    "... provide discussion here ...\n",
    "The result is consistent to question 3, which means that "
   ]
  },
  {
   "cell_type": "markdown",
   "metadata": {},
   "source": [
    "### Question 8 (5 points)\n",
    "\n",
    "Discuss at least two limitations of the experiment. How would you address these limitations?"
   ]
  },
  {
   "cell_type": "markdown",
   "metadata": {},
   "source": [
    "... discuss limitations here ...\n",
    "1. We take the revenue generated by unsubscribed users into account, but these users no longer received emails, this would confound the experiment. We should only focus on the \"average revenue generated by active users\", instead of the total revenue.\n",
    "\n",
    "2. We should run power analysis before the experiment to check how long the experiment should run, how big the sample size should be.\n",
    "\n",
    "3. We should make sure that there is no other external factors that might cause the revenue to rise and fall. For example, the experiment is not run during holiday season, no other changes are running at the same time. "
   ]
  }
 ],
 "metadata": {
  "jupytext": {
   "cell_metadata_filter": "-all",
   "main_language": "python",
   "notebook_metadata_filter": "-all"
  },
  "kernelspec": {
   "display_name": "Python 3",
   "language": "python",
   "name": "python3"
  },
  "language_info": {
   "codemirror_mode": {
    "name": "ipython",
    "version": 3
   },
   "file_extension": ".py",
   "mimetype": "text/x-python",
   "name": "python",
   "nbconvert_exporter": "python",
   "pygments_lexer": "ipython3",
   "version": "3.8.5"
  }
 },
 "nbformat": 4,
 "nbformat_minor": 4
}
